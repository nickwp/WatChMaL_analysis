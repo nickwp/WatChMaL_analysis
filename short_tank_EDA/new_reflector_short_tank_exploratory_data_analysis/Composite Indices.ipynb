{
 "cells": [
  {
   "cell_type": "code",
   "execution_count": 1,
   "metadata": {},
   "outputs": [],
   "source": [
    "%load_ext autoreload\n",
    "%matplotlib inline\n",
    "%autoreload 2"
   ]
  },
  {
   "cell_type": "code",
   "execution_count": 2,
   "metadata": {},
   "outputs": [],
   "source": [
    "import sys\n",
    "import os\n",
    "import h5py\n",
    "import glob\n",
    "import numpy as np\n",
    "import matplotlib.pyplot as plt\n",
    "import matplotlib.colors as mcolors"
   ]
  },
  {
   "cell_type": "code",
   "execution_count": 17,
   "metadata": {},
   "outputs": [],
   "source": [
    "idxs         = np.load('/fast_scratch/WatChMaL/data/IWCD_mPMT_Short_3M_idxs.npz', allow_pickle=True)\n",
    "OD_veto_idxs = np.load('/fast_scratch/WatChMaL/data/IWCD_mPMT_Short_3M_OD_veto_idxs.npz', allow_pickle=True)"
   ]
  },
  {
   "cell_type": "code",
   "execution_count": 18,
   "metadata": {},
   "outputs": [],
   "source": [
    "np.savez('/fast_scratch/WatChMaL/data/IWCD_mPMT_Short_2_class_eg_9M_full_train_OD_veto_test_idxs.npz', train_idxs=idxs['train_idxs'], \n",
    "                                                                                     val_idxs=idxs['val_idxs'], \n",
    "                                                                                     test_idxs=OD_veto_idxs['test_idxs'])"
   ]
  },
  {
   "cell_type": "code",
   "execution_count": 19,
   "metadata": {},
   "outputs": [],
   "source": [
    "composite_idxs = np.load('/fast_scratch/WatChMaL/data/IWCD_mPMT_Short_2_class_eg_9M_full_train_OD_veto_test_idxs.npz', allow_pickle=True)"
   ]
  },
  {
   "cell_type": "code",
   "execution_count": 20,
   "metadata": {},
   "outputs": [
    {
     "name": "stdout",
     "output_type": "stream",
     "text": [
      "(14751839,)\n",
      "(589941,)\n",
      "(2105214,)\n"
     ]
    }
   ],
   "source": [
    "print(composite_idxs['train_idxs'].shape)\n",
    "print(composite_idxs['val_idxs'].shape)\n",
    "print(composite_idxs['test_idxs'].shape)"
   ]
  },
  {
   "cell_type": "code",
   "execution_count": null,
   "metadata": {},
   "outputs": [],
   "source": [
    "print()"
   ]
  }
 ],
 "metadata": {
  "kernelspec": {
   "display_name": "Python 3",
   "language": "python",
   "name": "python3"
  },
  "language_info": {
   "codemirror_mode": {
    "name": "ipython",
    "version": 3
   },
   "file_extension": ".py",
   "mimetype": "text/x-python",
   "name": "python",
   "nbconvert_exporter": "python",
   "pygments_lexer": "ipython3",
   "version": "3.6.10"
  }
 },
 "nbformat": 4,
 "nbformat_minor": 4
}
