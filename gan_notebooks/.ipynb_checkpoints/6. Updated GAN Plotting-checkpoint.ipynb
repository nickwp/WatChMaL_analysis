{
 "cells": [
  {
   "cell_type": "code",
   "execution_count": 1,
   "metadata": {},
   "outputs": [],
   "source": [
    "%load_ext autoreload\n",
    "%matplotlib inline\n",
    "%autoreload 2"
   ]
  },
  {
   "cell_type": "code",
   "execution_count": 2,
   "metadata": {},
   "outputs": [],
   "source": [
    "import sys\n",
    "import os\n",
    "import h5py\n",
    "import glob\n",
    "import copy\n",
    "import numpy as np\n",
    "import matplotlib.pyplot as plt\n",
    "import matplotlib.colors as mcolors"
   ]
  },
  {
   "cell_type": "code",
   "execution_count": 3,
   "metadata": {},
   "outputs": [],
   "source": [
    "if '../WatChMaL' not in sys.path:\n",
    "    sys.path.append('../WatChMaL')\n",
    "\n",
    "from watchmal.dataset.cnn_mpmt.cnn_mpmt_dataset import CNNmPMTDataset\n",
    "#from analysis.gan_plot_utils import disp_gan_learn_hist"
   ]
  },
  {
   "cell_type": "code",
   "execution_count": 4,
   "metadata": {},
   "outputs": [],
   "source": [
    "def channel_to_position(channel):\n",
    "    channel = channel % 19 \n",
    "    theta = (channel<12)*2*np.pi*channel/12 + ((channel >= 12) & (channel<18))*2*np.pi*(channel-12)/6\n",
    "    radius = 0.2*(channel<18)+0.2*(channel<12)\n",
    "    position = [radius*np.cos(theta), radius*np.sin(theta)] # note this is [y, x] or [row, column]\n",
    "    return position"
   ]
  },
  {
   "cell_type": "markdown",
   "metadata": {},
   "source": [
    "## Testing with short tank data"
   ]
  },
  {
   "cell_type": "code",
   "execution_count": null,
   "metadata": {},
   "outputs": [],
   "source": [
    "dataset_short = CNNmPMTDataset(h5file='/fast_scratch/WatChMaL/data/IWCD_mPMT_Short_emg_E0to1000MeV_digihits.h5',\n",
    "                         mpmt_positions_file='/data/WatChMaL/data/IWCDshort_mPMT_image_positions.npz',\n",
    "                         is_distributed=False)"
   ]
  },
  {
   "cell_type": "code",
   "execution_count": null,
   "metadata": {},
   "outputs": [],
   "source": [
    "data_short = dataset_short.__getitem__(8)['data']"
   ]
  },
  {
   "cell_type": "code",
   "execution_count": null,
   "metadata": {},
   "outputs": [],
   "source": [
    "print(data_short.shape)"
   ]
  },
  {
   "cell_type": "code",
   "execution_count": null,
   "metadata": {},
   "outputs": [],
   "source": [
    "def plot_event(data, mpmt_pos, old_convention=False, **plot_args):\n",
    "    #cmap.set_under(color='black')\n",
    "\n",
    "    fig = plt.figure(figsize=(20,12))\n",
    "    ax = fig.add_subplot(111)\n",
    "    \n",
    "    #ax = plt.gca()\n",
    "    \n",
    "    mpmts = ax.scatter(mpmt_pos[:, 1], mpmt_pos[:, 0], s=380, facecolors='none', edgecolors='0.2')\n",
    "    indices = np.indices(data.shape)\n",
    "    channels = indices[0].flatten()\n",
    "    positions = indices[1:].reshape(2,-1).astype(np.float64)\n",
    "    positions += channel_to_position(channels)\n",
    "    \n",
    "    if old_convention:\n",
    "        positions[1] = max(mpmt_pos[:, 1])-positions[1]\n",
    "    \n",
    "    cmap = copy.copy(plt.cm.jet)\n",
    "    ax.set_facecolor('black')\n",
    "    cmap.set_under(color='black')\n",
    "    \n",
    "    pmts = ax.scatter(positions[1], positions[0], c=data.flatten(), cmap=cmap, vmin=0.0000001, s=3, **plot_args)\n",
    "    plt.colorbar(pmts)"
   ]
  },
  {
   "cell_type": "code",
   "execution_count": null,
   "metadata": {},
   "outputs": [],
   "source": []
  },
  {
   "cell_type": "code",
   "execution_count": null,
   "metadata": {},
   "outputs": [],
   "source": [
    "# Import test events from h5 file\n",
    "data_path = \"/fast_scratch/WatChMaL/data/IWCD_mPMT_Short_emg_E0to1000MeV_digihits.h5\"\n",
    "data_file = h5py.File(data_path, \"r\")\n",
    "\n",
    "print(data_file.keys())\n",
    "\n",
    "energies   = np.array(data_file['energies'])\n",
    "angles     = np.array(data_file['angles'])\n",
    "positions  = np.array(data_file['positions'])\n",
    "labels     = np.array(data_file['labels'])"
   ]
  },
  {
   "cell_type": "code",
   "execution_count": null,
   "metadata": {},
   "outputs": [],
   "source": [
    "print(angles[8])"
   ]
  },
  {
   "cell_type": "code",
   "execution_count": null,
   "metadata": {},
   "outputs": [],
   "source": [
    "plot_event(data_short, dataset_short.mpmt_positions)#, cmap=plt.cm.gist_heat_r)"
   ]
  },
  {
   "cell_type": "code",
   "execution_count": null,
   "metadata": {},
   "outputs": [],
   "source": [
    "## Long Tank Plotting"
   ]
  },
  {
   "cell_type": "code",
   "execution_count": null,
   "metadata": {},
   "outputs": [],
   "source": [
    "dataset_long = CNNmPMTDataset(h5file='/fast_scratch/WatChMaL/data/IWCDmPMT_4pi_full_tank_pointnet.h5',\n",
    "                         mpmt_positions_file='/data/WatChMaL/data/IWCD_mPMT_image_positions.npz',\n",
    "                         is_distributed=False)"
   ]
  },
  {
   "cell_type": "code",
   "execution_count": null,
   "metadata": {},
   "outputs": [],
   "source": [
    "data_long = dataset_long.__getitem__(8)['data']"
   ]
  },
  {
   "cell_type": "code",
   "execution_count": null,
   "metadata": {},
   "outputs": [],
   "source": [
    "print(data_long.shape)"
   ]
  },
  {
   "cell_type": "code",
   "execution_count": null,
   "metadata": {},
   "outputs": [],
   "source": [
    "plot_event(data_long, dataset_long.mpmt_positions, cmap=plt.cm.gist_heat_r)"
   ]
  },
  {
   "cell_type": "code",
   "execution_count": null,
   "metadata": {},
   "outputs": [],
   "source": [
    "## GAN data loading"
   ]
  },
  {
   "cell_type": "code",
   "execution_count": null,
   "metadata": {},
   "outputs": [],
   "source": [
    "path = '/home/jtindall/WatChMaL/outputs/2021-02-28/gan/outputs'"
   ]
  },
  {
   "cell_type": "code",
   "execution_count": null,
   "metadata": {},
   "outputs": [],
   "source": [
    "fig = disp_gan_learn_hist(path)"
   ]
  },
  {
   "cell_type": "code",
   "execution_count": null,
   "metadata": {},
   "outputs": [],
   "source": [
    "image_batches = [np.load(fname,allow_pickle=True)['gen_imgs'] for fname in glob.glob(os.path.join(path,'imgs/*'))]\n",
    "print(len(image_batches))\n",
    "\n",
    "test_batch = image_batches[-1]\n",
    "print(test_batch.shape)\n",
    "\n",
    "test_image = test_batch[5]\n",
    "print(test_image.shape)"
   ]
  },
  {
   "cell_type": "code",
   "execution_count": null,
   "metadata": {},
   "outputs": [],
   "source": [
    "## GAN event plotting"
   ]
  },
  {
   "cell_type": "code",
   "execution_count": null,
   "metadata": {},
   "outputs": [],
   "source": [
    "print(len(image_batches))\n",
    "print(len(image_batches[0]))"
   ]
  },
  {
   "cell_type": "code",
   "execution_count": null,
   "metadata": {},
   "outputs": [],
   "source": [
    "#idx = 10\n",
    "batch_idx = 5\n",
    "for idx in range(len(test_batch) - 1):\n",
    "    batch = image_batches[batch_idx]\n",
    "    image_data = batch[idx]\n",
    "    \n",
    "    norm = mcolors.DivergingNorm(vmin=image_data.min(), vmax = image_data.max(), vcenter=0)\n",
    "    plot_event(image_data, dataset_long.mpmt_positions, cmap=plt.cm.BrBG, norm=norm)"
   ]
  },
  {
   "cell_type": "code",
   "execution_count": null,
   "metadata": {},
   "outputs": [],
   "source": [
    "## GAN data loading"
   ]
  },
  {
   "cell_type": "code",
   "execution_count": null,
   "metadata": {},
   "outputs": [],
   "source": [
    "path = '/home/jtindall/WatChMaL/outputs/2021-03-01/gan_wasserstein/outputs'"
   ]
  },
  {
   "cell_type": "code",
   "execution_count": null,
   "metadata": {},
   "outputs": [],
   "source": [
    "fig = disp_gan_learn_hist(path)"
   ]
  },
  {
   "cell_type": "code",
   "execution_count": null,
   "metadata": {},
   "outputs": [],
   "source": [
    "image_batches = [np.load(fname,allow_pickle=True)['gen_imgs'] for fname in glob.glob(os.path.join(path,'imgs/*'))]\n",
    "print(len(image_batches))\n",
    "\n",
    "test_batch = image_batches[-1]\n",
    "print(test_batch.shape)\n",
    "\n",
    "test_image = test_batch[5]\n",
    "print(test_image.shape)"
   ]
  },
  {
   "cell_type": "code",
   "execution_count": null,
   "metadata": {},
   "outputs": [],
   "source": [
    "## GAN event plotting"
   ]
  },
  {
   "cell_type": "code",
   "execution_count": null,
   "metadata": {},
   "outputs": [],
   "source": [
    "print(len(image_batches))\n",
    "print(len(image_batches[0]))"
   ]
  },
  {
   "cell_type": "code",
   "execution_count": null,
   "metadata": {},
   "outputs": [],
   "source": [
    "#idx = 10\n",
    "batch_idx = 5\n",
    "for idx in range(len(test_batch) - 1):\n",
    "    batch = image_batches[batch_idx]\n",
    "    image_data = batch[idx]\n",
    "    \n",
    "    norm = mcolors.DivergingNorm(vmin=image_data.min(), vmax = image_data.max(), vcenter=0)\n",
    "    plot_event(image_data, dataset_long.mpmt_positions, cmap=plt.cm.BrBG, norm=norm)"
   ]
  }
 ],
 "metadata": {
  "kernelspec": {
   "display_name": "Python 3",
   "language": "python",
   "name": "python3"
  },
  "language_info": {
   "codemirror_mode": {
    "name": "ipython",
    "version": 3
   },
   "file_extension": ".py",
   "mimetype": "text/x-python",
   "name": "python",
   "nbconvert_exporter": "python",
   "pygments_lexer": "ipython3",
   "version": "3.8.5"
  }
 },
 "nbformat": 4,
 "nbformat_minor": 4
}
