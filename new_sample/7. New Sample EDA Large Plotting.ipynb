{
 "cells": [
  {
   "cell_type": "markdown",
   "metadata": {},
   "source": [
    "# Analyzing Training, Validation, and Testing Sets\n",
    "\n",
    "Investigation of the dataset for new reflector short tank data"
   ]
  },
  {
   "cell_type": "code",
   "execution_count": 1,
   "metadata": {},
   "outputs": [],
   "source": [
    "%load_ext autoreload\n",
    "%matplotlib inline\n",
    "%autoreload 2"
   ]
  },
  {
   "cell_type": "code",
   "execution_count": 2,
   "metadata": {},
   "outputs": [],
   "source": [
    "import sys\n",
    "import os\n",
    "import h5py\n",
    "import numpy as np\n",
    "import matplotlib.pyplot as plt"
   ]
  },
  {
   "cell_type": "code",
   "execution_count": 3,
   "metadata": {},
   "outputs": [],
   "source": [
    "from tqdm import tqdm_notebook as tqdm\n",
    "from multiprocessing import Process, Pool\n",
    "import boost_histogram as bh"
   ]
  },
  {
   "cell_type": "code",
   "execution_count": 5,
   "metadata": {},
   "outputs": [
    {
     "name": "stdout",
     "output_type": "stream",
     "text": [
      "adding pardir\n"
     ]
    }
   ],
   "source": [
    "# Add the path to the parent directory to augment search for module\n",
    "\n",
    "if \"../../..\" not in sys.path:\n",
    "    print(\"adding pardir\")\n",
    "    sys.path.append(\"../../..\")\n",
    "\n",
    "from WatChMaL_analysis.short_tank_EDA.old_reflector_short_tank_exploratory_data_analysis.exploratory_data_analysis_utils import *"
   ]
  },
  {
   "cell_type": "markdown",
   "metadata": {},
   "source": [
    "# Load Data From H5"
   ]
  },
  {
   "cell_type": "code",
   "execution_count": 6,
   "metadata": {},
   "outputs": [
    {
     "name": "stdout",
     "output_type": "stream",
     "text": [
      "<KeysViewHDF5 ['angles', 'energies', 'event_hits_index', 'event_ids', 'hit_charge', 'hit_pmt', 'hit_time', 'labels', 'positions', 'root_files', 'veto', 'veto2']>\n"
     ]
    }
   ],
   "source": [
    "# Import test events from h5 file\n",
    "data_path = \"/fast_scratch/WatChMaL/data/IWCD_mPMT_Short_emg_E0to1000MeV_digihits.h5\"\n",
    "data_file = h5py.File(data_path, \"r\")\n",
    "\n",
    "print(data_file.keys())\n",
    "\n",
    "hdf5_hit_pmt    = data_file[\"hit_pmt\"]\n",
    "hdf5_hit_time   = data_file[\"hit_time\"]\n",
    "hdf5_hit_charge = data_file[\"hit_charge\"]\n",
    "\n",
    "\n",
    "hit_pmt    = np.memmap(data_path, mode=\"r\", shape=hdf5_hit_pmt.shape,\n",
    "                                    offset=hdf5_hit_pmt.id.get_offset(), dtype=hdf5_hit_pmt.dtype)\n",
    "\n",
    "hit_time   = np.memmap(data_path, mode=\"r\", shape=hdf5_hit_time.shape,\n",
    "                                    offset=hdf5_hit_time.id.get_offset(), dtype=hdf5_hit_time.dtype)\n",
    "\n",
    "hit_charge = np.memmap(data_path, mode=\"r\", shape=hdf5_hit_charge.shape,\n",
    "                                    offset=hdf5_hit_charge.id.get_offset(), dtype=hdf5_hit_charge.dtype)\n",
    "\n",
    "angles     = np.array(data_file['angles'])\n",
    "energies   = np.array(data_file['energies'])\n",
    "positions  = np.array(data_file['positions'])\n",
    "labels     = np.array(data_file['labels'])\n",
    "root_files = np.array(data_file['root_files'])"
   ]
  },
  {
   "cell_type": "markdown",
   "metadata": {},
   "source": [
    "# Load Indices"
   ]
  },
  {
   "cell_type": "code",
   "execution_count": 7,
   "metadata": {},
   "outputs": [],
   "source": [
    "idxs_path = '../../short_tank_EDA/new_reflector_short_tank_exploratory_data_analysis/short_dataset_data/IWCD_mPMT_Short_3M_OD_veto_idxs.npz'\n",
    "idxs = np.load(idxs_path, allow_pickle=True)\n",
    "\n",
    "train_idxs = idxs['train_idxs']\n",
    "val_idxs   = idxs['val_idxs']\n",
    "test_idxs  = idxs['test_idxs']"
   ]
  },
  {
   "cell_type": "markdown",
   "metadata": {},
   "source": [
    "# Split Datasets"
   ]
  },
  {
   "cell_type": "code",
   "execution_count": 8,
   "metadata": {},
   "outputs": [
    {
     "name": "stdout",
     "output_type": "stream",
     "text": [
      "Done train info\n",
      "Done val info\n",
      "Done test info\n"
     ]
    }
   ],
   "source": [
    "train_angles    = angles[train_idxs]\n",
    "train_energies  = energies[train_idxs]\n",
    "train_positions = positions[train_idxs]\n",
    "train_labels    = labels[train_idxs]\n",
    "\n",
    "train_info = {'name':'Training Set','energies':train_energies,'positions':train_positions, 'angles':train_angles, 'labels':train_labels}\n",
    "\n",
    "print(\"Done train info\")\n",
    "\n",
    "val_angles     = angles[val_idxs]\n",
    "val_energies   = energies[val_idxs]\n",
    "val_positions  = positions[val_idxs]\n",
    "val_labels     = labels[val_idxs]\n",
    "\n",
    "val_info = {'name':'Validation Set','energies':val_energies,'positions':val_positions, 'angles':val_angles, 'labels':val_labels}\n",
    "\n",
    "print(\"Done val info\")\n",
    "\n",
    "test_angles    = angles[test_idxs]\n",
    "test_energies  = energies[test_idxs]\n",
    "test_positions = positions[test_idxs]\n",
    "test_labels    = labels[test_idxs]\n",
    "test_info = {'name':'Test Set','energies':test_energies,'positions':test_positions, 'angles':test_angles, 'labels':test_labels}\n",
    "\n",
    "print(\"Done test info\")"
   ]
  },
  {
   "cell_type": "code",
   "execution_count": 9,
   "metadata": {},
   "outputs": [
    {
     "data": {
      "text/plain": [
       "\"\\ntrain_radius    = [np.sqrt(train_positions[i,0,0]**2 + train_positions[i,0,2]**2) for i in range(train_positions.shape[0])]\\nval_radius     = [np.sqrt(val_positions[i,0,0]**2 + val_positions[i,0,2]**2) for i in range(val_positions.shape[0])]\\ntest_radius    = [np.sqrt(test_positions[i,0,0]**2 + test_positions[i,0,2]**2) for i in range(test_positions.shape[0])]\\n\\nnp.savez('./short_dataset_data/event_radii.npz', train_radii=train_radius, val_radii=val_radius, test_radii=test_radius)\\n\""
      ]
     },
     "execution_count": 9,
     "metadata": {},
     "output_type": "execute_result"
    }
   ],
   "source": [
    "# compute and save event radii\n",
    "\"\"\"\n",
    "train_radius    = [np.sqrt(train_positions[i,0,0]**2 + train_positions[i,0,2]**2) for i in range(train_positions.shape[0])]\n",
    "val_radius     = [np.sqrt(val_positions[i,0,0]**2 + val_positions[i,0,2]**2) for i in range(val_positions.shape[0])]\n",
    "test_radius    = [np.sqrt(test_positions[i,0,0]**2 + test_positions[i,0,2]**2) for i in range(test_positions.shape[0])]\n",
    "\n",
    "np.savez('./short_dataset_data/event_radii.npz', train_radii=train_radius, val_radii=val_radius, test_radii=test_radius)\n",
    "\"\"\""
   ]
  },
  {
   "cell_type": "code",
   "execution_count": 10,
   "metadata": {},
   "outputs": [
    {
     "ename": "FileNotFoundError",
     "evalue": "[Errno 2] No such file or directory: './short_dataset_data/event_radii.npz'",
     "output_type": "error",
     "traceback": [
      "\u001b[0;31m------------------------------------------------------------------------\u001b[0m",
      "\u001b[0;31mFileNotFoundError\u001b[0m                      Traceback (most recent call last)",
      "\u001b[0;32m<ipython-input-10-cd1ea81c27f3>\u001b[0m in \u001b[0;36m<module>\u001b[0;34m\u001b[0m\n\u001b[0;32m----> 1\u001b[0;31m \u001b[0mradii_data\u001b[0m \u001b[0;34m=\u001b[0m \u001b[0mnp\u001b[0m\u001b[0;34m.\u001b[0m\u001b[0mload\u001b[0m\u001b[0;34m(\u001b[0m\u001b[0;34m'./short_dataset_data/event_radii.npz'\u001b[0m\u001b[0;34m,\u001b[0m \u001b[0mallow_pickle\u001b[0m\u001b[0;34m=\u001b[0m\u001b[0;32mTrue\u001b[0m\u001b[0;34m)\u001b[0m\u001b[0;34m\u001b[0m\u001b[0;34m\u001b[0m\u001b[0m\n\u001b[0m\u001b[1;32m      2\u001b[0m \u001b[0;34m\u001b[0m\u001b[0m\n\u001b[1;32m      3\u001b[0m \u001b[0mtrain_info\u001b[0m\u001b[0;34m[\u001b[0m\u001b[0;34m'radius'\u001b[0m\u001b[0;34m]\u001b[0m \u001b[0;34m=\u001b[0m \u001b[0mradii_data\u001b[0m\u001b[0;34m[\u001b[0m\u001b[0;34m'train_radii'\u001b[0m\u001b[0;34m]\u001b[0m\u001b[0;34m\u001b[0m\u001b[0;34m\u001b[0m\u001b[0m\n\u001b[1;32m      4\u001b[0m \u001b[0mval_info\u001b[0m\u001b[0;34m[\u001b[0m\u001b[0;34m'radius'\u001b[0m\u001b[0;34m]\u001b[0m   \u001b[0;34m=\u001b[0m \u001b[0mradii_data\u001b[0m\u001b[0;34m[\u001b[0m\u001b[0;34m'val_radii'\u001b[0m\u001b[0;34m]\u001b[0m\u001b[0;34m\u001b[0m\u001b[0;34m\u001b[0m\u001b[0m\n\u001b[1;32m      5\u001b[0m \u001b[0mtest_info\u001b[0m\u001b[0;34m[\u001b[0m\u001b[0;34m'radius'\u001b[0m\u001b[0;34m]\u001b[0m  \u001b[0;34m=\u001b[0m \u001b[0mradii_data\u001b[0m\u001b[0;34m[\u001b[0m\u001b[0;34m'test_radii'\u001b[0m\u001b[0;34m]\u001b[0m\u001b[0;34m\u001b[0m\u001b[0;34m\u001b[0m\u001b[0m\n",
      "\u001b[0;32m/opt/conda/lib/python3.6/site-packages/numpy/lib/npyio.py\u001b[0m in \u001b[0;36mload\u001b[0;34m(file, mmap_mode, allow_pickle, fix_imports, encoding)\u001b[0m\n\u001b[1;32m    414\u001b[0m             \u001b[0mown_fid\u001b[0m \u001b[0;34m=\u001b[0m \u001b[0;32mFalse\u001b[0m\u001b[0;34m\u001b[0m\u001b[0;34m\u001b[0m\u001b[0m\n\u001b[1;32m    415\u001b[0m         \u001b[0;32melse\u001b[0m\u001b[0;34m:\u001b[0m\u001b[0;34m\u001b[0m\u001b[0;34m\u001b[0m\u001b[0m\n\u001b[0;32m--> 416\u001b[0;31m             \u001b[0mfid\u001b[0m \u001b[0;34m=\u001b[0m \u001b[0mstack\u001b[0m\u001b[0;34m.\u001b[0m\u001b[0menter_context\u001b[0m\u001b[0;34m(\u001b[0m\u001b[0mopen\u001b[0m\u001b[0;34m(\u001b[0m\u001b[0mos_fspath\u001b[0m\u001b[0;34m(\u001b[0m\u001b[0mfile\u001b[0m\u001b[0;34m)\u001b[0m\u001b[0;34m,\u001b[0m \u001b[0;34m\"rb\"\u001b[0m\u001b[0;34m)\u001b[0m\u001b[0;34m)\u001b[0m\u001b[0;34m\u001b[0m\u001b[0;34m\u001b[0m\u001b[0m\n\u001b[0m\u001b[1;32m    417\u001b[0m             \u001b[0mown_fid\u001b[0m \u001b[0;34m=\u001b[0m \u001b[0;32mTrue\u001b[0m\u001b[0;34m\u001b[0m\u001b[0;34m\u001b[0m\u001b[0m\n\u001b[1;32m    418\u001b[0m \u001b[0;34m\u001b[0m\u001b[0m\n",
      "\u001b[0;31mFileNotFoundError\u001b[0m: [Errno 2] No such file or directory: './short_dataset_data/event_radii.npz'"
     ]
    }
   ],
   "source": [
    "radii_data = np.load('./short_dataset_data/event_radii.npz', allow_pickle=True)\n",
    "\n",
    "train_info['radius'] = radii_data['train_radii']\n",
    "val_info['radius']   = radii_data['val_radii']\n",
    "test_info['radius']  = radii_data['test_radii']"
   ]
  },
  {
   "cell_type": "code",
   "execution_count": 11,
   "metadata": {},
   "outputs": [],
   "source": [
    "dataset_info = [train_info, val_info, test_info]"
   ]
  },
  {
   "cell_type": "markdown",
   "metadata": {},
   "source": [
    "# Get indices associated with each dataset and particle type"
   ]
  },
  {
   "cell_type": "code",
   "execution_count": 12,
   "metadata": {},
   "outputs": [],
   "source": [
    "train_g_idxs = np.where(dataset_info[0]['labels']==0)[0]\n",
    "val_g_idxs   = np.where(dataset_info[1]['labels']==0)[0]\n",
    "test_g_idxs  = np.where(dataset_info[2]['labels']==0)[0]\n",
    "\n",
    "train_e_idxs = np.where(dataset_info[0]['labels']==1)[0]\n",
    "val_e_idxs   = np.where(dataset_info[1]['labels']==1)[0]\n",
    "test_e_idxs  = np.where(dataset_info[2]['labels']==1)[0]\n",
    "\n",
    "train_m_idxs = np.where(dataset_info[0]['labels']==2)[0]\n",
    "val_m_idxs   = np.where(dataset_info[1]['labels']==2)[0]\n",
    "test_m_idxs  = np.where(dataset_info[2]['labels']==2)[0]"
   ]
  },
  {
   "cell_type": "markdown",
   "metadata": {},
   "source": [
    "# Load detector geometry parameters"
   ]
  },
  {
   "cell_type": "code",
   "execution_count": 13,
   "metadata": {},
   "outputs": [],
   "source": [
    "barrel_map_array_idxs = [6, 7, 8, 9, 10, 11, 0, 1, 2, 3, 4, 5, 15, 16, 17, 12, 13, 14, 18]\n",
    "pmts_per_mpmt = 19\n",
    "\n",
    "event_hits_index = np.append(data_file[\"event_hits_index\"], hdf5_hit_pmt.shape[0]).astype(np.int64)\n",
    "\n",
    "mpmt_positions_file = '/data/WatChMaL/data/IWCDshort_mPMT_image_positions.npz'\n",
    "mpmt_positions   = np.load(mpmt_positions_file)['mpmt_image_positions']\n",
    "\n",
    "data_size = np.max(mpmt_positions, axis=0) + 1\n",
    "n_channels = pmts_per_mpmt\n",
    "data_size = np.insert(data_size, 0, n_channels)"
   ]
  },
  {
   "cell_type": "markdown",
   "metadata": {},
   "source": [
    "# Hit Charges"
   ]
  },
  {
   "cell_type": "code",
   "execution_count": 14,
   "metadata": {},
   "outputs": [],
   "source": [
    "def get_large_hist(pos, indices, bins, name):\n",
    "    #TODO: Until tqdm in the docker image is updated, this print statement appears to be required\n",
    "    print('')\n",
    "    pmt_charge = []\n",
    "    description = '{} Progress: '.format(name)\n",
    "    \n",
    "    hist = bh.Histogram(bh.axis.Regular(len(bins) - 1, bins[0], bins[-1]))#, growth=True))\n",
    "    for i in tqdm(indices, desc=description, position=pos):\n",
    "        item = i\n",
    "        start = event_hits_index[item]\n",
    "        stop  = event_hits_index[item + 1]\n",
    "        hit_data = hit_charge[start:stop]\n",
    "\n",
    "        hist.fill(hit_data)\n",
    "\n",
    "    return hist.to_numpy()"
   ]
  },
  {
   "cell_type": "code",
   "execution_count": 15,
   "metadata": {},
   "outputs": [],
   "source": [
    "def get_large_hists(input_sets, bins, names):\n",
    "    pool = Pool(len(input_sets))\n",
    "    arg_list = [(idx, item, bins, name) for idx, (item, name) in enumerate(zip(input_sets, names))]\n",
    "    result_hists, result_bins = zip(*pool.starmap(get_large_hist, arg_list))\n",
    "    return result_hists, result_bins"
   ]
  },
  {
   "cell_type": "code",
   "execution_count": 16,
   "metadata": {},
   "outputs": [],
   "source": [
    "# Define plotting bins\n",
    "N = 100\n",
    "plot_bins = np.linspace(0, 2000, N + 1)"
   ]
  },
  {
   "cell_type": "code",
   "execution_count": 17,
   "metadata": {},
   "outputs": [
    {
     "name": "stdout",
     "output_type": "stream",
     "text": [
      "\n",
      "\n"
     ]
    },
    {
     "data": {
      "application/vnd.jupyter.widget-view+json": {
       "model_id": "1efa0175c9a4405eb415f2a747c1d035",
       "version_major": 2,
       "version_minor": 0
      },
      "text/plain": [
       "HBox(children=(IntProgress(value=0, description='train_e Progress: ', max=1000, style=ProgressStyle(descriptio…"
      ]
     },
     "metadata": {},
     "output_type": "display_data"
    },
    {
     "data": {
      "application/vnd.jupyter.widget-view+json": {
       "model_id": "a7b520baf8e74d07aa850d5400c13933",
       "version_major": 2,
       "version_minor": 0
      },
      "text/plain": [
       "HBox(children=(IntProgress(value=0, description='train_g Progress: ', max=1000, style=ProgressStyle(descriptio…"
      ]
     },
     "metadata": {},
     "output_type": "display_data"
    },
    {
     "name": "stdout",
     "output_type": "stream",
     "text": [
      "\n"
     ]
    }
   ],
   "source": [
    "test_large_plot_inputs = [train_g_idxs[0:1000], train_e_idxs[0:1000]]\n",
    "test_large_plot_names = ['train_g', 'train_e']\n",
    "\n",
    "test_hists, test_bins = get_large_hists(test_large_plot_inputs, plot_bins, test_large_plot_names)"
   ]
  },
  {
   "cell_type": "code",
   "execution_count": 18,
   "metadata": {},
   "outputs": [
    {
     "name": "stderr",
     "output_type": "stream",
     "text": [
      "../../../WatChMaL_analysis/short_tank_EDA/old_reflector_short_tank_exploratory_data_analysis/exploratory_data_analysis_utils.py:282: RuntimeWarning: divide by zero encountered in true_divide\n",
      "  ns[idx] / ns[denominator_dist_idxs[i]],\n",
      "../../../WatChMaL_analysis/short_tank_EDA/old_reflector_short_tank_exploratory_data_analysis/exploratory_data_analysis_utils.py:282: RuntimeWarning: invalid value encountered in true_divide\n",
      "  ns[idx] / ns[denominator_dist_idxs[i]],\n"
     ]
    },
    {
     "data": {
      "image/png": "[encoded data removed]",
      "text/plain": [
       "<Figure size 864x864 with 2 Axes>"
      ]
     },
     "metadata": {
      "needs_background": "light"
     },
     "output_type": "display_data"
    }
   ],
   "source": [
    "plot_computed_dists(test_hists, \n",
    "                    bins=test_bins,\n",
    "                    numerator_dist_idxs   = [1],\n",
    "                    denominator_dist_idxs = [0],\n",
    "                    labels=['Gamma, Validation Set', 'Electron, Training Set'],\n",
    "                    ratio_range=[0,2],\n",
    "                    title='Distribution of PMT Charge by Particle Type and Dataset', \n",
    "                    colors =  ['r','y'],\n",
    "                    linestyle=['-','-'],\n",
    "                    yscale='log',\n",
    "                    xlabel='Hit Charge'\n",
    "                   )"
   ]
  },
  {
   "cell_type": "code",
   "execution_count": null,
   "metadata": {},
   "outputs": [
    {
     "name": "stdout",
     "output_type": "stream",
     "text": [
      "\n",
      "\n"
     ]
    },
    {
     "data": {
      "application/vnd.jupyter.widget-view+json": {
       "model_id": "9fada2f4189c475aa294097647643e15",
       "version_major": 2,
       "version_minor": 0
      },
      "text/plain": [
       "HBox(children=(IntProgress(value=0, description='val_g Progress: ', max=264251, style=ProgressStyle(descriptio…"
      ]
     },
     "metadata": {},
     "output_type": "display_data"
    },
    {
     "data": {
      "application/vnd.jupyter.widget-view+json": {
       "model_id": "3461e05b0c64446fb3a4267a82774a7d",
       "version_major": 2,
       "version_minor": 0
      },
      "text/plain": [
       "HBox(children=(IntProgress(value=0, description='train_g Progress: ', max=1320487, style=ProgressStyle(descrip…"
      ]
     },
     "metadata": {},
     "output_type": "display_data"
    },
    {
     "name": "stdout",
     "output_type": "stream",
     "text": [
      "\n"
     ]
    },
    {
     "data": {
      "application/vnd.jupyter.widget-view+json": {
       "model_id": "30c8603443664d378067e99a5abdd597",
       "version_major": 2,
       "version_minor": 0
      },
      "text/plain": [
       "HBox(children=(IntProgress(value=0, description='test_g Progress: ', max=1056379, style=ProgressStyle(descript…"
      ]
     },
     "metadata": {},
     "output_type": "display_data"
    },
    {
     "name": "stdout",
     "output_type": "stream",
     "text": [
      "\n",
      "\n",
      "\n",
      "\n"
     ]
    },
    {
     "data": {
      "application/vnd.jupyter.widget-view+json": {
       "model_id": "c734713ffda8457094a6cd28a449f485",
       "version_major": 2,
       "version_minor": 0
      },
      "text/plain": [
       "HBox(children=(IntProgress(value=0, description='train_e Progress: ', max=1310838, style=ProgressStyle(descrip…"
      ]
     },
     "metadata": {},
     "output_type": "display_data"
    },
    {
     "name": "stdout",
     "output_type": "stream",
     "text": [
      "\n"
     ]
    },
    {
     "data": {
      "application/vnd.jupyter.widget-view+json": {
       "model_id": "60408a41e53d4415ba2c3d45cdaf4fe1",
       "version_major": 2,
       "version_minor": 0
      },
      "text/plain": [
       "HBox(children=(IntProgress(value=0, description='val_e Progress: ', max=261731, style=ProgressStyle(descriptio…"
      ]
     },
     "metadata": {},
     "output_type": "display_data"
    },
    {
     "name": "stdout",
     "output_type": "stream",
     "text": [
      "\n"
     ]
    },
    {
     "data": {
      "application/vnd.jupyter.widget-view+json": {
       "model_id": "aa308f0428214ff79de9c6cec1af56d7",
       "version_major": 2,
       "version_minor": 0
      },
      "text/plain": [
       "HBox(children=(IntProgress(value=0, description='test_e Progress: ', max=1048835, style=ProgressStyle(descript…"
      ]
     },
     "metadata": {},
     "output_type": "display_data"
    },
    {
     "data": {
      "application/vnd.jupyter.widget-view+json": {
       "model_id": "60b108b575204898b7a5ab8cb9b29d15",
       "version_major": 2,
       "version_minor": 0
      },
      "text/plain": [
       "HBox(children=(IntProgress(value=0, description='val_m Progress: ', max=163116, style=ProgressStyle(descriptio…"
      ]
     },
     "metadata": {},
     "output_type": "display_data"
    },
    {
     "data": {
      "application/vnd.jupyter.widget-view+json": {
       "model_id": "0c20ee4b52394d43a0163ae65ca84d0d",
       "version_major": 2,
       "version_minor": 0
      },
      "text/plain": [
       "HBox(children=(IntProgress(value=0, description='train_m Progress: ', max=814061, style=ProgressStyle(descript…"
      ]
     },
     "metadata": {},
     "output_type": "display_data"
    },
    {
     "data": {
      "application/vnd.jupyter.widget-view+json": {
       "model_id": "90cd96e630ec46adb535cdd434d253bf",
       "version_major": 2,
       "version_minor": 0
      },
      "text/plain": [
       "HBox(children=(IntProgress(value=0, description='test_m Progress: ', max=650223, style=ProgressStyle(descripti…"
      ]
     },
     "metadata": {},
     "output_type": "display_data"
    }
   ],
   "source": [
    "# Get hist data for full dataset\n",
    "large_plot_inputs = [train_g_idxs, val_g_idxs, test_g_idxs,\n",
    "                     train_e_idxs, val_e_idxs, test_e_idxs,\n",
    "                     train_m_idxs, val_m_idxs, test_m_idxs,]\n",
    "\n",
    "large_plot_names = ['train_g', 'val_g', 'test_g',\n",
    "                    'train_e', 'val_e', 'test_e',\n",
    "                    'train_m', 'val_m', 'test_m']\n",
    "\n",
    "outputs = get_large_hists(large_plot_inputs, plot_bins, large_plot_names)"
   ]
  },
  {
   "cell_type": "code",
   "execution_count": null,
   "metadata": {},
   "outputs": [],
   "source": [
    "# Plot overall distribution\n",
    "plot_computed_dists(outputs[0], \n",
    "                    bins=outputs[1],\n",
    "                    numerator_dist_idxs   = [],\n",
    "                    denominator_dist_idxs = [],\n",
    "                    labels=[\n",
    "                            'Gamma, Training Set', 'Gamma, Validation Set', 'Gamma, Test Set',\n",
    "                            'Electron, Training Set', 'Electron, Validation Set', 'Electron, Test Set',\n",
    "                            'Muon, Training Set', 'Muon, Validation Set', 'Muon, Test Set'],\n",
    "                    ratio_range=[0,2],\n",
    "                    title='Distribution of PMT Charge by Particle Type and Dataset',  \n",
    "                    colors =  ['r','r','r',\n",
    "                               'y','y','y',\n",
    "                               'b','b','b'],\n",
    "                    linestyle=['-','--',':',\n",
    "                               '-','--',':',\n",
    "                               '-','--',':'],\n",
    "                    normalized=False,\n",
    "                    yscale='log',\n",
    "                    xlabel='Hit Charge'\n",
    "                   )"
   ]
  },
  {
   "cell_type": "markdown",
   "metadata": {},
   "source": [
    "# Hit times"
   ]
  },
  {
   "cell_type": "code",
   "execution_count": null,
   "metadata": {},
   "outputs": [],
   "source": [
    "def get_large_times_hist(pos, indices, bins, name):\n",
    "    #TODO: Until tqdm in the docker image is updated, this print statement appears to be required\n",
    "    print('')\n",
    "    pmt_charge = []\n",
    "    description = '{} Progress: '.format(name)\n",
    "    \n",
    "    hist = bh.Histogram(bh.axis.Regular(len(bins) - 1, bins[0], bins[-1]))#, growth=True))\n",
    "    for i in tqdm(indices, desc=description, position=pos):\n",
    "        item = i\n",
    "        start = event_hits_index[item]\n",
    "        stop  = event_hits_index[item + 1]\n",
    "        hit_data = hit_time[start:stop]\n",
    "\n",
    "        hist.fill(hit_data)\n",
    "\n",
    "    return hist.to_numpy()"
   ]
  },
  {
   "cell_type": "code",
   "execution_count": null,
   "metadata": {},
   "outputs": [],
   "source": [
    "def get_large_times_hists(input_sets, bins, names):\n",
    "    pool = Pool(len(input_sets))\n",
    "    arg_list = [(idx, item, bins, name) for idx, (item, name) in enumerate(zip(input_sets, names))]\n",
    "    result_hists, result_bins = zip(*pool.starmap(get_large_times_hist, arg_list))\n",
    "    return result_hists, result_bins"
   ]
  },
  {
   "cell_type": "code",
   "execution_count": null,
   "metadata": {},
   "outputs": [],
   "source": [
    "time_plot_bins = np.linspace(500, 2000, 200)"
   ]
  },
  {
   "cell_type": "code",
   "execution_count": null,
   "metadata": {},
   "outputs": [],
   "source": [
    "# Get hist data for full dataset\n",
    "time_large_plot_inputs = [train_g_idxs, val_g_idxs, test_g_idxs,\n",
    "                     train_e_idxs, val_e_idxs, test_e_idxs,\n",
    "                     train_m_idxs, val_m_idxs, test_m_idxs,]\n",
    "\n",
    "time_large_plot_names = ['train_g', 'val_g', 'test_g',\n",
    "                    'train_e', 'val_e', 'test_e',\n",
    "                    'train_m', 'val_m', 'test_m']\n",
    "\n",
    "time_hists, time_bins = get_large_times_hists(time_large_plot_inputs, time_plot_bins, time_large_plot_names)"
   ]
  },
  {
   "cell_type": "code",
   "execution_count": null,
   "metadata": {},
   "outputs": [],
   "source": [
    "plot_computed_dists(time_hists, \n",
    "                    bins=time_bins,\n",
    "                    numerator_dist_idxs   = [1, 2, 4, 5, 7, 8],\n",
    "                    denominator_dist_idxs = [0, 0, 3, 3, 6, 6],\n",
    "                    labels=[\n",
    "                            'Gamma, Training Set', 'Gamma, Validation Set', 'Gamma, Test Set',\n",
    "                            'Electron, Training Set', 'Electron, Validation Set', 'Electron, Test Set',\n",
    "                            'Muon, Training Set', 'Muon, Validation Set', 'Muon, Test Set'],\n",
    "                    title='Distribution of PMT Hit Times by Particle Type and Dataset',  \n",
    "                    colors =  ['r','r','r',\n",
    "                               'y','y','y',\n",
    "                               'b','b','b'],\n",
    "                    linestyle=['-','--',':',\n",
    "                               '-','--',':',\n",
    "                               '-','--',':'], \n",
    "                    yscale='log',\n",
    "                    xlabel='Hit Time (ns)'\n",
    "                   )"
   ]
  },
  {
   "cell_type": "code",
   "execution_count": null,
   "metadata": {},
   "outputs": [],
   "source": []
  }
 ],
 "metadata": {
  "kernelspec": {
   "display_name": "Python 3",
   "language": "python",
   "name": "python3"
  },
  "language_info": {
   "codemirror_mode": {
    "name": "ipython",
    "version": 3
   },
   "file_extension": ".py",
   "mimetype": "text/x-python",
   "name": "python",
   "nbconvert_exporter": "python",
   "pygments_lexer": "ipython3",
   "version": "3.6.10"
  }
 },
 "nbformat": 4,
 "nbformat_minor": 4
}
