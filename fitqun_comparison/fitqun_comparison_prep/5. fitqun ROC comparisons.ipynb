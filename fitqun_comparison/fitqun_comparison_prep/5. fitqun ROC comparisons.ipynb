{
 "cells": [
  {
   "cell_type": "code",
   "execution_count": 1,
   "metadata": {},
   "outputs": [],
   "source": [
    "%load_ext autoreload\n",
    "%matplotlib inline\n",
    "%autoreload 2"
   ]
  },
  {
   "cell_type": "code",
   "execution_count": 2,
   "metadata": {},
   "outputs": [],
   "source": [
    "import uproot\n",
    "import numpy as np\n",
    "import matplotlib.pyplot as plt\n",
    "import os\n",
    "import sys\n",
    "import pickle"
   ]
  },
  {
   "cell_type": "code",
   "execution_count": 3,
   "metadata": {},
   "outputs": [],
   "source": [
    "sys.path.append(\"../..\")\n",
    "\n",
    "from WatChMaL.analysis.multi_plot_utils import multi_disp_learn_hist, multi_compute_roc, multi_plot_roc\n",
    "from WatChMaL.analysis.comparison_utils import multi_get_masked_data, multi_collapse_test_output\n",
    "from WatChMaL.analysis.fitqun_comparison_utils import load_fq_output, load_gamma_fq_output, load_pion_fq_output"
   ]
  },
  {
   "cell_type": "code",
   "execution_count": 4,
   "metadata": {},
   "outputs": [],
   "source": [
    "############# define plotting params #############\n",
    "c = plt.rcParams['axes.prop_cycle'].by_key()['color']\n",
    "label_dict = {\"$\\gamma$\":0, \"$e$\":1, \"$\\mu$\":2, \"$\\pi 0$\":3}\n",
    "inverse_label_dict = {0:\"$\\gamma$\", 1:\"$e$\", 2:\"$\\mu$\", 3:\"$\\pi 0$\"}\n",
    "muon_softmax_index_dict = {\"e/gamma\":0, \"mu\":1}"
   ]
  },
  {
   "cell_type": "markdown",
   "metadata": {},
   "source": [
    "## Load fitqun results"
   ]
  },
  {
   "cell_type": "code",
   "execution_count": 5,
   "metadata": {},
   "outputs": [],
   "source": [
    "# Retrieve flags\n",
    "gamma_file_path = '/fast_scratch/WatChMaL/data/IWCD_mPMT_Short_gamma_E0to1000MeV_unif-pos-R400-y300cm_4pi-dir.fiTQun.root'\n",
    "e_file_path     = '/fast_scratch/WatChMaL/data/IWCD_mPMT_Short_e-_E0to1000MeV_unif-pos-R400-y300cm_4pi-dir.fiTQun.root'\n",
    "mu_file_path    = '/fast_scratch/WatChMaL/data/IWCD_mPMT_Short_mu-_E0to1000MeV_unif-pos-R400-y300cm_4pi-dir.fiTQun.root'\n",
    "pion_file_path  = '/fast_scratch/WatChMaL/data/IWCD_mPMT_Short_pi0_E0to1000MeV_unif-pos-R400-y300cm_4pi-dir.fiTQun.root'"
   ]
  },
  {
   "cell_type": "code",
   "execution_count": 6,
   "metadata": {},
   "outputs": [],
   "source": [
    "fq_mapping_path = '/home/jtindall/WatChMaL_analysis/fitqun_comparison/fitqun_comparison_prep/prep_data/4_class_3M_fitqun_mapping.pickle'"
   ]
  },
  {
   "cell_type": "code",
   "execution_count": 7,
   "metadata": {},
   "outputs": [],
   "source": [
    "short_fq_scores, short_fq_labels, short_fq_mom = load_fq_output(fq_mapping_path, gamma_file_path, e_file_path, mu_file_path)"
   ]
  },
  {
   "cell_type": "code",
   "execution_count": 8,
   "metadata": {},
   "outputs": [],
   "source": [
    "short_fq_scores = -short_fq_scores"
   ]
  },
  {
   "cell_type": "markdown",
   "metadata": {},
   "source": [
    "## Load resnet results"
   ]
  },
  {
   "cell_type": "code",
   "execution_count": 9,
   "metadata": {},
   "outputs": [],
   "source": [
    "############# define run locations #############\n",
    "short_locs = ['/home/jtindall/WatChMaL/outputs/2021-04-06/13-38-38/outputs']\n",
    "\n",
    "short_titles = ['Short Tank ResNet (4-Class)', 'Short Tank Fitqun']\n",
    "\n",
    "full_locs = []\n",
    "\n",
    "full_titles = []\n",
    "\n",
    "short_linecolor = [c[0], c[1]]\n",
    "short_linestyle = ['--' for _ in range(2)]\n",
    "\n",
    "full_linecolor = [c[2], c[3]]\n",
    "full_linestyle = [':' for _ in range(2)]\n"
   ]
  },
  {
   "cell_type": "code",
   "execution_count": 10,
   "metadata": {},
   "outputs": [],
   "source": [
    "############# load short tank run data #############\n",
    "short_idx_file_path = '/fast_scratch/WatChMaL/data/IWCD_mPMT_Short_4_class_3M_emgp0_idxs.npz'\n",
    "short_indices = np.load(short_idx_file_path)['test_idxs']\n",
    "\n",
    "short_raw_output_softmax    = [np.load(loc + \"/softmax.npy\") for loc in short_locs]\n",
    "short_raw_actual_labels     = [np.load(loc + \"/labels.npy\") for loc in short_locs]"
   ]
  },
  {
   "cell_type": "code",
   "execution_count": 11,
   "metadata": {},
   "outputs": [],
   "source": [
    "locs      = short_locs + full_locs\n",
    "titles    = short_titles + full_titles\n",
    "linecolor = short_linecolor + full_linecolor\n",
    "linestyle = short_linestyle + full_linestyle"
   ]
  },
  {
   "cell_type": "markdown",
   "metadata": {},
   "source": [
    "## Add fitqun results"
   ]
  },
  {
   "cell_type": "code",
   "execution_count": 12,
   "metadata": {},
   "outputs": [],
   "source": [
    "short_raw_output_softmax = short_raw_output_softmax + [short_fq_scores]\n",
    "short_raw_actual_labels  = short_raw_actual_labels + [short_fq_labels]"
   ]
  },
  {
   "cell_type": "markdown",
   "metadata": {},
   "source": [
    "## Filter results"
   ]
  },
  {
   "cell_type": "code",
   "execution_count": 13,
   "metadata": {},
   "outputs": [],
   "source": [
    "def remove_indices(array, cut_idxs):\n",
    "    return np.delete(array, cut_idxs, 0)\n",
    "\n",
    "with open('./prep_data/4_class_3M_fitqun_cuts.pickle', 'rb') as handle:\n",
    "    cuts = pickle.load(handle)\n",
    "\n",
    "cut_to_apply = cuts['fq_comparison']"
   ]
  },
  {
   "cell_type": "code",
   "execution_count": 14,
   "metadata": {},
   "outputs": [
    {
     "ename": "IndexError",
     "evalue": "index 3524483 is out of bounds for axis 0 with size 3524482",
     "output_type": "error",
     "traceback": [
      "\u001b[0;31m---------------------------------------------------------------------------\u001b[0m",
      "\u001b[0;31mIndexError\u001b[0m                                Traceback (most recent call last)",
      "\u001b[0;32m<ipython-input-14-380a87e63d39>\u001b[0m in \u001b[0;36m<module>\u001b[0;34m\u001b[0m\n\u001b[0;32m----> 1\u001b[0;31m \u001b[0mshort_softmax\u001b[0m \u001b[0;34m=\u001b[0m \u001b[0;34m[\u001b[0m\u001b[0mremove_indices\u001b[0m\u001b[0;34m(\u001b[0m\u001b[0msoftmax\u001b[0m\u001b[0;34m,\u001b[0m \u001b[0mcut_to_apply\u001b[0m\u001b[0;34m)\u001b[0m \u001b[0;32mfor\u001b[0m \u001b[0msoftmax\u001b[0m \u001b[0;32min\u001b[0m \u001b[0mshort_raw_output_softmax\u001b[0m\u001b[0;34m]\u001b[0m\u001b[0;34m\u001b[0m\u001b[0;34m\u001b[0m\u001b[0m\n\u001b[0m\u001b[1;32m      2\u001b[0m \u001b[0mshort_labels\u001b[0m  \u001b[0;34m=\u001b[0m \u001b[0;34m[\u001b[0m\u001b[0mremove_indices\u001b[0m\u001b[0;34m(\u001b[0m\u001b[0mlabels\u001b[0m\u001b[0;34m,\u001b[0m \u001b[0mcut_to_apply\u001b[0m\u001b[0;34m)\u001b[0m \u001b[0;32mfor\u001b[0m \u001b[0mlabels\u001b[0m \u001b[0;32min\u001b[0m \u001b[0mshort_raw_actual_labels\u001b[0m\u001b[0;34m]\u001b[0m\u001b[0;34m\u001b[0m\u001b[0;34m\u001b[0m\u001b[0m\n",
      "\u001b[0;32m<ipython-input-14-380a87e63d39>\u001b[0m in \u001b[0;36m<listcomp>\u001b[0;34m(.0)\u001b[0m\n\u001b[0;32m----> 1\u001b[0;31m \u001b[0mshort_softmax\u001b[0m \u001b[0;34m=\u001b[0m \u001b[0;34m[\u001b[0m\u001b[0mremove_indices\u001b[0m\u001b[0;34m(\u001b[0m\u001b[0msoftmax\u001b[0m\u001b[0;34m,\u001b[0m \u001b[0mcut_to_apply\u001b[0m\u001b[0;34m)\u001b[0m \u001b[0;32mfor\u001b[0m \u001b[0msoftmax\u001b[0m \u001b[0;32min\u001b[0m \u001b[0mshort_raw_output_softmax\u001b[0m\u001b[0;34m]\u001b[0m\u001b[0;34m\u001b[0m\u001b[0;34m\u001b[0m\u001b[0m\n\u001b[0m\u001b[1;32m      2\u001b[0m \u001b[0mshort_labels\u001b[0m  \u001b[0;34m=\u001b[0m \u001b[0;34m[\u001b[0m\u001b[0mremove_indices\u001b[0m\u001b[0;34m(\u001b[0m\u001b[0mlabels\u001b[0m\u001b[0;34m,\u001b[0m \u001b[0mcut_to_apply\u001b[0m\u001b[0;34m)\u001b[0m \u001b[0;32mfor\u001b[0m \u001b[0mlabels\u001b[0m \u001b[0;32min\u001b[0m \u001b[0mshort_raw_actual_labels\u001b[0m\u001b[0;34m]\u001b[0m\u001b[0;34m\u001b[0m\u001b[0;34m\u001b[0m\u001b[0m\n",
      "\u001b[0;32m<ipython-input-13-da41e9fb802b>\u001b[0m in \u001b[0;36mremove_indices\u001b[0;34m(array, cut_idxs)\u001b[0m\n\u001b[1;32m      1\u001b[0m \u001b[0;32mdef\u001b[0m \u001b[0mremove_indices\u001b[0m\u001b[0;34m(\u001b[0m\u001b[0marray\u001b[0m\u001b[0;34m,\u001b[0m \u001b[0mcut_idxs\u001b[0m\u001b[0;34m)\u001b[0m\u001b[0;34m:\u001b[0m\u001b[0;34m\u001b[0m\u001b[0;34m\u001b[0m\u001b[0m\n\u001b[0;32m----> 2\u001b[0;31m     \u001b[0;32mreturn\u001b[0m \u001b[0mnp\u001b[0m\u001b[0;34m.\u001b[0m\u001b[0mdelete\u001b[0m\u001b[0;34m(\u001b[0m\u001b[0marray\u001b[0m\u001b[0;34m,\u001b[0m \u001b[0mcut_idxs\u001b[0m\u001b[0;34m,\u001b[0m \u001b[0;36m0\u001b[0m\u001b[0;34m)\u001b[0m\u001b[0;34m\u001b[0m\u001b[0;34m\u001b[0m\u001b[0m\n\u001b[0m\u001b[1;32m      3\u001b[0m \u001b[0;34m\u001b[0m\u001b[0m\n\u001b[1;32m      4\u001b[0m \u001b[0;32mwith\u001b[0m \u001b[0mopen\u001b[0m\u001b[0;34m(\u001b[0m\u001b[0;34m'./prep_data/4_class_3M_fitqun_cuts.pickle'\u001b[0m\u001b[0;34m,\u001b[0m \u001b[0;34m'rb'\u001b[0m\u001b[0;34m)\u001b[0m \u001b[0;32mas\u001b[0m \u001b[0mhandle\u001b[0m\u001b[0;34m:\u001b[0m\u001b[0;34m\u001b[0m\u001b[0;34m\u001b[0m\u001b[0m\n\u001b[1;32m      5\u001b[0m     \u001b[0mcuts\u001b[0m \u001b[0;34m=\u001b[0m \u001b[0mpickle\u001b[0m\u001b[0;34m.\u001b[0m\u001b[0mload\u001b[0m\u001b[0;34m(\u001b[0m\u001b[0mhandle\u001b[0m\u001b[0;34m)\u001b[0m\u001b[0;34m\u001b[0m\u001b[0;34m\u001b[0m\u001b[0m\n",
      "\u001b[0;32m<__array_function__ internals>\u001b[0m in \u001b[0;36mdelete\u001b[0;34m(*args, **kwargs)\u001b[0m\n",
      "\u001b[0;32m/opt/conda/lib/python3.8/site-packages/numpy/lib/function_base.py\u001b[0m in \u001b[0;36mdelete\u001b[0;34m(arr, obj, axis)\u001b[0m\n\u001b[1;32m   4404\u001b[0m         \u001b[0;32melse\u001b[0m\u001b[0;34m:\u001b[0m\u001b[0;34m\u001b[0m\u001b[0;34m\u001b[0m\u001b[0m\n\u001b[1;32m   4405\u001b[0m             \u001b[0mkeep\u001b[0m \u001b[0;34m=\u001b[0m \u001b[0mones\u001b[0m\u001b[0;34m(\u001b[0m\u001b[0mN\u001b[0m\u001b[0;34m,\u001b[0m \u001b[0mdtype\u001b[0m\u001b[0;34m=\u001b[0m\u001b[0mbool\u001b[0m\u001b[0;34m)\u001b[0m\u001b[0;34m\u001b[0m\u001b[0;34m\u001b[0m\u001b[0m\n\u001b[0;32m-> 4406\u001b[0;31m             \u001b[0mkeep\u001b[0m\u001b[0;34m[\u001b[0m\u001b[0mobj\u001b[0m\u001b[0;34m,\u001b[0m\u001b[0;34m]\u001b[0m \u001b[0;34m=\u001b[0m \u001b[0;32mFalse\u001b[0m\u001b[0;34m\u001b[0m\u001b[0;34m\u001b[0m\u001b[0m\n\u001b[0m\u001b[1;32m   4407\u001b[0m \u001b[0;34m\u001b[0m\u001b[0m\n\u001b[1;32m   4408\u001b[0m         \u001b[0mslobj\u001b[0m\u001b[0;34m[\u001b[0m\u001b[0maxis\u001b[0m\u001b[0;34m]\u001b[0m \u001b[0;34m=\u001b[0m \u001b[0mkeep\u001b[0m\u001b[0;34m\u001b[0m\u001b[0;34m\u001b[0m\u001b[0m\n",
      "\u001b[0;31mIndexError\u001b[0m: index 3524483 is out of bounds for axis 0 with size 3524482"
     ]
    }
   ],
   "source": [
    "short_softmax = [remove_indices(softmax, cut_to_apply) for softmax in short_raw_output_softmax]\n",
    "short_labels  = [remove_indices(labels, cut_to_apply) for labels in short_raw_actual_labels]"
   ]
  },
  {
   "cell_type": "markdown",
   "metadata": {},
   "source": [
    "## Plot electron comparison"
   ]
  },
  {
   "cell_type": "code",
   "execution_count": null,
   "metadata": {},
   "outputs": [],
   "source": [
    "short_collapsed_class_scores_list, short_collapsed_class_labels_list = multi_collapse_test_output(short_softmax, short_labels, label_dict, ignore_type='$\\gamma$')\n",
    "\n",
    "short_collapsed_class_labels_list = [collapsed_class_labels - 1 for collapsed_class_labels in short_collapsed_class_labels_list]\n",
    "short_collapsed_class_scores_list = [collapsed_class_scores[:,1:] for collapsed_class_scores in short_collapsed_class_scores_list]"
   ]
  },
  {
   "cell_type": "code",
   "execution_count": null,
   "metadata": {},
   "outputs": [],
   "source": [
    "short_fpr_list, short_tpr_list, short_thr_list = multi_compute_roc(short_collapsed_class_scores_list, short_collapsed_class_labels_list, \n",
    "                            true_label=muon_softmax_index_dict[\"e/gamma\"], \n",
    "                            false_label=muon_softmax_index_dict[\"mu\"],\n",
    "                            normalize=False)"
   ]
  },
  {
   "cell_type": "markdown",
   "metadata": {},
   "source": [
    "## Combine Results and Plot"
   ]
  },
  {
   "cell_type": "code",
   "execution_count": null,
   "metadata": {},
   "outputs": [],
   "source": [
    "############# combine short and long results #############\n",
    "fpr_list = short_fpr_list\n",
    "tpr_list = short_tpr_list\n",
    "thr_list = short_thr_list"
   ]
  },
  {
   "cell_type": "code",
   "execution_count": null,
   "metadata": {},
   "outputs": [],
   "source": [
    "figs = multi_plot_roc(fpr_list, tpr_list, thr_list, \"$e$\", \"$\\mu$\", \n",
    "                      fig_list=[1], ylims=[[1,3e6]], \n",
    "                      linestyles=linestyle,linecolors=linecolor, plot_labels=titles, show=False)"
   ]
  },
  {
   "cell_type": "code",
   "execution_count": null,
   "metadata": {},
   "outputs": [],
   "source": [
    "figs = multi_plot_roc(fpr_list, tpr_list, thr_list, \"$e$\", \"$\\mu$\",\n",
    "                      fig_list=[1], xlims=[[0.9, 1.0]], ylims=[[1,3e5]], \n",
    "                      linestyles=linestyle,linecolors=linecolor, plot_labels=titles, show=False)"
   ]
  },
  {
   "cell_type": "markdown",
   "metadata": {},
   "source": [
    "## Gamma ROC Comparison"
   ]
  },
  {
   "cell_type": "markdown",
   "metadata": {},
   "source": [
    "### Plot Old Discriminant"
   ]
  },
  {
   "cell_type": "code",
   "execution_count": null,
   "metadata": {},
   "outputs": [],
   "source": [
    "short_fpr_list, short_tpr_list, short_thr_list = multi_compute_roc(short_softmax, short_labels, \n",
    "                            true_label=label_dict[\"$e$\"], \n",
    "                            false_label=label_dict[\"$\\gamma$\"],\n",
    "                            normalize=False)"
   ]
  },
  {
   "cell_type": "code",
   "execution_count": null,
   "metadata": {},
   "outputs": [],
   "source": [
    "fpr_list = short_fpr_list\n",
    "tpr_list = short_tpr_list\n",
    "thr_list = short_thr_list"
   ]
  },
  {
   "cell_type": "code",
   "execution_count": null,
   "metadata": {},
   "outputs": [],
   "source": [
    "figs = multi_plot_roc(fpr_list, tpr_list, thr_list, \"$e$\", \"$\\gamma$\", \n",
    "                      fig_list=[1], ylims=[[1,3e6]], \n",
    "                      linestyles=linestyle,linecolors=linecolor, plot_labels=titles, show=False)"
   ]
  },
  {
   "cell_type": "code",
   "execution_count": null,
   "metadata": {},
   "outputs": [],
   "source": [
    "figs = multi_plot_roc(fpr_list, tpr_list, thr_list, \"$e$\", \"$\\gamma$\",\n",
    "                      fig_list=[1], xlims=[[0.6, 1.0]], ylims=[[1,4e0]], \n",
    "                      linestyles=linestyle,linecolors=linecolor, plot_labels=titles, show=False)"
   ]
  },
  {
   "cell_type": "markdown",
   "metadata": {},
   "source": [
    "### Load fitqun results"
   ]
  },
  {
   "cell_type": "code",
   "execution_count": null,
   "metadata": {},
   "outputs": [],
   "source": [
    "short_fq_scores, short_fq_labels, short_fq_mom = load_gamma_fq_output(fq_mapping_path, gamma_file_path, e_file_path, mu_file_path)"
   ]
  },
  {
   "cell_type": "markdown",
   "metadata": {},
   "source": [
    "### Load resnet results"
   ]
  },
  {
   "cell_type": "code",
   "execution_count": null,
   "metadata": {},
   "outputs": [],
   "source": [
    "############# load short tank run data #############\n",
    "short_idx_file_path = '/fast_scratch/WatChMaL/data/IWCD_mPMT_Short_3M_OD_veto_idxs.npz'\n",
    "short_indices = np.load(short_idx_file_path)['test_idxs']\n",
    "\n",
    "short_raw_output_softmax    = [np.load(loc + \"/softmax.npy\") for loc in short_locs]\n",
    "short_raw_actual_labels     = [np.load(loc + \"/labels.npy\") for loc in short_locs]"
   ]
  },
  {
   "cell_type": "markdown",
   "metadata": {},
   "source": [
    "### Add fitqun results"
   ]
  },
  {
   "cell_type": "code",
   "execution_count": null,
   "metadata": {},
   "outputs": [],
   "source": [
    "short_raw_output_softmax = short_raw_output_softmax + [short_fq_scores]\n",
    "short_raw_actual_labels  = short_raw_actual_labels + [short_fq_labels]"
   ]
  },
  {
   "cell_type": "markdown",
   "metadata": {},
   "source": [
    "### Filter results"
   ]
  },
  {
   "cell_type": "code",
   "execution_count": null,
   "metadata": {},
   "outputs": [],
   "source": [
    "short_softmax = [remove_indices(softmax, cut_to_apply) for softmax in short_raw_output_softmax]\n",
    "short_labels  = [remove_indices(labels, cut_to_apply) for labels in short_raw_actual_labels]"
   ]
  },
  {
   "cell_type": "code",
   "execution_count": null,
   "metadata": {},
   "outputs": [],
   "source": [
    "short_fpr_list, short_tpr_list, short_thr_list = multi_compute_roc(short_softmax, short_labels, \n",
    "                            true_label=label_dict[\"$e$\"], \n",
    "                            false_label=label_dict[\"$\\gamma$\"],\n",
    "                            normalize=False)"
   ]
  },
  {
   "cell_type": "code",
   "execution_count": null,
   "metadata": {},
   "outputs": [],
   "source": [
    "fpr_list = short_fpr_list\n",
    "tpr_list = short_tpr_list\n",
    "thr_list = short_thr_list"
   ]
  },
  {
   "cell_type": "code",
   "execution_count": null,
   "metadata": {},
   "outputs": [],
   "source": [
    "figs = multi_plot_roc(fpr_list, tpr_list, thr_list, \"$e$\", \"$\\gamma$\", \n",
    "                      fig_list=[1], ylims=[[1,3e6]], \n",
    "                      linestyles=linestyle,linecolors=linecolor, plot_labels=titles, show=False)"
   ]
  },
  {
   "cell_type": "code",
   "execution_count": null,
   "metadata": {},
   "outputs": [],
   "source": [
    "figs = multi_plot_roc(fpr_list, tpr_list, thr_list, \"$e$\", \"$\\gamma$\",\n",
    "                      fig_list=[1], xlims=[[0.6, 1.0]], ylims=[[1,4e0]], \n",
    "                      linestyles=linestyle,linecolors=linecolor, plot_labels=titles, show=False)"
   ]
  },
  {
   "cell_type": "markdown",
   "metadata": {},
   "source": [
    "## Pi0 ROC Comparison (Preliminary)"
   ]
  },
  {
   "cell_type": "code",
   "execution_count": null,
   "metadata": {},
   "outputs": [],
   "source": [
    "short_fq_scores, short_fq_labels, short_fq_mom, fq_masses = load_pion_fq_output(fq_mapping_path, gamma_file_path, e_file_path, mu_file_path, pion_file_path)"
   ]
  },
  {
   "cell_type": "code",
   "execution_count": null,
   "metadata": {},
   "outputs": [],
   "source": [
    "print(short_fq_scores[:, 1][short_fq_labels == 3])\n",
    "#print(len(set(short_fq_scores[:, 1])))\n",
    "#print(len())"
   ]
  },
  {
   "cell_type": "code",
   "execution_count": null,
   "metadata": {},
   "outputs": [],
   "source": [
    "short_fq_scores = -short_fq_scores"
   ]
  },
  {
   "cell_type": "markdown",
   "metadata": {},
   "source": [
    "### Add fitqun results"
   ]
  },
  {
   "cell_type": "code",
   "execution_count": null,
   "metadata": {},
   "outputs": [],
   "source": [
    "############# load short tank run data #############\n",
    "short_idx_file_path = '/fast_scratch/WatChMaL/data/IWCD_mPMT_Short_4_class_3M_emgp0_idxs.npz'\n",
    "short_indices = np.load(short_idx_file_path)['test_idxs']\n",
    "\n",
    "short_raw_output_softmax    = [np.load(loc + \"/softmax.npy\") for loc in short_locs]\n",
    "short_raw_actual_labels     = [np.load(loc + \"/labels.npy\") for loc in short_locs]"
   ]
  },
  {
   "cell_type": "code",
   "execution_count": null,
   "metadata": {},
   "outputs": [],
   "source": [
    "short_raw_output_softmax = short_raw_output_softmax + [short_fq_scores]\n",
    "short_raw_actual_labels  = short_raw_actual_labels + [short_fq_labels]"
   ]
  },
  {
   "cell_type": "markdown",
   "metadata": {},
   "source": [
    "### Filter results"
   ]
  },
  {
   "cell_type": "code",
   "execution_count": null,
   "metadata": {},
   "outputs": [],
   "source": [
    "short_softmax = [remove_indices(softmax, cut_to_apply) for softmax in short_raw_output_softmax]\n",
    "short_labels  = [remove_indices(labels, cut_to_apply) for labels in short_raw_actual_labels]"
   ]
  },
  {
   "cell_type": "code",
   "execution_count": null,
   "metadata": {},
   "outputs": [],
   "source": [
    "short_fpr_list, short_tpr_list, short_thr_list = multi_compute_roc(short_softmax, short_labels, \n",
    "                            true_label=label_dict[\"$e$\"], \n",
    "                            false_label=label_dict[\"$\\pi 0$\"],\n",
    "                            normalize=False)"
   ]
  },
  {
   "cell_type": "code",
   "execution_count": null,
   "metadata": {},
   "outputs": [],
   "source": [
    "fpr_list = short_fpr_list\n",
    "tpr_list = short_tpr_list\n",
    "thr_list = short_thr_list"
   ]
  },
  {
   "cell_type": "code",
   "execution_count": null,
   "metadata": {},
   "outputs": [],
   "source": [
    "figs = multi_plot_roc(fpr_list, tpr_list, thr_list, \"$e$\", \"$\\pi 0$\", \n",
    "                      fig_list=[1], ylims=[[1,3e6]], \n",
    "                      linestyles=linestyle,linecolors=linecolor, plot_labels=titles, show=False)"
   ]
  },
  {
   "cell_type": "code",
   "execution_count": null,
   "metadata": {},
   "outputs": [],
   "source": [
    "figs = multi_plot_roc(fpr_list, tpr_list, thr_list, \"$e$\", \"$\\pi0\",\n",
    "                      fig_list=[1], xlims=[[0.9, 1.0]], ylims=[[1,3e5]], \n",
    "                      linestyles=linestyle,linecolors=linecolor, plot_labels=titles, show=False)"
   ]
  }
 ],
 "metadata": {
  "kernelspec": {
   "display_name": "Python 3",
   "language": "python",
   "name": "python3"
  },
  "language_info": {
   "codemirror_mode": {
    "name": "ipython",
    "version": 3
   },
   "file_extension": ".py",
   "mimetype": "text/x-python",
   "name": "python",
   "nbconvert_exporter": "python",
   "pygments_lexer": "ipython3",
   "version": "3.8.5"
  }
 },
 "nbformat": 4,
 "nbformat_minor": 4
}
