{
 "cells": [
  {
   "cell_type": "code",
   "execution_count": 1,
   "metadata": {},
   "outputs": [],
   "source": [
    "import uproot\n",
    "import numpy as np\n",
    "import sys\n",
    "import h5py\n",
    "import pickle"
   ]
  },
  {
   "cell_type": "code",
   "execution_count": 2,
   "metadata": {},
   "outputs": [],
   "source": [
    "if '../../WatChMaL' not in sys.path:\n",
    "    sys.path.append('../../WatChMaL')\n",
    "\n",
    "from watchmal.dataset.DigiTruthMapping import DigiTruthMapping\n",
    "from watchmal.dataset.h5_dataset import H5TrueDataset\n",
    "from watchmal.dataset.cnn_mpmt.cnn_mpmt_dataset import CNNmPMTDataset"
   ]
  },
  {
   "cell_type": "code",
   "execution_count": 3,
   "metadata": {},
   "outputs": [],
   "source": [
    "## Load Dataset"
   ]
  },
  {
   "cell_type": "code",
   "execution_count": 4,
   "metadata": {},
   "outputs": [
    {
     "name": "stdout",
     "output_type": "stream",
     "text": [
      "<KeysViewHDF5 ['angles', 'energies', 'event_hits_index', 'event_ids', 'hit_charge', 'hit_pmt', 'hit_time', 'labels', 'positions', 'root_files', 'veto', 'veto2']>\n"
     ]
    }
   ],
   "source": [
    "# Import test events from h5 file\n",
    "data_path = \"/fast_scratch/WatChMaL/data/IWCD_mPMT_Short_emgp0_E0to1000MeV_digihits.h5\"\n",
    "data_file = h5py.File(data_path, \"r\")\n",
    "\n",
    "print(data_file.keys())\n",
    "\n",
    "angles     = np.array(data_file['angles'])\n",
    "energies   = np.array(data_file['energies'])\n",
    "positions  = np.array(data_file['positions'])\n",
    "labels     = np.array(data_file['labels'])\n",
    "root_files = np.array(data_file['root_files'])\n",
    "event_ids  = np.array(data_file['event_ids'])\n",
    "vetos      = np.array(data_file['veto'])"
   ]
  },
  {
   "cell_type": "code",
   "execution_count": 5,
   "metadata": {},
   "outputs": [],
   "source": [
    "idxs_path = '/fast_scratch/WatChMaL/data/IWCD_mPMT_Short_4_class_3M_emgp0_idxs.npz'\n",
    "idxs = np.load(idxs_path, allow_pickle=True)\n",
    "\n",
    "train_idxs = idxs['train_idxs']\n",
    "val_idxs   = idxs['val_idxs']\n",
    "test_idxs  = idxs['test_idxs']"
   ]
  },
  {
   "cell_type": "code",
   "execution_count": 6,
   "metadata": {},
   "outputs": [
    {
     "name": "stdout",
     "output_type": "stream",
     "text": [
      "[b'/localscratch/prouse.56905527.0/WCSim/e-/E0to1000MeV/unif-pos-R400-y300cm/4pi-dir/IWCD_mPMT_Short_e-_E0to1000MeV_unif-pos-R400-y300cm_4pi-dir_3000evts_0.root'\n",
      " b'/localscratch/prouse.56905527.0/WCSim/e-/E0to1000MeV/unif-pos-R400-y300cm/4pi-dir/IWCD_mPMT_Short_e-_E0to1000MeV_unif-pos-R400-y300cm_4pi-dir_3000evts_0.root']\n"
     ]
    }
   ],
   "source": [
    "print(root_files[test_idxs][0:2])"
   ]
  },
  {
   "cell_type": "code",
   "execution_count": 7,
   "metadata": {},
   "outputs": [],
   "source": [
    "## Load vetos"
   ]
  },
  {
   "cell_type": "code",
   "execution_count": 30,
   "metadata": {},
   "outputs": [],
   "source": [
    "test_vetos  = vetos[test_idxs]\n",
    "test_labels = labels[test_idxs]\n",
    "\n",
    "e_OD_veto   = (test_labels == 1) & (test_vetos)\n",
    "mu_OD_veto  = (test_labels == 2) & (test_vetos)"
   ]
  },
  {
   "cell_type": "code",
   "execution_count": 9,
   "metadata": {},
   "outputs": [],
   "source": [
    "## Load True Momenta"
   ]
  },
  {
   "cell_type": "code",
   "execution_count": 10,
   "metadata": {},
   "outputs": [],
   "source": [
    "momenta = np.load('./prep_data/3M_momenta.npz', allow_pickle=True)\n",
    "\n",
    "test_true_momenta = momenta['test_momenta']"
   ]
  },
  {
   "cell_type": "code",
   "execution_count": 11,
   "metadata": {},
   "outputs": [],
   "source": [
    "## Load to_wall"
   ]
  },
  {
   "cell_type": "code",
   "execution_count": 12,
   "metadata": {},
   "outputs": [],
   "source": [
    "to_wall = np.load('./prep_data/3M_d_to_wall.npz', allow_pickle=True)\n",
    "\n",
    "test_to_wall = to_wall['test_d_to_wall'] / 100"
   ]
  },
  {
   "cell_type": "code",
   "execution_count": 13,
   "metadata": {},
   "outputs": [],
   "source": [
    "## Load d_wall"
   ]
  },
  {
   "cell_type": "code",
   "execution_count": 14,
   "metadata": {},
   "outputs": [],
   "source": [
    "d_wall = np.load('./prep_data/3M_d_wall.npz', allow_pickle=True)\n",
    "\n",
    "test_d_wall = d_wall['test_d_wall'] / 100"
   ]
  },
  {
   "cell_type": "code",
   "execution_count": 15,
   "metadata": {},
   "outputs": [],
   "source": [
    "## Load Data Mappings"
   ]
  },
  {
   "cell_type": "code",
   "execution_count": 16,
   "metadata": {},
   "outputs": [
    {
     "name": "stdout",
     "output_type": "stream",
     "text": [
      "9825\n"
     ]
    }
   ],
   "source": [
    "dtm = DigiTruthMapping(dataset='./prep_data/data_for_truth.pkl', mcset='./prep_data/truth_for_data.pkl')\n",
    "print(dtm.get_data_entry(10000))"
   ]
  },
  {
   "cell_type": "code",
   "execution_count": 17,
   "metadata": {},
   "outputs": [
    {
     "name": "stdout",
     "output_type": "stream",
     "text": [
      "9572\n"
     ]
    }
   ],
   "source": [
    "pion_dtm = DigiTruthMapping(dataset='./prep_data/pion_data_for_truth.pkl', mcset='./prep_data/pion_truth_for_data.pkl')\n",
    "print(pion_dtm.get_data_entry(10000))"
   ]
  },
  {
   "cell_type": "code",
   "execution_count": 18,
   "metadata": {},
   "outputs": [],
   "source": [
    "## Load fitqun Flags"
   ]
  },
  {
   "cell_type": "code",
   "execution_count": 19,
   "metadata": {},
   "outputs": [
    {
     "data": {
      "text/plain": [
       "AsJagged(AsDtype(\"('>i4', (7,))\"))"
      ]
     },
     "execution_count": 19,
     "metadata": {},
     "output_type": "execute_result"
    }
   ],
   "source": [
    "# Retrieve flags\n",
    "gamma_file_data   = uproot.open('/fast_scratch/WatChMaL/data/IWCD_mPMT_Short_gamma_E0to1000MeV_unif-pos-R400-y300cm_4pi-dir.fiTQun.root')['fiTQun;1']\n",
    "e_file_data       = uproot.open('/fast_scratch/WatChMaL/data/IWCD_mPMT_Short_e-_E0to1000MeV_unif-pos-R400-y300cm_4pi-dir.fiTQun.root')['fiTQun;1']\n",
    "mu_file_data      = uproot.open('/fast_scratch/WatChMaL/data/IWCD_mPMT_Short_mu-_E0to1000MeV_unif-pos-R400-y300cm_4pi-dir.fiTQun.root')['fiTQun;1']\n",
    "pion_file_data    = uproot.open('/fast_scratch/WatChMaL/data/IWCD_mPMT_Short_pi0_E0to1000MeV_unif-pos-R400-y300cm_4pi-dir.fiTQun.root')['fiTQun;1']\n",
    "\n",
    "gamma_file_data['fq1rpcflg'].interpretation"
   ]
  },
  {
   "cell_type": "code",
   "execution_count": 20,
   "metadata": {},
   "outputs": [],
   "source": [
    "gamma_fqpi0mom1 = gamma_file_data.arrays('fqpi0mom1')['fqpi0mom1']\n",
    "gamma_fqpi0mom2 = gamma_file_data.arrays('fqpi0mom2')['fqpi0mom2']\n",
    "gamma_fqpi0nll  = gamma_file_data.arrays('fqpi0nll')['fqpi0nll']\n",
    "gamma_fqpi0mass = gamma_file_data.arrays('fqpi0mass')['fqpi0mass']\n",
    "\n",
    "e_fqpi0mom1 = e_file_data.arrays('fqpi0mom1')['fqpi0mom1']\n",
    "e_fqpi0mom2 = e_file_data.arrays('fqpi0mom2')['fqpi0mom2']\n",
    "e_fqpi0nll  = e_file_data.arrays('fqpi0nll')['fqpi0nll']\n",
    "e_fqpi0mass = e_file_data.arrays('fqpi0mass')['fqpi0mass']\n",
    "\n",
    "mu_fqpi0mom1 = mu_file_data.arrays('fqpi0mom1')['fqpi0mom1']\n",
    "mu_fqpi0mom2 = mu_file_data.arrays('fqpi0mom2')['fqpi0mom2']\n",
    "mu_fqpi0nll  = mu_file_data.arrays('fqpi0nll')['fqpi0nll']\n",
    "mu_fqpi0mass = mu_file_data.arrays('fqpi0mass')['fqpi0mass']\n",
    "\n",
    "pion_fqpi0mom1 = pion_file_data.arrays('fqpi0mom1')['fqpi0mom1']\n",
    "pion_fqpi0mom2 = pion_file_data.arrays('fqpi0mom2')['fqpi0mom2']\n",
    "pion_fqpi0nll  = pion_file_data.arrays('fqpi0nll')['fqpi0nll']\n",
    "pion_fqpi0mass = pion_file_data.arrays('fqpi0mass')['fqpi0mass']"
   ]
  },
  {
   "cell_type": "code",
   "execution_count": 21,
   "metadata": {},
   "outputs": [
    {
     "name": "stdout",
     "output_type": "stream",
     "text": [
      "(1200000,)\n"
     ]
    }
   ],
   "source": [
    "print(np.array(pion_fqpi0mass[:, 0]).shape)"
   ]
  },
  {
   "cell_type": "code",
   "execution_count": 22,
   "metadata": {},
   "outputs": [],
   "source": [
    "truehits_filepath = '/data/WatChMaL/data/IWCD_mPMT_Short_emg_E0to1000MeV_truehits.h5'\n",
    "truehits_dataset = H5TrueDataset(h5_path=truehits_filepath)"
   ]
  },
  {
   "cell_type": "code",
   "execution_count": 32,
   "metadata": {},
   "outputs": [
    {
     "name": "stdout",
     "output_type": "stream",
     "text": [
      "(21000000,)\n",
      "3000000\n",
      "0\n",
      "6000000\n",
      "20613195\n"
     ]
    }
   ],
   "source": [
    "# find indices in true dataset for offset to fitqun files\n",
    "print(truehits_dataset.labels.shape)\n",
    "gamma_base_idx = np.where(truehits_dataset.labels == 0)[0][0]\n",
    "e_base_idx     = np.where(truehits_dataset.labels == 1)[0][0]\n",
    "mu_base_idx    = np.where(truehits_dataset.labels == 2)[0][0]\n",
    "pion_base_idx  = np.where(labels == 3)[0][0]\n",
    "\n",
    "print(gamma_base_idx)\n",
    "print(e_base_idx)\n",
    "print(mu_base_idx)\n",
    "print(pion_base_idx)"
   ]
  },
  {
   "cell_type": "code",
   "execution_count": 24,
   "metadata": {},
   "outputs": [
    {
     "name": "stdout",
     "output_type": "stream",
     "text": [
      "[6000000 6000001 6000002 ... 8999997 8999998 8999999]\n"
     ]
    }
   ],
   "source": [
    "print(np.sort(np.where(truehits_dataset.labels == 2)[0]))"
   ]
  },
  {
   "cell_type": "code",
   "execution_count": 25,
   "metadata": {},
   "outputs": [],
   "source": [
    "gamma_flags = gamma_file_data.arrays('fq1rpcflg')['fq1rpcflg']\n",
    "e_flags     = e_file_data.arrays('fq1rpcflg')['fq1rpcflg']\n",
    "mu_flags    = mu_file_data.arrays('fq1rpcflg')['fq1rpcflg']\n",
    "pion_flags  = pion_file_data.arrays('fq1rpcflg')['fq1rpcflg']\n",
    "\n",
    "gamma_fq1rpcflg_1 = np.array(gamma_flags[:, 0, 1])\n",
    "e_fq1rpcflg_1     = np.array(e_flags[:, 0, 1])\n",
    "mu_fq1rpcflg_1    = np.array(mu_flags[:, 0, 1])\n",
    "pion_fq1rpcflg_1  = np.array(pion_flags[:, 0, 1])\n",
    "\n",
    "gamma_fq1rpcflg_2 = np.array(gamma_flags[:, 0, 2])\n",
    "e_fq1rpcflg_2     = np.array(e_flags[:, 0, 2])\n",
    "mu_fq1rpcflg_2    = np.array(mu_flags[:, 0, 2])\n",
    "pion_fq1rpcflg_2  = np.array(pion_flags[:, 0, 2])"
   ]
  },
  {
   "cell_type": "code",
   "execution_count": 36,
   "metadata": {},
   "outputs": [],
   "source": [
    "# Construct mapping from test set to fitqun\n",
    "gamma_fq_indices = []\n",
    "e_fq_indices     = []\n",
    "mu_fq_indices    = []\n",
    "pion_fq_indices  = []\n",
    "for idx in test_idxs:\n",
    "    particle_label = labels[idx]\n",
    "    truehits_index = dtm.get_truth_entry(idx)\n",
    "    \n",
    "    if particle_label == 0:\n",
    "        gamma_fq_indices.append(truehits_index % gamma_base_idx)\n",
    "    elif particle_label == 1:\n",
    "        e_fq_indices.append(truehits_index)\n",
    "    elif particle_label == 2:\n",
    "        mu_fq_indices.append(truehits_index % mu_base_idx)\n",
    "    elif particle_label == 3:\n",
    "        # Use pion map instead\n",
    "        truehits_index = pion_dtm.get_truth_entry(idx % pion_base_idx)\n",
    "        pion_fq_indices.append(truehits_index)\n",
    "    \n",
    "gamma_fq_indices = np.array(gamma_fq_indices)\n",
    "e_fq_indices     = np.array(e_fq_indices)\n",
    "mu_fq_indices    = np.array(mu_fq_indices)\n",
    "pion_fq_indices  = np.array(pion_fq_indices)"
   ]
  },
  {
   "cell_type": "code",
   "execution_count": 39,
   "metadata": {},
   "outputs": [],
   "source": [
    "test_fq1rpcflg_1 = np.concatenate((e_fq1rpcflg_1[e_fq_indices],\n",
    "                                  mu_fq1rpcflg_1[mu_fq_indices],\n",
    "                                  gamma_fq1rpcflg_1[gamma_fq_indices],\n",
    "                                  pion_fq1rpcflg_1[pion_fq_indices]\n",
    "                                )) != 0\n",
    "\n",
    "test_fq1rpcflg_2 = np.concatenate((e_fq1rpcflg_2[e_fq_indices],\n",
    "                                  mu_fq1rpcflg_2[mu_fq_indices],\n",
    "                                  gamma_fq1rpcflg_2[gamma_fq_indices],\n",
    "                                  pion_fq1rpcflg_2[pion_fq_indices]\n",
    "                                )) != 0"
   ]
  },
  {
   "cell_type": "code",
   "execution_count": 40,
   "metadata": {},
   "outputs": [],
   "source": [
    "## Define cuts"
   ]
  },
  {
   "cell_type": "code",
   "execution_count": 41,
   "metadata": {},
   "outputs": [],
   "source": [
    "to_wall_cut = ((test_labels == 0) | (test_labels == 1) | (test_labels == 3)) & (test_to_wall < 0.63*np.log(test_true_momenta) - 2)\n",
    "d_wall_cut  = test_d_wall < 0.5"
   ]
  },
  {
   "cell_type": "code",
   "execution_count": 42,
   "metadata": {},
   "outputs": [
    {
     "name": "stdout",
     "output_type": "stream",
     "text": [
      "2.9999810457229614\n"
     ]
    }
   ],
   "source": [
    "print(np.max(test_d_wall))"
   ]
  },
  {
   "cell_type": "code",
   "execution_count": 43,
   "metadata": {},
   "outputs": [],
   "source": [
    "fq_comparison = to_wall_cut | d_wall_cut | mu_OD_veto | test_fq1rpcflg_1 | test_fq1rpcflg_2"
   ]
  },
  {
   "cell_type": "code",
   "execution_count": 44,
   "metadata": {},
   "outputs": [
    {
     "name": "stdout",
     "output_type": "stream",
     "text": [
      "[3523327 1148422]\n",
      "[3049812 1621937]\n",
      "[4157833  513916]\n",
      "[3761803  909946]\n",
      "[3985659  686090]\n",
      "####################\n",
      "[1983641 2688108]\n"
     ]
    }
   ],
   "source": [
    "print(np.bincount(to_wall_cut))\n",
    "print(np.bincount(d_wall_cut))\n",
    "print(np.bincount(mu_OD_veto))\n",
    "print(np.bincount(test_fq1rpcflg_1))\n",
    "print(np.bincount(test_fq1rpcflg_2))\n",
    "print(\"####################\")\n",
    "\n",
    "print(np.bincount(fq_comparison))"
   ]
  },
  {
   "cell_type": "code",
   "execution_count": 45,
   "metadata": {},
   "outputs": [
    {
     "name": "stdout",
     "output_type": "stream",
     "text": [
      "(4671749,)\n",
      "#######################\n",
      "(1148422,)\n",
      "(1621937,)\n",
      "(513916,)\n",
      "(909946,)\n",
      "(686090,)\n"
     ]
    }
   ],
   "source": [
    "print(test_idxs.shape)\n",
    "print('#######################')\n",
    "print(np.where(to_wall_cut)[0].shape)\n",
    "print(np.where(d_wall_cut)[0].shape)\n",
    "print(np.where(mu_OD_veto)[0].shape)\n",
    "print(np.where(test_fq1rpcflg_1)[0].shape)\n",
    "print(np.where(test_fq1rpcflg_2)[0].shape)"
   ]
  },
  {
   "cell_type": "code",
   "execution_count": 46,
   "metadata": {},
   "outputs": [
    {
     "name": "stdout",
     "output_type": "stream",
     "text": [
      "(4671749,)\n",
      "(2688108,)\n"
     ]
    }
   ],
   "source": [
    "print(fq_comparison.shape)\n",
    "print(np.where(fq_comparison)[0].shape)"
   ]
  },
  {
   "cell_type": "code",
   "execution_count": 47,
   "metadata": {},
   "outputs": [
    {
     "name": "stdout",
     "output_type": "stream",
     "text": [
      "(1983641,)\n"
     ]
    }
   ],
   "source": [
    "print(np.delete(test_idxs, np.where(fq_comparison)[0], 0).shape)"
   ]
  },
  {
   "cell_type": "code",
   "execution_count": 48,
   "metadata": {},
   "outputs": [],
   "source": [
    "fq_comparison_OD_veto = fq_comparison | e_OD_veto"
   ]
  },
  {
   "cell_type": "code",
   "execution_count": 49,
   "metadata": {},
   "outputs": [],
   "source": [
    "cuts = {\n",
    "        'fq_comparison'        : np.where(fq_comparison)[0],\n",
    "        'fq_comparison_OD_veto': np.where(fq_comparison_OD_veto)[0],\n",
    "        'to_wall_cut'          : np.where(to_wall_cut)[0],\n",
    "        'd_wall_cut'           : np.where(d_wall_cut)[0],\n",
    "        'e_OD_veto'            : np.where(e_OD_veto)[0],\n",
    "        'mu_OD_veto'           : np.where(mu_OD_veto)[0],\n",
    "        'fq1rpcflg_1'          : np.where(test_fq1rpcflg_1)[0],\n",
    "        'fq1rpcflg_2'          : np.where(test_fq1rpcflg_2)[0]\n",
    "        }"
   ]
  },
  {
   "cell_type": "code",
   "execution_count": 50,
   "metadata": {},
   "outputs": [],
   "source": [
    "with open('./prep_data/4_class_3M_fitqun_cuts.pickle', 'wb') as handle:\n",
    "    pickle.dump(cuts, handle, protocol=pickle.HIGHEST_PROTOCOL)"
   ]
  },
  {
   "cell_type": "code",
   "execution_count": 51,
   "metadata": {},
   "outputs": [],
   "source": [
    "fq_mapping = {\n",
    "        'gamma_fq_indices': gamma_fq_indices,\n",
    "        'e_fq_indices'    : e_fq_indices,\n",
    "        'mu_fq_indices'   : mu_fq_indices,\n",
    "        'pion_fq_indices' : pion_fq_indices,\n",
    "        }"
   ]
  },
  {
   "cell_type": "code",
   "execution_count": 52,
   "metadata": {},
   "outputs": [],
   "source": [
    "with open('./prep_data/4_class_3M_fitqun_mapping.pickle', 'wb') as handle:\n",
    "    pickle.dump(fq_mapping, handle, protocol=pickle.HIGHEST_PROTOCOL)"
   ]
  },
  {
   "cell_type": "code",
   "execution_count": 53,
   "metadata": {},
   "outputs": [],
   "source": [
    "np.savez('./prep_data/3M_fitqun_cuts.npz', cuts=cuts)"
   ]
  },
  {
   "cell_type": "code",
   "execution_count": 54,
   "metadata": {},
   "outputs": [],
   "source": [
    "fq_test_set = np.concatenate((np.ones_like(np.array(e_fq_indices))*1,\n",
    "                              np.ones_like(np.array(mu_fq_indices))*2,\n",
    "                              np.ones_like(np.array(gamma_fq_indices))*0\n",
    "                             )\n",
    "                            )"
   ]
  }
 ],
 "metadata": {
  "kernelspec": {
   "display_name": "Python 3",
   "language": "python",
   "name": "python3"
  },
  "language_info": {
   "codemirror_mode": {
    "name": "ipython",
    "version": 3
   },
   "file_extension": ".py",
   "mimetype": "text/x-python",
   "name": "python",
   "nbconvert_exporter": "python",
   "pygments_lexer": "ipython3",
   "version": "3.8.5"
  }
 },
 "nbformat": 4,
 "nbformat_minor": 4
}
