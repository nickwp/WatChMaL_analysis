{
 "cells": [
  {
   "cell_type": "code",
   "execution_count": 1,
   "metadata": {},
   "outputs": [],
   "source": [
    "import uproot\n",
    "import numpy as np\n",
    "import sys\n",
    "import h5py\n",
    "import pickle"
   ]
  },
  {
   "cell_type": "code",
   "execution_count": 2,
   "metadata": {},
   "outputs": [],
   "source": [
    "if '../WatChMaL' not in sys.path:\n",
    "    sys.path.append('../WatChMaL')\n",
    "\n",
    "from watchmal.dataset.DigiTruthMapping import DigiTruthMapping\n",
    "from watchmal.dataset.h5_dataset import H5TrueDataset\n",
    "from watchmal.dataset.cnn_mpmt.cnn_mpmt_dataset import CNNmPMTDataset"
   ]
  },
  {
   "cell_type": "code",
   "execution_count": 3,
   "metadata": {},
   "outputs": [],
   "source": [
    "## Load Dataset"
   ]
  },
  {
   "cell_type": "code",
   "execution_count": 4,
   "metadata": {},
   "outputs": [
    {
     "name": "stdout",
     "output_type": "stream",
     "text": [
      "<KeysViewHDF5 ['angles', 'energies', 'event_hits_index', 'event_ids', 'hit_charge', 'hit_pmt', 'hit_time', 'labels', 'positions', 'root_files', 'veto', 'veto2']>\n"
     ]
    }
   ],
   "source": [
    "# Import test events from h5 file\n",
    "data_path = \"/fast_scratch/WatChMaL/data/IWCD_mPMT_Short_emg_E0to1000MeV_digihits.h5\"\n",
    "data_file = h5py.File(data_path, \"r\")\n",
    "\n",
    "print(data_file.keys())\n",
    "\n",
    "angles     = np.array(data_file['angles'])\n",
    "energies   = np.array(data_file['energies'])\n",
    "positions  = np.array(data_file['positions'])\n",
    "labels     = np.array(data_file['labels'])\n",
    "root_files = np.array(data_file['root_files'])\n",
    "event_ids  = np.array(data_file['event_ids'])\n",
    "vetos      = np.array(data_file['veto'])"
   ]
  },
  {
   "cell_type": "code",
   "execution_count": 5,
   "metadata": {},
   "outputs": [],
   "source": [
    "idxs_path = '/fast_scratch/WatChMaL/data/IWCD_mPMT_Short_3M_idxs.npz'\n",
    "idxs = np.load(idxs_path, allow_pickle=True)\n",
    "\n",
    "train_idxs = idxs['train_idxs']\n",
    "val_idxs   = idxs['val_idxs']\n",
    "test_idxs  = idxs['test_idxs']"
   ]
  },
  {
   "cell_type": "code",
   "execution_count": 6,
   "metadata": {},
   "outputs": [
    {
     "name": "stdout",
     "output_type": "stream",
     "text": [
      "[b'/localscratch/prouse.56905527.0/WCSim/e-/E0to1000MeV/unif-pos-R400-y300cm/4pi-dir/IWCD_mPMT_Short_e-_E0to1000MeV_unif-pos-R400-y300cm_4pi-dir_3000evts_0.root'\n",
      " b'/localscratch/prouse.56905527.0/WCSim/e-/E0to1000MeV/unif-pos-R400-y300cm/4pi-dir/IWCD_mPMT_Short_e-_E0to1000MeV_unif-pos-R400-y300cm_4pi-dir_3000evts_0.root']\n"
     ]
    }
   ],
   "source": [
    "print(root_files[test_idxs][0:2])"
   ]
  },
  {
   "cell_type": "code",
   "execution_count": 7,
   "metadata": {},
   "outputs": [],
   "source": [
    "short_ids    = np.load('/home/jtindall/WatChMaL/outputs/2021-03-16/20-21-15/outputs' + \"/ids.npy\")\n",
    "short_labels = np.load('/home/jtindall/WatChMaL/outputs/2021-03-16/20-21-15/outputs' + \"/labels.npy\")"
   ]
  },
  {
   "cell_type": "code",
   "execution_count": 8,
   "metadata": {},
   "outputs": [
    {
     "name": "stdout",
     "output_type": "stream",
     "text": [
      "[1478191 1472353 1455729]\n",
      "[295626 294315 291204]\n",
      "[1182377 1177966 1164139]\n"
     ]
    }
   ],
   "source": [
    "print(np.bincount(labels[train_idxs]))\n",
    "print(np.bincount(labels[val_idxs]))\n",
    "print(np.bincount(labels[test_idxs]))"
   ]
  },
  {
   "cell_type": "code",
   "execution_count": 9,
   "metadata": {},
   "outputs": [
    {
     "name": "stdout",
     "output_type": "stream",
     "text": [
      "[1182377 1177966 1164139]\n",
      "[1182377 1177966 1164139]\n"
     ]
    }
   ],
   "source": [
    "print(np.bincount(labels[test_idxs]))\n",
    "print(np.bincount(short_labels))"
   ]
  },
  {
   "cell_type": "code",
   "execution_count": 10,
   "metadata": {},
   "outputs": [
    {
     "name": "stdout",
     "output_type": "stream",
     "text": [
      "(3524482,)\n",
      "(3524482,)\n"
     ]
    }
   ],
   "source": [
    "print(test_idxs.shape)\n",
    "print(short_labels.shape)"
   ]
  },
  {
   "cell_type": "code",
   "execution_count": 11,
   "metadata": {},
   "outputs": [
    {
     "name": "stdout",
     "output_type": "stream",
     "text": [
      "{0}\n"
     ]
    }
   ],
   "source": [
    "print(set(labels[test_idxs] - short_labels))"
   ]
  },
  {
   "cell_type": "code",
   "execution_count": 12,
   "metadata": {},
   "outputs": [
    {
     "name": "stdout",
     "output_type": "stream",
     "text": [
      "{0}\n"
     ]
    }
   ],
   "source": [
    "print(set(labels[test_idxs] - short_labels))"
   ]
  },
  {
   "cell_type": "code",
   "execution_count": 13,
   "metadata": {},
   "outputs": [],
   "source": [
    "## Load vetos"
   ]
  },
  {
   "cell_type": "code",
   "execution_count": 14,
   "metadata": {},
   "outputs": [],
   "source": [
    "test_vetos  = vetos[test_idxs]\n",
    "test_labels = labels[test_idxs]\n",
    "\n",
    "e_OD_veto   = (test_labels == 1) & (test_vetos)\n",
    "mu_OD_veto  = (test_labels == 2) & (test_vetos)"
   ]
  },
  {
   "cell_type": "code",
   "execution_count": 15,
   "metadata": {},
   "outputs": [],
   "source": [
    "## Load True Momenta"
   ]
  },
  {
   "cell_type": "code",
   "execution_count": 16,
   "metadata": {},
   "outputs": [],
   "source": [
    "momenta = np.load('./fq_comparison_data/3M_momenta.npz', allow_pickle=True)\n",
    "\n",
    "test_true_momenta = momenta['test_momenta']"
   ]
  },
  {
   "cell_type": "code",
   "execution_count": 17,
   "metadata": {},
   "outputs": [],
   "source": [
    "## Load to_wall"
   ]
  },
  {
   "cell_type": "code",
   "execution_count": 18,
   "metadata": {},
   "outputs": [],
   "source": [
    "to_wall = np.load('./fq_comparison_data/3M_d_to_wall.npz', allow_pickle=True)\n",
    "\n",
    "test_to_wall = to_wall['test_d_to_wall'] / 100"
   ]
  },
  {
   "cell_type": "code",
   "execution_count": 19,
   "metadata": {},
   "outputs": [],
   "source": [
    "## Load d_wall"
   ]
  },
  {
   "cell_type": "code",
   "execution_count": 20,
   "metadata": {},
   "outputs": [],
   "source": [
    "d_wall = np.load('./fq_comparison_data/3M_d_wall.npz', allow_pickle=True)\n",
    "\n",
    "test_d_wall = d_wall['test_d_wall'] / 100"
   ]
  },
  {
   "cell_type": "code",
   "execution_count": 21,
   "metadata": {},
   "outputs": [],
   "source": [
    "## Load Data Mapping"
   ]
  },
  {
   "cell_type": "code",
   "execution_count": 22,
   "metadata": {},
   "outputs": [
    {
     "ename": "FileNotFoundError",
     "evalue": "[Errno 2] No such file or directory: './fq_comparison_data/data_for_truth.pkl'",
     "output_type": "error",
     "traceback": [
      "\u001b[0;31m------------------------------------------------------------------------\u001b[0m",
      "\u001b[0;31mFileNotFoundError\u001b[0m                      Traceback (most recent call last)",
      "\u001b[0;32m<ipython-input-22-0e0b8b81f25e>\u001b[0m in \u001b[0;36m<module>\u001b[0;34m\u001b[0m\n\u001b[0;32m----> 1\u001b[0;31m \u001b[0mdtm\u001b[0m \u001b[0;34m=\u001b[0m \u001b[0mDigiTruthMapping\u001b[0m\u001b[0;34m(\u001b[0m\u001b[0mdataset\u001b[0m\u001b[0;34m=\u001b[0m\u001b[0;34m'./fq_comparison_data/data_for_truth.pkl'\u001b[0m\u001b[0;34m,\u001b[0m \u001b[0mmcset\u001b[0m\u001b[0;34m=\u001b[0m\u001b[0;34m'./fq_comparison_data/truth_for_data.pkl'\u001b[0m\u001b[0;34m)\u001b[0m\u001b[0;34m\u001b[0m\u001b[0;34m\u001b[0m\u001b[0m\n\u001b[0m\u001b[1;32m      2\u001b[0m \u001b[0mprint\u001b[0m\u001b[0;34m(\u001b[0m\u001b[0mdtm\u001b[0m\u001b[0;34m.\u001b[0m\u001b[0mget_data_entry\u001b[0m\u001b[0;34m(\u001b[0m\u001b[0;36m10000\u001b[0m\u001b[0;34m)\u001b[0m\u001b[0;34m)\u001b[0m\u001b[0;34m\u001b[0m\u001b[0;34m\u001b[0m\u001b[0m\n",
      "\u001b[0;32m~/WatChMaL_analysis/WatChMaL/watchmal/dataset/DigiTruthMapping.py\u001b[0m in \u001b[0;36m__init__\u001b[0;34m(self, dataset, mcset, base_path, picklefile_dft, picklefile_tfd)\u001b[0m\n\u001b[1;32m     35\u001b[0m \u001b[0;34m\u001b[0m\u001b[0m\n\u001b[1;32m     36\u001b[0m         \u001b[0;32mif\u001b[0m \u001b[0mtype\u001b[0m\u001b[0;34m(\u001b[0m\u001b[0mdataset\u001b[0m\u001b[0;34m)\u001b[0m \u001b[0;32mis\u001b[0m \u001b[0mstr\u001b[0m \u001b[0;32mand\u001b[0m \u001b[0mtype\u001b[0m\u001b[0;34m(\u001b[0m\u001b[0mmcset\u001b[0m\u001b[0;34m)\u001b[0m \u001b[0;32mis\u001b[0m \u001b[0mstr\u001b[0m\u001b[0;34m:\u001b[0m\u001b[0;34m\u001b[0m\u001b[0;34m\u001b[0m\u001b[0m\n\u001b[0;32m---> 37\u001b[0;31m             \u001b[0mself\u001b[0m\u001b[0;34m.\u001b[0m\u001b[0mloadpickles\u001b[0m\u001b[0;34m(\u001b[0m \u001b[0mdataset\u001b[0m\u001b[0;34m,\u001b[0m \u001b[0mmcset\u001b[0m \u001b[0;34m)\u001b[0m\u001b[0;34m\u001b[0m\u001b[0;34m\u001b[0m\u001b[0m\n\u001b[0m\u001b[1;32m     38\u001b[0m             \u001b[0;32mreturn\u001b[0m\u001b[0;34m\u001b[0m\u001b[0;34m\u001b[0m\u001b[0m\n\u001b[1;32m     39\u001b[0m \u001b[0;34m\u001b[0m\u001b[0m\n",
      "\u001b[0;32m~/WatChMaL_analysis/WatChMaL/watchmal/dataset/DigiTruthMapping.py\u001b[0m in \u001b[0;36mloadpickles\u001b[0;34m(self, dft, tfd)\u001b[0m\n\u001b[1;32m     90\u001b[0m \u001b[0;34m\u001b[0m\u001b[0m\n\u001b[1;32m     91\u001b[0m     \u001b[0;32mdef\u001b[0m \u001b[0mloadpickles\u001b[0m\u001b[0;34m(\u001b[0m \u001b[0mself\u001b[0m\u001b[0;34m,\u001b[0m \u001b[0mdft\u001b[0m\u001b[0;34m,\u001b[0m \u001b[0mtfd\u001b[0m \u001b[0;34m)\u001b[0m\u001b[0;34m:\u001b[0m\u001b[0;34m\u001b[0m\u001b[0;34m\u001b[0m\u001b[0m\n\u001b[0;32m---> 92\u001b[0;31m         \u001b[0;32mwith\u001b[0m \u001b[0mopen\u001b[0m\u001b[0;34m(\u001b[0m\u001b[0mdft\u001b[0m\u001b[0;34m,\u001b[0m \u001b[0;34m'rb'\u001b[0m\u001b[0;34m)\u001b[0m \u001b[0;32mas\u001b[0m \u001b[0mf\u001b[0m\u001b[0;34m:\u001b[0m\u001b[0;34m\u001b[0m\u001b[0;34m\u001b[0m\u001b[0m\n\u001b[0m\u001b[1;32m     93\u001b[0m             \u001b[0mself\u001b[0m\u001b[0;34m.\u001b[0m\u001b[0mdata_for_truth\u001b[0m \u001b[0;34m=\u001b[0m \u001b[0mpickle\u001b[0m\u001b[0;34m.\u001b[0m\u001b[0mload\u001b[0m\u001b[0;34m(\u001b[0m\u001b[0mf\u001b[0m\u001b[0;34m)\u001b[0m\u001b[0;34m\u001b[0m\u001b[0;34m\u001b[0m\u001b[0m\n\u001b[1;32m     94\u001b[0m         \u001b[0;32mwith\u001b[0m \u001b[0mopen\u001b[0m\u001b[0;34m(\u001b[0m\u001b[0mtfd\u001b[0m\u001b[0;34m,\u001b[0m \u001b[0;34m'rb'\u001b[0m\u001b[0;34m)\u001b[0m \u001b[0;32mas\u001b[0m \u001b[0mf\u001b[0m\u001b[0;34m:\u001b[0m\u001b[0;34m\u001b[0m\u001b[0;34m\u001b[0m\u001b[0m\n",
      "\u001b[0;31mFileNotFoundError\u001b[0m: [Errno 2] No such file or directory: './fq_comparison_data/data_for_truth.pkl'"
     ]
    }
   ],
   "source": [
    "dtm = DigiTruthMapping(dataset='./fq_comparison_data/data_for_truth.pkl', mcset='./fq_comparison_data/truth_for_data.pkl')\n",
    "print(dtm.get_data_entry(10000))"
   ]
  },
  {
   "cell_type": "code",
   "execution_count": null,
   "metadata": {},
   "outputs": [],
   "source": [
    "## Load fitqun Flags"
   ]
  },
  {
   "cell_type": "code",
   "execution_count": 34,
   "metadata": {},
   "outputs": [],
   "source": [
    "def remove_indices(array, cut_idxs):\n",
    "    return np.delete(array, cut_idxs, 0)\n",
    "\n",
    "with open('./fitqun_comparison_prep/prep_data/4_class_3M_fitqun_cuts.pickle', 'rb') as handle:\n",
    "    cuts = pickle.load(handle)\n",
    "\n",
    "cut_to_apply = cuts['fq_comparison']"
   ]
  },
  {
   "cell_type": "code",
   "execution_count": 24,
   "metadata": {},
   "outputs": [
    {
     "data": {
      "text/plain": [
       "AsJagged(AsDtype(\"('>i4', (7,))\"))"
      ]
     },
     "execution_count": 24,
     "metadata": {},
     "output_type": "execute_result"
    }
   ],
   "source": [
    "# Retrieve flags\n",
    "gamma_file_data   = uproot.open('/fast_scratch/WatChMaL/data/IWCD_mPMT_Short_gamma_E0to1000MeV_unif-pos-R400-y300cm_4pi-dir.fiTQun.root')['fiTQun;1']\n",
    "e_file_data       = uproot.open('/fast_scratch/WatChMaL/data/IWCD_mPMT_Short_e-_E0to1000MeV_unif-pos-R400-y300cm_4pi-dir.fiTQun.root')['fiTQun;1']\n",
    "mu_file_data      = uproot.open('/fast_scratch/WatChMaL/data/IWCD_mPMT_Short_mu-_E0to1000MeV_unif-pos-R400-y300cm_4pi-dir.fiTQun.root')['fiTQun;1']\n",
    "pion_file_data    = uproot.open('/fast_scratch/WatChMaL/data/IWCD_mPMT_Short_pi0_E0to1000MeV_unif-pos-R400-y300cm_4pi-dir.fiTQun.root')['fiTQun;1']\n",
    "# file_data.show()\n",
    "\n",
    "gamma_file_data['fq1rpcflg'].interpretation"
   ]
  },
  {
   "cell_type": "code",
   "execution_count": 36,
   "metadata": {},
   "outputs": [],
   "source": [
    "gamma_fqpi0mom1 = gamma_file_data.arrays('fqpi0mom1')['fqpi0mom1']\n",
    "gamma_fqpi0mom2 = gamma_file_data.arrays('fqpi0mom2')['fqpi0mom2']\n",
    "gamma_fqpi0nll  = gamma_file_data.arrays('fqpi0nll')['fqpi0nll']\n",
    "gamma_fqpi0mass = gamma_file_data.arrays('fqpi0mass')['fqpi0mass']\n",
    "gamma_fqpi0pcflg= gamma_file_data.arrays('fqpi0pcflg')['fqpi0pcflg']\n",
    "\n",
    "e_fqpi0mom1 = e_file_data.arrays('fqpi0mom1')['fqpi0mom1']\n",
    "e_fqpi0mom2 = e_file_data.arrays('fqpi0mom2')['fqpi0mom2']\n",
    "e_fqpi0nll  = e_file_data.arrays('fqpi0nll')['fqpi0nll']\n",
    "e_fqpi0mass = e_file_data.arrays('fqpi0mass')['fqpi0mass']\n",
    "e_fqpi0pcflg= e_file_data.arrays('fqpi0pcflg')['fqpi0pcflg']\n",
    "\n",
    "mu_fqpi0mom1 = mu_file_data.arrays('fqpi0mom1')['fqpi0mom1']\n",
    "mu_fqpi0mom2 = mu_file_data.arrays('fqpi0mom2')['fqpi0mom2']\n",
    "mu_fqpi0nll  = mu_file_data.arrays('fqpi0nll')['fqpi0nll']\n",
    "mu_fqpi0mass = mu_file_data.arrays('fqpi0mass')['fqpi0mass']\n",
    "mu_fqpi0pcflg= mu_file_data.arrays('fqpi0pcflg')['fqpi0pcflg']\n",
    "\n",
    "pion_fqpi0mom1 = pion_file_data.arrays('fqpi0mom1')['fqpi0mom1']\n",
    "pion_fqpi0mom2 = pion_file_data.arrays('fqpi0mom2')['fqpi0mom2']\n",
    "pion_fqpi0nll  = pion_file_data.arrays('fqpi0nll')['fqpi0nll']\n",
    "pion_fqpi0mass = pion_file_data.arrays('fqpi0mass')['fqpi0mass']\n",
    "pion_fqpi0pcflg= pion_file_data.arrays('fqpi0pcflg')['fqpi0pcflg']"
   ]
  },
  {
   "cell_type": "code",
   "execution_count": 41,
   "metadata": {},
   "outputs": [],
   "source": [
    "fq_mapping_path = '/home/jtindall/WatChMaL_analysis/fitqun_comparison/fitqun_comparison_prep/prep_data/4_class_3M_fitqun_mapping.pickle'\n",
    "\n",
    "with open(fq_mapping_path, 'rb') as handle:\n",
    "        fq_mapping = pickle.load(handle)\n",
    "\n",
    "gamma_fq_indices = fq_mapping['gamma_fq_indices']\n",
    "e_fq_indices     = fq_mapping['e_fq_indices']\n",
    "mu_fq_indices    = fq_mapping['mu_fq_indices']\n",
    "pion_fq_indices  = fq_mapping['pion_fq_indices']\n",
    "    \n",
    "# Load gamma results\n",
    "gamma_set_nll = gamma_file_data.arrays('fq1rnll')['fq1rnll']\n",
    "\n",
    "gamma_set_e_nll, gamma_set_mu_nll = gamma_set_nll[:, 0, 1], gamma_set_nll[:, 0, 2]\n",
    "\n",
    "gamma_fqpi0mom1 = gamma_file_data.arrays('fqpi0mom1')['fqpi0mom1'][:, 0]\n",
    "gamma_fqpi0mom2 = gamma_file_data.arrays('fqpi0mom2')['fqpi0mom2'][:, 0]\n",
    "gamma_fqpi0nll  = gamma_file_data.arrays('fqpi0nll')['fqpi0nll'][:, 0]\n",
    "gamma_fqpi0mass = gamma_file_data.arrays('fqpi0mass')['fqpi0mass'][:, 0] \n",
    "\n",
    "gamma_set_discriminator = np.array(gamma_set_e_nll - gamma_fqpi0nll)\n",
    "#gamma_set_discriminator = np.array(gamma_set_mu_nll - gamma_set_e_nll)\n",
    "\n",
    "# Load electron results\n",
    "e_set_nll    = e_file_data.arrays('fq1rnll')['fq1rnll']\n",
    "\n",
    "e_set_e_nll, e_set_mu_nll = e_set_nll[:, 0, 1], e_set_nll[:, 0, 2]\n",
    "\n",
    "e_fqpi0mom1 = e_file_data.arrays('fqpi0mom1')['fqpi0mom1'][:, 0]\n",
    "e_fqpi0mom2 = e_file_data.arrays('fqpi0mom2')['fqpi0mom2'][:, 0]\n",
    "e_fqpi0nll  = e_file_data.arrays('fqpi0nll')['fqpi0nll'][:, 0]\n",
    "e_fqpi0mass = e_file_data.arrays('fqpi0mass')['fqpi0mass'][:, 0]\n",
    "\n",
    "e_set_discriminator = np.array(e_set_e_nll - e_fqpi0nll)\n",
    "#e_set_discriminator = np.array(e_set_mu_nll - e_set_e_nll)\n",
    "\n",
    "# Load mu results\n",
    "mu_set_nll   = mu_file_data.arrays('fq1rnll')['fq1rnll']\n",
    "\n",
    "mu_set_e_nll, mu_set_mu_nll = mu_set_nll[:, 0, 1], mu_set_nll[:, 0, 2]\n",
    "\n",
    "mu_fqpi0mom1 = mu_file_data.arrays('fqpi0mom1')['fqpi0mom1'][:, 0]\n",
    "mu_fqpi0mom2 = mu_file_data.arrays('fqpi0mom2')['fqpi0mom2'][:, 0]\n",
    "mu_fqpi0nll  = mu_file_data.arrays('fqpi0nll')['fqpi0nll'][:, 0]\n",
    "mu_fqpi0mass = mu_file_data.arrays('fqpi0mass')['fqpi0mass'][:, 0]\n",
    "\n",
    "mu_set_discriminator = np.array(mu_set_e_nll - mu_fqpi0nll) \n",
    "#mu_set_discriminator = np.array(mu_set_mu_nll - mu_set_e_nll) \n",
    "\n",
    "# Load pion results\n",
    "pion_set_nll   = pion_file_data.arrays('fq1rnll')['fq1rnll']\n",
    "\n",
    "pion_set_e_nll, pion_set_mu_nll = pion_set_nll[:, 0, 1], pion_set_nll[:, 0, 2]\n",
    "\n",
    "pion_fqpi0mom1 = pion_file_data.arrays('fqpi0mom1')['fqpi0mom1'][:, 0]\n",
    "pion_fqpi0mom2 = pion_file_data.arrays('fqpi0mom2')['fqpi0mom2'][:, 0]\n",
    "pion_fqpi0nll  = pion_file_data.arrays('fqpi0nll')['fqpi0nll'][:, 0]\n",
    "pion_fqpi0mass = pion_file_data.arrays('fqpi0mass')['fqpi0mass'][:, 0]\n",
    "\n",
    "pion_set_discriminator = np.array(pion_set_e_nll - pion_fqpi0nll)\n",
    "#pion_set_discriminator = np.array(pion_set_mu_nll - pion_set_e_nll)\n",
    "\n",
    "# Construct likelihoods\n",
    "fq_likelihoods = np.concatenate((e_set_discriminator[e_fq_indices],\n",
    "                                 mu_set_discriminator[mu_fq_indices],\n",
    "                                 gamma_set_discriminator[gamma_fq_indices],\n",
    "                                 pion_set_discriminator[pion_fq_indices]\n",
    "                                 ))\n",
    "\n",
    "# Collect scores\n",
    "fq_scores = np.zeros((fq_likelihoods.shape[0], 3))\n",
    "fq_scores[:, 1] = fq_likelihoods\n",
    "\n",
    "# Generate labels\n",
    "fq_labels = np.concatenate((np.ones_like(e_set_discriminator[e_fq_indices])*1,\n",
    "                            np.ones_like(mu_set_discriminator[mu_fq_indices])*2,\n",
    "                            np.ones_like(gamma_set_discriminator[gamma_fq_indices])*0,\n",
    "                            np.ones_like(pion_set_discriminator[pion_fq_indices])*3\n",
    "                            ))\n",
    "\n",
    "# Collect reconstructed momentum values\n",
    "gamma_set_mom = np.array(gamma_fqpi0mom1 + gamma_fqpi0mom2)\n",
    "e_set_mom     = np.array(e_fqpi0mom1 + e_fqpi0mom2)\n",
    "mu_set_mom    = np.array(mu_fqpi0mom1 + mu_fqpi0mom2)\n",
    "pion_set_mom  = np.array(pion_fqpi0mom1 + pion_fqpi0mom2)\n",
    "\n",
    "fq_mom = np.concatenate((e_set_mom[e_fq_indices],\n",
    "                         mu_set_mom[mu_fq_indices],\n",
    "                         gamma_set_mom[gamma_fq_indices],\n",
    "                         pion_set_mom[pion_fq_indices]\n",
    "                         ))\n",
    "\n",
    "fq_fqpi0pcflg = np.concatenate((np.array(e_fqpi0pcflg[e_fq_indices]),\n",
    "                                np.array(mu_fqpi0pcflg[mu_fq_indices]),\n",
    "                                np.array(gamma_fqpi0pcflg[gamma_fq_indices]),\n",
    "                                np.array(pion_fqpi0pcflg[pion_fq_indices])\n",
    "                         ))"
   ]
  },
  {
   "cell_type": "code",
   "execution_count": 42,
   "metadata": {},
   "outputs": [],
   "source": [
    "filtered_fq_mom = remove_indices(fq_mom, cut_to_apply)\n",
    "filtered_fq_fqpi0pcflg = remove_indices(fq_fqpi0pcflg, cut_to_apply)"
   ]
  },
  {
   "cell_type": "code",
   "execution_count": 44,
   "metadata": {},
   "outputs": [
    {
     "name": "stdout",
     "output_type": "stream",
     "text": [
      "3618063500000.0\n",
      "[3 0]\n"
     ]
    }
   ],
   "source": [
    "idx = np.argmax(filtered_fq_mom)\n",
    "print(filtered_fq_mom[idx])\n",
    "print(filtered_fq_fqpi0pcflg[idx])"
   ]
  },
  {
   "cell_type": "code",
   "execution_count": 43,
   "metadata": {},
   "outputs": [
    {
     "name": "stdout",
     "output_type": "stream",
     "text": [
      "3618063500000.0\n"
     ]
    }
   ],
   "source": [
    "print(np.max(filtered_fq_mom))"
   ]
  },
  {
   "cell_type": "code",
   "execution_count": 29,
   "metadata": {},
   "outputs": [
    {
     "name": "stdout",
     "output_type": "stream",
     "text": [
      "(1200000,)\n"
     ]
    }
   ],
   "source": [
    "print(np.array(pion_fqpi0mass[:, 0]).shape)"
   ]
  },
  {
   "cell_type": "code",
   "execution_count": 25,
   "metadata": {},
   "outputs": [],
   "source": [
    "truehits_filepath = '/data/WatChMaL/data/IWCD_mPMT_Short_emg_E0to1000MeV_truehits.h5'\n",
    "truehits_dataset = H5TrueDataset(h5_path=truehits_filepath)"
   ]
  },
  {
   "cell_type": "code",
   "execution_count": 26,
   "metadata": {},
   "outputs": [
    {
     "name": "stdout",
     "output_type": "stream",
     "text": [
      "9825\n"
     ]
    }
   ],
   "source": [
    "dtm = DigiTruthMapping(dataset='./fq_comparison_data/data_for_truth.pkl', mcset='./fq_comparison_data/truth_for_data.pkl')\n",
    "print(dtm.get_data_entry(10000))"
   ]
  },
  {
   "cell_type": "code",
   "execution_count": 27,
   "metadata": {},
   "outputs": [
    {
     "name": "stdout",
     "output_type": "stream",
     "text": [
      "10176\n"
     ]
    }
   ],
   "source": [
    "print(dtm.get_truth_entry(10000))"
   ]
  },
  {
   "cell_type": "code",
   "execution_count": 28,
   "metadata": {},
   "outputs": [
    {
     "name": "stdout",
     "output_type": "stream",
     "text": [
      "(21000000,)\n",
      "3000000\n",
      "0\n",
      "6000000\n"
     ]
    }
   ],
   "source": [
    "# find indices in true dataset for offset to fitqun files\n",
    "print(truehits_dataset.labels.shape)\n",
    "gamma_base_idx = np.where(truehits_dataset.labels == 0)[0][0]\n",
    "e_base_idx     = np.where(truehits_dataset.labels == 1)[0][0]\n",
    "mu_base_idx    = np.where(truehits_dataset.labels == 2)[0][0]\n",
    "\n",
    "print(gamma_base_idx)\n",
    "print(e_base_idx)\n",
    "print(mu_base_idx)"
   ]
  },
  {
   "cell_type": "code",
   "execution_count": 29,
   "metadata": {},
   "outputs": [
    {
     "name": "stdout",
     "output_type": "stream",
     "text": [
      "[6000000 6000001 6000002 ... 8999997 8999998 8999999]\n"
     ]
    }
   ],
   "source": [
    "print(np.sort(np.where(truehits_dataset.labels == 2)[0]))"
   ]
  },
  {
   "cell_type": "code",
   "execution_count": 30,
   "metadata": {},
   "outputs": [],
   "source": [
    "digihits_labels = labels"
   ]
  },
  {
   "cell_type": "code",
   "execution_count": 31,
   "metadata": {},
   "outputs": [
    {
     "data": {
      "text/plain": [
       "'/data/WatChMaL/data/IWCD_mPMT_Short_emg_E0to1000MeV_truehits.h5'"
      ]
     },
     "execution_count": 31,
     "metadata": {},
     "output_type": "execute_result"
    }
   ],
   "source": [
    "'/fast_scratch/WatChMaL/data/IWCD_mPMT_Short_emg_E0to1000MeV_digihits.h5'\n",
    "'/data/WatChMaL/data/IWCD_mPMT_Short_emg_E0to1000MeV_truehits.h5'"
   ]
  },
  {
   "cell_type": "code",
   "execution_count": 32,
   "metadata": {},
   "outputs": [
    {
     "name": "stdout",
     "output_type": "stream",
     "text": [
      "1\n",
      "1\n"
     ]
    }
   ],
   "source": [
    "sample_idx = 590500\n",
    "print(digihits_labels[sample_idx])\n",
    "print(truehits_dataset.labels[dtm.get_truth_entry(sample_idx)])"
   ]
  },
  {
   "cell_type": "code",
   "execution_count": 33,
   "metadata": {},
   "outputs": [
    {
     "name": "stdout",
     "output_type": "stream",
     "text": [
      "5890000\n",
      "5989020\n",
      "99020\n"
     ]
    }
   ],
   "source": [
    "sample_idx = 5890000\n",
    "print(sample_idx)\n",
    "print(dtm.get_truth_entry(sample_idx))\n",
    "\n",
    "print(dtm.get_truth_entry(sample_idx) - sample_idx)"
   ]
  },
  {
   "cell_type": "code",
   "execution_count": 34,
   "metadata": {},
   "outputs": [
    {
     "name": "stderr",
     "output_type": "stream",
     "text": [
      "IOPub data rate exceeded.\n",
      "The notebook server will temporarily stop sending output\n",
      "to the client in order to avoid crashing it.\n",
      "To change this limit, set the config variable\n",
      "`--NotebookApp.iopub_data_rate_limit`.\n",
      "\n",
      "Current values:\n",
      "NotebookApp.iopub_data_rate_limit=1000000.0 (bytes/sec)\n",
      "NotebookApp.rate_limit_window=3.0 (secs)\n",
      "\n"
     ]
    }
   ],
   "source": [
    "print(set(dtm.data_for_truth.values()))"
   ]
  },
  {
   "cell_type": "code",
   "execution_count": 35,
   "metadata": {},
   "outputs": [
    {
     "name": "stdout",
     "output_type": "stream",
     "text": [
      "b'/localscratch/prouse.56965017.0/WCSim/gamma/E0to1000MeV/unif-pos-R400-y300cm/4pi-dir/IWCD_mPMT_Short_gamma_E0to1000MeV_unif-pos-R400-y300cm_4pi-dir_3000evts_996.root'\n",
      "b'/localscratch/prouse.56965017.0/WCSim/gamma/E0to1000MeV/unif-pos-R400-y300cm/4pi-dir/IWCD_mPMT_Short_gamma_E0to1000MeV_unif-pos-R400-y300cm_4pi-dir_3000evts_996.root'\n"
     ]
    }
   ],
   "source": [
    "print(root_files[sample_idx])\n",
    "print(truehits_dataset.root_files[dtm.get_truth_entry(sample_idx)])"
   ]
  },
  {
   "cell_type": "code",
   "execution_count": 36,
   "metadata": {},
   "outputs": [
    {
     "name": "stdout",
     "output_type": "stream",
     "text": [
      "2\n",
      "0\n"
     ]
    }
   ],
   "source": [
    "print(labels[5900828])\n",
    "print(truehits_dataset.labels[5901000])"
   ]
  },
  {
   "cell_type": "code",
   "execution_count": 37,
   "metadata": {},
   "outputs": [
    {
     "name": "stdout",
     "output_type": "stream",
     "text": [
      "5803179\n"
     ]
    }
   ],
   "source": [
    "print(dtm.get_data_entry( 5901000 ))"
   ]
  },
  {
   "cell_type": "code",
   "execution_count": 38,
   "metadata": {},
   "outputs": [
    {
     "name": "stdout",
     "output_type": "stream",
     "text": [
      "(21000000,)\n"
     ]
    }
   ],
   "source": [
    "print(truehits_dataset.root_files.shape)"
   ]
  },
  {
   "cell_type": "code",
   "execution_count": 39,
   "metadata": {},
   "outputs": [],
   "source": [
    "gamma_flags = gamma_file_data.arrays('fq1rpcflg')['fq1rpcflg']\n",
    "e_flags     = e_file_data.arrays('fq1rpcflg')['fq1rpcflg']\n",
    "mu_flags    = mu_file_data.arrays('fq1rpcflg')['fq1rpcflg']\n",
    "\n",
    "gamma_fq1rpcflg_1 = np.array(gamma_flags[:, 0, 1])\n",
    "e_fq1rpcflg_1     = np.array(e_flags[:, 0, 1])\n",
    "mu_fq1rpcflg_1    = np.array(mu_flags[:, 0, 1])\n",
    "\n",
    "gamma_fq1rpcflg_2 = np.array(gamma_flags[:, 0, 2])\n",
    "e_fq1rpcflg_2     = np.array(e_flags[:, 0, 2])\n",
    "mu_fq1rpcflg_2    = np.array(mu_flags[:, 0, 2])"
   ]
  },
  {
   "cell_type": "code",
   "execution_count": 40,
   "metadata": {},
   "outputs": [],
   "source": [
    "# Construct mapping from test set to fitqun\n",
    "gamma_fq_indices = []\n",
    "e_fq_indices     = []\n",
    "mu_fq_indices    = []\n",
    "for idx in test_idxs:\n",
    "    particle_label = labels[idx]\n",
    "    truehits_index = dtm.get_truth_entry(idx)\n",
    "    \n",
    "    if particle_label == 0:\n",
    "        gamma_fq_indices.append(truehits_index % gamma_base_idx)\n",
    "    elif particle_label == 1:\n",
    "        e_fq_indices.append(truehits_index)\n",
    "    elif particle_label == 2:\n",
    "        mu_fq_indices.append(truehits_index % mu_base_idx)\n",
    "    \n",
    "gamma_fq_indices = np.array(gamma_fq_indices)\n",
    "e_fq_indices     = np.array(e_fq_indices)\n",
    "mu_fq_indices    = np.array(mu_fq_indices)"
   ]
  },
  {
   "cell_type": "code",
   "execution_count": 41,
   "metadata": {},
   "outputs": [],
   "source": [
    "test_fq1rpcflg_1 = np.concatenate((e_fq1rpcflg_1[e_fq_indices],\n",
    "                                  mu_fq1rpcflg_1[mu_fq_indices],\n",
    "                                  gamma_fq1rpcflg_1[gamma_fq_indices]\n",
    "                                )) != 0\n",
    "\n",
    "test_fq1rpcflg_2 = np.concatenate((e_fq1rpcflg_2[e_fq_indices],\n",
    "                                  mu_fq1rpcflg_2[mu_fq_indices],\n",
    "                                  gamma_fq1rpcflg_2[gamma_fq_indices]\n",
    "                                )) != 0"
   ]
  },
  {
   "cell_type": "code",
   "execution_count": 42,
   "metadata": {},
   "outputs": [],
   "source": [
    "## Define cuts"
   ]
  },
  {
   "cell_type": "code",
   "execution_count": 43,
   "metadata": {},
   "outputs": [],
   "source": [
    "to_wall_cut = ((test_labels == 1) | (test_labels == 0)) & (test_to_wall < 0.63*np.log(test_true_momenta) - 2)\n",
    "d_wall_cut  = test_d_wall < 0.5"
   ]
  },
  {
   "cell_type": "code",
   "execution_count": 44,
   "metadata": {},
   "outputs": [
    {
     "name": "stdout",
     "output_type": "stream",
     "text": [
      "2.9999810457229614\n"
     ]
    }
   ],
   "source": [
    "print(np.max(test_d_wall))"
   ]
  },
  {
   "cell_type": "code",
   "execution_count": 45,
   "metadata": {},
   "outputs": [],
   "source": [
    "fq_comparison = to_wall_cut | d_wall_cut | mu_OD_veto | test_fq1rpcflg_1 | test_fq1rpcflg_2"
   ]
  },
  {
   "cell_type": "code",
   "execution_count": 46,
   "metadata": {},
   "outputs": [
    {
     "name": "stdout",
     "output_type": "stream",
     "text": [
      "[2763630  760852]\n",
      "[2287665 1236817]\n",
      "[3010566  513916]\n",
      "[2847338  677144]\n",
      "[3064010  460472]\n",
      "####################\n",
      "[1561425 1963057]\n"
     ]
    }
   ],
   "source": [
    "print(np.bincount(to_wall_cut))\n",
    "print(np.bincount(d_wall_cut))\n",
    "print(np.bincount(mu_OD_veto))\n",
    "print(np.bincount(test_fq1rpcflg_1))\n",
    "print(np.bincount(test_fq1rpcflg_2))\n",
    "print(\"####################\")\n",
    "\n",
    "print(np.bincount(fq_comparison))"
   ]
  },
  {
   "cell_type": "code",
   "execution_count": 47,
   "metadata": {},
   "outputs": [
    {
     "name": "stdout",
     "output_type": "stream",
     "text": [
      "(3524482,)\n",
      "#######################\n",
      "(760852,)\n",
      "(1236817,)\n",
      "(513916,)\n",
      "(677144,)\n",
      "(460472,)\n"
     ]
    }
   ],
   "source": [
    "print(test_idxs.shape)\n",
    "print('#######################')\n",
    "print(np.where(to_wall_cut)[0].shape)\n",
    "print(np.where(d_wall_cut)[0].shape)\n",
    "print(np.where(mu_OD_veto)[0].shape)\n",
    "print(np.where(test_fq1rpcflg_1)[0].shape)\n",
    "print(np.where(test_fq1rpcflg_2)[0].shape)"
   ]
  },
  {
   "cell_type": "code",
   "execution_count": 48,
   "metadata": {},
   "outputs": [
    {
     "name": "stdout",
     "output_type": "stream",
     "text": [
      "(3524482,)\n",
      "(1963057,)\n"
     ]
    }
   ],
   "source": [
    "print(fq_comparison.shape)\n",
    "print(np.where(fq_comparison)[0].shape)"
   ]
  },
  {
   "cell_type": "code",
   "execution_count": 49,
   "metadata": {},
   "outputs": [
    {
     "name": "stdout",
     "output_type": "stream",
     "text": [
      "(1561425,)\n"
     ]
    }
   ],
   "source": [
    "print(np.delete(test_idxs, np.where(fq_comparison)[0], 0).shape)"
   ]
  },
  {
   "cell_type": "code",
   "execution_count": 50,
   "metadata": {},
   "outputs": [],
   "source": [
    "fq_comparison_OD_veto = fq_comparison | e_OD_veto"
   ]
  },
  {
   "cell_type": "code",
   "execution_count": 51,
   "metadata": {},
   "outputs": [],
   "source": [
    "cuts = {\n",
    "        'fq_comparison'        : np.where(fq_comparison)[0],\n",
    "        'fq_comparison_OD_veto': np.where(fq_comparison_OD_veto)[0],\n",
    "        'to_wall_cut'          : np.where(to_wall_cut)[0],\n",
    "        'd_wall_cut'           : np.where(d_wall_cut)[0],\n",
    "        'e_OD_veto'            : np.where(e_OD_veto)[0],\n",
    "        'mu_OD_veto'           : np.where(mu_OD_veto)[0],\n",
    "        'fq1rpcflg_1'          : np.where(test_fq1rpcflg_1)[0],\n",
    "        'fq1rpcflg_2'          : np.where(test_fq1rpcflg_2)[0]\n",
    "        }"
   ]
  },
  {
   "cell_type": "code",
   "execution_count": 52,
   "metadata": {},
   "outputs": [],
   "source": [
    "with open('./fq_comparison_data/3M_fitqun_cuts.pickle', 'wb') as handle:\n",
    "    pickle.dump(cuts, handle, protocol=pickle.HIGHEST_PROTOCOL)"
   ]
  },
  {
   "cell_type": "code",
   "execution_count": 53,
   "metadata": {},
   "outputs": [],
   "source": [
    "fq_mapping = {\n",
    "        'gamma_fq_indices': gamma_fq_indices,\n",
    "        'e_fq_indices'    : e_fq_indices,\n",
    "        'mu_fq_indices'   : mu_fq_indices,\n",
    "        }"
   ]
  },
  {
   "cell_type": "code",
   "execution_count": 54,
   "metadata": {},
   "outputs": [],
   "source": [
    "with open('./fq_comparison_data/3M_fitqun_mapping.pickle', 'wb') as handle:\n",
    "    pickle.dump(fq_mapping, handle, protocol=pickle.HIGHEST_PROTOCOL)"
   ]
  },
  {
   "cell_type": "code",
   "execution_count": 55,
   "metadata": {},
   "outputs": [],
   "source": [
    "np.savez('./fq_comparison_data/3M_fitqun_cuts.npz', cuts=cuts)"
   ]
  },
  {
   "cell_type": "code",
   "execution_count": 56,
   "metadata": {},
   "outputs": [],
   "source": [
    "fq_test_set = np.concatenate((np.ones_like(np.array(e_fq_indices))*1,\n",
    "                              np.ones_like(np.array(mu_fq_indices))*2,\n",
    "                              np.ones_like(np.array(gamma_fq_indices))*0\n",
    "                             )\n",
    "                            )"
   ]
  }
 ],
 "metadata": {
  "kernelspec": {
   "display_name": "Python 3",
   "language": "python",
   "name": "python3"
  },
  "language_info": {
   "codemirror_mode": {
    "name": "ipython",
    "version": 3
   },
   "file_extension": ".py",
   "mimetype": "text/x-python",
   "name": "python",
   "nbconvert_exporter": "python",
   "pygments_lexer": "ipython3",
   "version": "3.8.5"
  }
 },
 "nbformat": 4,
 "nbformat_minor": 4
}
