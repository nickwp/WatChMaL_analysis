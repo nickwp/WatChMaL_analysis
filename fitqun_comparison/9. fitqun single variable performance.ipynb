{
 "cells": [
  {
   "cell_type": "code",
   "execution_count": 1,
   "metadata": {},
   "outputs": [],
   "source": [
    "%load_ext autoreload\n",
    "%matplotlib inline\n",
    "%autoreload 2"
   ]
  },
  {
   "cell_type": "code",
   "execution_count": 2,
   "metadata": {},
   "outputs": [],
   "source": [
    "import uproot\n",
    "import numpy as np\n",
    "import matplotlib.pyplot as plt\n",
    "import os\n",
    "import sys\n",
    "import pickle\n",
    "import h5py"
   ]
  },
  {
   "cell_type": "code",
   "execution_count": 3,
   "metadata": {},
   "outputs": [],
   "source": [
    "sys.path.append(\"..\")\n",
    "\n",
    "from WatChMaL.analysis.multi_plot_utils import multi_disp_learn_hist, multi_compute_roc, multi_plot_roc\n",
    "from WatChMaL.analysis.comparison_utils import multi_get_masked_data, multi_collapse_test_output\n",
    "from WatChMaL.analysis.fitqun_comparison_utils import load_fq_output\n",
    "from WatChMaL.analysis.performance_analysis_utils import plot_fitqun_binned_performance, plot_fixed_operating_performance"
   ]
  },
  {
   "cell_type": "code",
   "execution_count": 4,
   "metadata": {},
   "outputs": [],
   "source": [
    "############# define plotting params #############\n",
    "c = plt.rcParams['axes.prop_cycle'].by_key()['color']\n",
    "label_dict = {\"$\\gamma$\":0, \"$e$\":1, \"$\\mu$\":2}\n",
    "inverse_label_dict = {0:\"$\\gamma$\", 1:\"$e$\", 2:\"$\\mu$\"}\n",
    "muon_softmax_index_dict = {\"e/gamma\":0, \"mu\":1}"
   ]
  },
  {
   "cell_type": "markdown",
   "metadata": {},
   "source": [
    "## Load fitqun results"
   ]
  },
  {
   "cell_type": "code",
   "execution_count": 5,
   "metadata": {},
   "outputs": [],
   "source": [
    "# Retrieve flags\n",
    "gamma_file_path = '/fast_scratch/WatChMaL/data/IWCD_mPMT_Short_gamma_E0to1000MeV_unif-pos-R400-y300cm_4pi-dir.fiTQun.root'\n",
    "e_file_path     = '/fast_scratch/WatChMaL/data/IWCD_mPMT_Short_e-_E0to1000MeV_unif-pos-R400-y300cm_4pi-dir.fiTQun.root'\n",
    "mu_file_path    = '/fast_scratch/WatChMaL/data/IWCD_mPMT_Short_mu-_E0to1000MeV_unif-pos-R400-y300cm_4pi-dir.fiTQun.root'"
   ]
  },
  {
   "cell_type": "code",
   "execution_count": 6,
   "metadata": {},
   "outputs": [],
   "source": [
    "fq_mapping_path = '/home/jtindall/WatChMaL_analysis/fitqun_comparison/fq_comparison_data/3M_fitqun_mapping.pickle'"
   ]
  },
  {
   "cell_type": "code",
   "execution_count": 7,
   "metadata": {},
   "outputs": [],
   "source": [
    "fq_scores, fq_labels, fq_mom = load_fq_output(fq_mapping_path, gamma_file_path, e_file_path, mu_file_path)"
   ]
  },
  {
   "cell_type": "code",
   "execution_count": 8,
   "metadata": {},
   "outputs": [
    {
     "name": "stdout",
     "output_type": "stream",
     "text": [
      "[206.95685 842.6756  233.17891 ... 361.7926  144.14459 717.5251 ]\n"
     ]
    }
   ],
   "source": [
    "print(fq_mom)"
   ]
  },
  {
   "cell_type": "markdown",
   "metadata": {},
   "source": [
    "## Load resnet results"
   ]
  },
  {
   "cell_type": "code",
   "execution_count": 9,
   "metadata": {},
   "outputs": [],
   "source": [
    "############# define run locations #############\n",
    "short_locs = ['/home/jtindall/WatChMaL/outputs/2021-03-16/20-21-15/outputs']\n",
    "\n",
    "short_titles = ['Short Tank', 'Fitqun']\n",
    "\n",
    "full_locs = []\n",
    "\n",
    "full_titles = []\n",
    "\n",
    "short_linecolor = [c[0] for _ in range(2)]\n",
    "short_linestyle = ['--' for _ in range(2)]\n",
    "\n",
    "full_linecolor = [c[1] for _ in full_locs]\n",
    "full_linestyle = [':' for _ in full_locs]\n"
   ]
  },
  {
   "cell_type": "code",
   "execution_count": 10,
   "metadata": {},
   "outputs": [],
   "source": [
    "############# load short tank run data #############\n",
    "short_raw_output_softmax    = [np.load(loc + \"/softmax.npy\") for loc in short_locs]\n",
    "short_raw_actual_labels     = [np.load(loc + \"/labels.npy\") for loc in short_locs]"
   ]
  },
  {
   "cell_type": "code",
   "execution_count": 11,
   "metadata": {},
   "outputs": [],
   "source": [
    "locs      = short_locs + full_locs\n",
    "titles    = short_titles + full_titles\n",
    "linecolor = short_linecolor + full_linecolor\n",
    "linestyle = short_linestyle + full_linestyle"
   ]
  },
  {
   "cell_type": "markdown",
   "metadata": {},
   "source": [
    "## Add fitqun results"
   ]
  },
  {
   "cell_type": "code",
   "execution_count": 12,
   "metadata": {},
   "outputs": [],
   "source": [
    "short_raw_output_softmax = short_raw_output_softmax + [fq_scores]\n",
    "short_raw_actual_labels  = short_raw_actual_labels + [fq_labels]"
   ]
  },
  {
   "cell_type": "markdown",
   "metadata": {},
   "source": [
    "## Filter results"
   ]
  },
  {
   "cell_type": "code",
   "execution_count": 13,
   "metadata": {},
   "outputs": [],
   "source": [
    "def remove_indices(array, cut_idxs):\n",
    "    return np.delete(array, cut_idxs, 0)\n",
    "\n",
    "with open('./fq_comparison_data/3M_fitqun_cuts.pickle', 'rb') as handle:\n",
    "    cuts = pickle.load(handle)\n",
    "\n",
    "cut_to_apply = cuts['fq_comparison']"
   ]
  },
  {
   "cell_type": "code",
   "execution_count": 14,
   "metadata": {},
   "outputs": [],
   "source": [
    "short_softmax = [remove_indices(softmax, cut_to_apply) for softmax in short_raw_output_softmax]\n",
    "short_labels  = [remove_indices(labels, cut_to_apply) for labels in short_raw_actual_labels]"
   ]
  },
  {
   "cell_type": "markdown",
   "metadata": {},
   "source": [
    "## Load h5 Data"
   ]
  },
  {
   "cell_type": "code",
   "execution_count": 15,
   "metadata": {},
   "outputs": [
    {
     "name": "stdout",
     "output_type": "stream",
     "text": [
      "<KeysViewHDF5 ['angles', 'energies', 'event_hits_index', 'event_ids', 'hit_charge', 'hit_pmt', 'hit_time', 'labels', 'positions', 'root_files', 'veto', 'veto2']>\n"
     ]
    }
   ],
   "source": [
    "# Import test events from h5 file\n",
    "data_path = \"/fast_scratch/WatChMaL/data/IWCD_mPMT_Short_emg_E0to1000MeV_digihits.h5\"\n",
    "data_file = h5py.File(data_path, \"r\")\n",
    "\n",
    "print(data_file.keys())\n",
    "\n",
    "energies   = np.array(data_file['energies'])\n",
    "angles     = np.array(data_file['angles'])\n",
    "positions  = np.array(data_file['positions'])\n",
    "labels     = np.array(data_file['labels'])"
   ]
  },
  {
   "cell_type": "code",
   "execution_count": 16,
   "metadata": {},
   "outputs": [
    {
     "name": "stdout",
     "output_type": "stream",
     "text": [
      "Done test info\n"
     ]
    }
   ],
   "source": [
    "idxs_path = '/fast_scratch/WatChMaL/data/IWCD_mPMT_Short_3M_idxs.npz'\n",
    "idxs = np.load(idxs_path, allow_pickle=True)\n",
    "\n",
    "test_idxs  = idxs['test_idxs']\n",
    "\n",
    "test_angles    = angles[test_idxs]\n",
    "test_energies  = energies[test_idxs]\n",
    "test_positions = positions[test_idxs]\n",
    "test_labels    = labels[test_idxs]\n",
    "test_info = {'name':'Test Set','energies':test_energies,'positions':test_positions, 'angles':test_angles, 'labels':test_labels}\n",
    "\n",
    "print(\"Done test info\")"
   ]
  },
  {
   "cell_type": "code",
   "execution_count": 17,
   "metadata": {},
   "outputs": [],
   "source": [
    "filtered_test_energies  = remove_indices(test_energies, cut_to_apply)\n",
    "filtered_test_angles    = remove_indices(test_angles, cut_to_apply)\n",
    "filtered_test_zenith    = filtered_test_angles[:, 0]\n",
    "filtered_test_azimuth   = filtered_test_angles[:, 1]"
   ]
  },
  {
   "cell_type": "markdown",
   "metadata": {},
   "source": [
    "## Load Parameters"
   ]
  },
  {
   "cell_type": "code",
   "execution_count": 18,
   "metadata": {},
   "outputs": [],
   "source": [
    "filtered_fq_mom = remove_indices(fq_mom, cut_to_apply)"
   ]
  },
  {
   "cell_type": "code",
   "execution_count": 19,
   "metadata": {},
   "outputs": [],
   "source": [
    "d_to_wall = np.load('./fq_comparison_data/3M_d_to_wall.npz', allow_pickle=True)\n",
    "\n",
    "test_d_to_wall  = d_to_wall['test_d_to_wall']\n",
    "\n",
    "filtered_test_d_to_wall = remove_indices(test_d_to_wall, cut_to_apply)"
   ]
  },
  {
   "cell_type": "code",
   "execution_count": 20,
   "metadata": {},
   "outputs": [],
   "source": [
    "true_mom = np.load('./fq_comparison_data/3M_momenta.npz', allow_pickle=True)\n",
    "\n",
    "test_true_mom  = true_mom['test_momenta']\n",
    "\n",
    "filtered_test_true_mom = remove_indices(test_true_mom, cut_to_apply)"
   ]
  },
  {
   "cell_type": "code",
   "execution_count": 21,
   "metadata": {},
   "outputs": [
    {
     "name": "stdout",
     "output_type": "stream",
     "text": [
      "(3524482, 1)\n"
     ]
    }
   ],
   "source": [
    "print(test_energies.shape)"
   ]
  },
  {
   "cell_type": "code",
   "execution_count": 22,
   "metadata": {},
   "outputs": [
    {
     "name": "stdout",
     "output_type": "stream",
     "text": [
      "Energy bins:  [   1.4282632  130.18549    258.94272    387.69995    516.45715\n",
      "  645.2144     773.9716     902.7288    1031.4861    1160.2433   ]\n",
      "Distance to wall bins:  [ 50.09834499 147.02997846 243.96161194 340.89324541 437.82487889\n",
      " 534.75651236 631.68814584 728.61977932 825.55141279 922.48304627]\n"
     ]
    }
   ],
   "source": [
    "# bin energy data\n",
    "energy_hist, energy_bins = np.histogram(filtered_test_energies, bins=9)\n",
    "print(\"Energy bins: \", energy_bins)\n",
    "\n",
    "# bin d to wall data\n",
    "d_to_wall_hist, d_to_wall_bins = np.histogram(filtered_test_d_to_wall, bins=9)\n",
    "print(\"Distance to wall bins: \", d_to_wall_bins)\n"
   ]
  },
  {
   "cell_type": "markdown",
   "metadata": {},
   "source": [
    "## Binned Performance Plots"
   ]
  },
  {
   "cell_type": "markdown",
   "metadata": {},
   "source": [
    "### Plot vs Energy"
   ]
  },
  {
   "cell_type": "code",
   "execution_count": 23,
   "metadata": {},
   "outputs": [
    {
     "ename": "NameError",
     "evalue": "name 'plot_binned_performance' is not defined",
     "output_type": "error",
     "traceback": [
      "\u001b[0;31m------------------------------------------------------------------------\u001b[0m",
      "\u001b[0;31mNameError\u001b[0m                              Traceback (most recent call last)",
      "\u001b[0;32m<ipython-input-23-bf5076773eef>\u001b[0m in \u001b[0;36m<module>\u001b[0;34m\u001b[0m\n\u001b[1;32m      1\u001b[0m \u001b[0;31m# Plot vs Energy\u001b[0m\u001b[0;34m\u001b[0m\u001b[0;34m\u001b[0m\u001b[0;34m\u001b[0m\u001b[0m\n\u001b[0;32m----> 2\u001b[0;31m plot_binned_performance(softmaxes = short_softmax[0],\n\u001b[0m\u001b[1;32m      3\u001b[0m                         \u001b[0mlabels\u001b[0m    \u001b[0;34m=\u001b[0m \u001b[0mshort_labels\u001b[0m\u001b[0;34m[\u001b[0m\u001b[0;36m0\u001b[0m\u001b[0;34m]\u001b[0m\u001b[0;34m,\u001b[0m\u001b[0;34m\u001b[0m\u001b[0;34m\u001b[0m\u001b[0m\n\u001b[1;32m      4\u001b[0m                         \u001b[0mbinning_features\u001b[0m \u001b[0;34m=\u001b[0m \u001b[0mfiltered_test_energies\u001b[0m\u001b[0;34m,\u001b[0m\u001b[0;34m\u001b[0m\u001b[0;34m\u001b[0m\u001b[0m\n\u001b[1;32m      5\u001b[0m                         \u001b[0mbinning_label\u001b[0m \u001b[0;34m=\u001b[0m \u001b[0;34m'Energy'\u001b[0m\u001b[0;34m,\u001b[0m\u001b[0;34m\u001b[0m\u001b[0;34m\u001b[0m\u001b[0m\n",
      "\u001b[0;31mNameError\u001b[0m: name 'plot_binned_performance' is not defined"
     ]
    }
   ],
   "source": [
    "# Plot vs Energy\n",
    "plot_binned_performance(softmaxes = short_softmax[0],\n",
    "                        labels    = short_labels[0],\n",
    "                        binning_features = filtered_test_energies,\n",
    "                        binning_label = 'Energy',\n",
    "                        operating_point    = 0.005,\n",
    "                        bins = energy_bins[:-1],\n",
    "                        index_dict = label_dict,\n",
    "                        label_0 = \"$e$\", \n",
    "                        label_1 = \"$\\gamma$\",\n",
    "                        metric='efficiency',\n",
    "                        fixed='rejection')"
   ]
  },
  {
   "cell_type": "code",
   "execution_count": null,
   "metadata": {},
   "outputs": [],
   "source": [
    "fig, axes = plt.subplots(1,1,figsize=(9,5), facecolor='w')\n",
    "\n",
    "plot_fixed_operating_performance(scores                 = short_softmax[0][:,0] + short_softmax[0][:,1], \n",
    "                                 labels                 = short_labels[0],  \n",
    "                                 fixed_binning_features = filtered_fq_mom,\n",
    "                                 fixed_bin_label        = 'Reconstructed Momentum',\n",
    "                                 plot_binning_features  = filtered_test_energies,\n",
    "                                 plot_bin_label         = 'True Energy',\n",
    "                                 fpr_fixed_point        = 0.001, \n",
    "                                 index_dict             = label_dict, \n",
    "                                 fixed_bin_size         = 50, \n",
    "                                 plot_bins              = 7, \n",
    "                                 ax                     = axes,\n",
    "                                 marker                 = 'o--',\n",
    "                                 color                  = 'r',\n",
    "                                 title_note             = '',\n",
    "                                 metric                 = 'efficiency',\n",
    "                                yrange                  = [0.85, 1.01]\n",
    "                              )\n",
    "\n",
    "plot_fixed_operating_performance(scores                 = short_softmax[1][:,0] + short_softmax[1][:,1], \n",
    "                                 labels                 = short_labels[1],   \n",
    "                                 fixed_binning_features = filtered_fq_mom,\n",
    "                                 fixed_bin_label        = 'Reconstructed Momentum',\n",
    "                                 plot_binning_features  = filtered_test_energies,\n",
    "                                 plot_bin_label         = 'True Energy',\n",
    "                                 fpr_fixed_point        = 0.001, \n",
    "                                 index_dict             = label_dict, \n",
    "                                 fixed_bin_size         = 50, \n",
    "                                 plot_bins              = 7, \n",
    "                                 ax                     = axes,\n",
    "                                 marker                 = 'o--',\n",
    "                                 color                  = 'g',\n",
    "                                 title_note             = '',\n",
    "                                 metric                 = 'efficiency',\n",
    "                                yrange                  = [0.85, 1.01]\n",
    "                              )\n",
    "axes.legend(['ResNet (P(e-) + P(\\u03B3))', 'FiTQun'])"
   ]
  },
  {
   "cell_type": "code",
   "execution_count": null,
   "metadata": {},
   "outputs": [],
   "source": [
    "fig, axes = plt.subplots(1,1,figsize=(9,5), facecolor='w')\n",
    "\n",
    "plot_fixed_operating_performance(scores                 = short_softmax[0][:,0] + short_softmax[0][:,1], \n",
    "                                 labels                 = short_labels[0],  \n",
    "                                 fixed_binning_features = filtered_fq_mom,\n",
    "                                 fixed_bin_label        = 'Reconstructed Momentum',\n",
    "                                 plot_binning_features  = filtered_test_energies,\n",
    "                                 plot_bin_label         = 'True Energy',\n",
    "                                 fpr_fixed_point        = 0.005, \n",
    "                                 index_dict             = label_dict, \n",
    "                                 fixed_bin_size         = 50, \n",
    "                                 plot_bins              = 7, \n",
    "                                 ax                     = axes,\n",
    "                                 marker                 = 'o-',\n",
    "                                 color                  = 'r',\n",
    "                                 title_note             = '',\n",
    "                                 metric                 = 'efficiency',\n",
    "                                yrange                  = [0.85, 1.01]\n",
    "                              )\n",
    "\n",
    "plot_fixed_operating_performance(scores                 = short_softmax[0][:,0] + short_softmax[0][:,1], \n",
    "                                 labels                 = short_labels[0],  \n",
    "                                 fixed_binning_features = filtered_fq_mom,\n",
    "                                 fixed_bin_label        = 'Reconstructed Momentum',\n",
    "                                 plot_binning_features  = filtered_test_energies,\n",
    "                                 plot_bin_label         = 'True Energy',\n",
    "                                 fpr_fixed_point        = 0.001, \n",
    "                                 index_dict             = label_dict, \n",
    "                                 fixed_bin_size         = 50, \n",
    "                                 plot_bins              = 7, \n",
    "                                 ax                     = axes,\n",
    "                                 marker                 = 'o--',\n",
    "                                 color                  = 'r',\n",
    "                                 title_note             = '',\n",
    "                                 metric                 = 'efficiency',\n",
    "                                yrange                  = [0.85, 1.01]\n",
    "                              )\n",
    "\n",
    "plot_fixed_operating_performance(scores                 = short_softmax[1][:,0] + short_softmax[1][:,1], \n",
    "                                 labels                 = short_labels[1],   \n",
    "                                 fixed_binning_features = filtered_fq_mom,\n",
    "                                 fixed_bin_label        = 'Reconstructed Momentum',\n",
    "                                 plot_binning_features  = filtered_test_energies,\n",
    "                                 plot_bin_label         = 'True Energy',\n",
    "                                 fpr_fixed_point        = 0.005, \n",
    "                                 index_dict             = label_dict, \n",
    "                                 fixed_bin_size         = 50, \n",
    "                                 plot_bins              = 7, \n",
    "                                 ax                     = axes,\n",
    "                                 marker                 = 'o-',\n",
    "                                 color                  = 'g',\n",
    "                                 title_note             = '',\n",
    "                                 metric                 = 'efficiency',\n",
    "                                yrange                  = [0.85, 1.01]\n",
    "                              )\n",
    "\n",
    "plot_fixed_operating_performance(scores                 = short_softmax[1][:,0] + short_softmax[1][:,1], \n",
    "                                 labels                 = short_labels[1],   \n",
    "                                 fixed_binning_features = filtered_fq_mom,\n",
    "                                 fixed_bin_label        = 'Reconstructed Momentum',\n",
    "                                 plot_binning_features  = filtered_test_energies,\n",
    "                                 plot_bin_label         = 'True Energy',\n",
    "                                 fpr_fixed_point        = 0.001, \n",
    "                                 index_dict             = label_dict, \n",
    "                                 fixed_bin_size         = 50, \n",
    "                                 plot_bins              = 7, \n",
    "                                 ax                     = axes,\n",
    "                                 marker                 = 'o--',\n",
    "                                 color                  = 'g',\n",
    "                                 title_note             = '',\n",
    "                                 metric                 = 'efficiency',\n",
    "                                yrange                  = [0.85, 1.01]\n",
    "                              )\n",
    "\n",
    "axes.legend(['ResNet, Rejection 200', 'ResNet, Rejection 1000', 'FiTQun,  Rejection 200', 'FiTQun,  Rejection 1000', 'FiTQun, no binning', 'FiTQun', 'FiTQun, no binning'])"
   ]
  },
  {
   "cell_type": "markdown",
   "metadata": {},
   "source": [
    "### Plot vs To Wall"
   ]
  },
  {
   "cell_type": "code",
   "execution_count": null,
   "metadata": {},
   "outputs": [],
   "source": [
    "fig, axes = plt.subplots(1,1,figsize=(9,5), facecolor='w')\n",
    "\n",
    "plot_fixed_operating_performance(scores                 = short_softmax[0][:,0] + short_softmax[0][:,1], \n",
    "                                 labels                 = short_labels[0],  \n",
    "                                 fixed_binning_features = filtered_fq_mom,\n",
    "                                 fixed_bin_label        = 'Reconstructed Momentum',\n",
    "                                 plot_binning_features  = filtered_test_d_to_wall,\n",
    "                                 plot_bin_label         = 'To Wall',\n",
    "                                 fpr_fixed_point        = 0.005, \n",
    "                                 index_dict             = label_dict, \n",
    "                                 fixed_bin_size         = 50, \n",
    "                                 plot_bins              = 20, \n",
    "                                 ax                     = axes,\n",
    "                                 marker                 = 'o-',\n",
    "                                 color                  = 'r',\n",
    "                                 title_note             = '',\n",
    "                                 metric                 = 'efficiency',\n",
    "                                yrange                  = [0.7, 1.01]\n",
    "                              )\n",
    "\n",
    "plot_fixed_operating_performance(scores                 = short_softmax[0][:,0] + short_softmax[0][:,1], \n",
    "                                 labels                 = short_labels[0],  \n",
    "                                 fixed_binning_features = filtered_fq_mom,\n",
    "                                 fixed_bin_label        = 'Reconstructed Momentum',\n",
    "                                 plot_binning_features  = filtered_test_d_to_wall,\n",
    "                                 plot_bin_label         = 'To Wall',\n",
    "                                 fpr_fixed_point        = 0.001, \n",
    "                                 index_dict             = label_dict, \n",
    "                                 fixed_bin_size         = 50, \n",
    "                                 plot_bins              = 20, \n",
    "                                 ax                     = axes,\n",
    "                                 marker                 = 'o--',\n",
    "                                 color                  = 'r',\n",
    "                                 title_note             = '',\n",
    "                                 metric                 = 'efficiency',\n",
    "                                yrange                  = [0.7, 1.01]\n",
    "                              )\n",
    "\n",
    "\"\"\"\n",
    "plot_fixed_operating_performance(scores                 = short_softmax[0][:,0] + short_softmax[0][:,1], \n",
    "                                 labels                 = short_labels[0],  \n",
    "                                 fixed_binning_features = filtered_fq_mom,\n",
    "                                 fixed_bin_label        = 'Reconstructed Momentum',\n",
    "                                 plot_binning_features  = filtered_test_d_to_wall,\n",
    "                                 plot_bin_label         = 'To Wall',\n",
    "                                 fpr_fixed_point        = 0.005, \n",
    "                                 index_dict             = label_dict, \n",
    "                                 fixed_bin_size         = 610, \n",
    "                                 plot_bins              = 20, \n",
    "                                 ax                     = axes,\n",
    "                                 marker                 = 'o--',\n",
    "                                 color                  = 'k',\n",
    "                                 title_note             = '',\n",
    "                                 metric                 = 'efficiency',\n",
    "                                yrange                  = [0.7, 1.01]\n",
    "                              )\n",
    "\"\"\"\n",
    "\n",
    "plot_fixed_operating_performance(scores                 = short_softmax[1][:,0] + short_softmax[1][:,1], \n",
    "                                 labels                 = short_labels[1],  \n",
    "                                 fixed_binning_features = filtered_fq_mom,\n",
    "                                 fixed_bin_label        = 'Reconstructed Momentum',\n",
    "                                 plot_binning_features  = filtered_test_d_to_wall,\n",
    "                                 plot_bin_label         = 'To Wall',\n",
    "                                 fpr_fixed_point        = 0.005, \n",
    "                                 index_dict             = label_dict, \n",
    "                                 fixed_bin_size         = 50, \n",
    "                                 plot_bins              = 20, \n",
    "                                 ax                     = axes,\n",
    "                                 marker                 = 'o-',\n",
    "                                 color                  = 'g',\n",
    "                                 title_note             = '',\n",
    "                                 metric                 = 'efficiency',\n",
    "                                yrange                  = [0.7, 1.01]\n",
    "                              )\n",
    "\n",
    "plot_fixed_operating_performance(scores                 = short_softmax[1][:,0] + short_softmax[1][:,1], \n",
    "                                 labels                 = short_labels[1],  \n",
    "                                 fixed_binning_features = filtered_fq_mom,\n",
    "                                 fixed_bin_label        = 'Reconstructed Momentum',\n",
    "                                 plot_binning_features  = filtered_test_d_to_wall,\n",
    "                                 plot_bin_label         = 'To Wall',\n",
    "                                 fpr_fixed_point        = 0.001, \n",
    "                                 index_dict             = label_dict, \n",
    "                                 fixed_bin_size         = 50, \n",
    "                                 plot_bins              = 20, \n",
    "                                 ax                     = axes,\n",
    "                                 marker                 = 'o--',\n",
    "                                 color                  = 'g',\n",
    "                                 title_note             = '',\n",
    "                                 metric                 = 'efficiency',\n",
    "                                yrange                  = [0.7, 1.01]\n",
    "                              )\n",
    "\"\"\"\n",
    "plot_fixed_operating_performance(scores                 = short_softmax[1][:,0] + short_softmax[1][:,1], \n",
    "                                 labels                 = short_labels[1],  \n",
    "                                 fixed_binning_features = filtered_fq_mom,\n",
    "                                 fixed_bin_label        = 'Reconstructed Momentum',\n",
    "                                 plot_binning_features  = filtered_test_d_to_wall,\n",
    "                                 plot_bin_label         = 'To Wall',\n",
    "                                 fpr_fixed_point        = 0.005, \n",
    "                                 index_dict             = label_dict, \n",
    "                                 fixed_bin_size         = 2000, \n",
    "                                 plot_bins              = 20, \n",
    "                                 ax                     = axes,\n",
    "                                 marker                 = 'o--',\n",
    "                                 color                  = 'b',\n",
    "                                 title_note             = '',\n",
    "                                 metric                 = 'efficiency',\n",
    "                                yrange                  = [0.7, 1.01]\n",
    "                              )\n",
    "\"\"\"\n",
    "axes.legend(['ResNet, Rejection 200', 'ResNet, Rejection 1000', 'FiTQun,  Rejection 200', 'FiTQun,  Rejection 1000', 'FiTQun, no binning', 'FiTQun', 'FiTQun, no binning'])"
   ]
  },
  {
   "cell_type": "code",
   "execution_count": null,
   "metadata": {},
   "outputs": [],
   "source": [
    "fig, axes = plt.subplots(1,1,figsize=(9,5), facecolor='w')\n",
    "\n",
    "plot_fixed_operating_performance(scores                 = short_softmax[0][:,0] + short_softmax[0][:,1], \n",
    "                                 labels                 = short_labels[0],  \n",
    "                                 fixed_binning_features = filtered_fq_mom,\n",
    "                                 fixed_bin_label        = 'Reconstructed Momentum',\n",
    "                                 plot_binning_features  = filtered_fq_mom,\n",
    "                                 plot_bin_label         = 'To Wall',\n",
    "                                 fpr_fixed_point        = 0.005, \n",
    "                                 index_dict             = label_dict, \n",
    "                                 fixed_bin_size         = 50, \n",
    "                                 plot_bins              = 20, \n",
    "                                 ax                     = axes,\n",
    "                                 marker                 = 'o--',\n",
    "                                 color                  = 'r',\n",
    "                                 title_note             = '',\n",
    "                                 metric                 = 'efficiency',\n",
    "                                 yrange                  = [0.7, 1.01]\n",
    "                              )\n",
    "\n",
    "plot_fixed_operating_performance(scores                 = short_softmax[0][:,0] + short_softmax[0][:,1], \n",
    "                                 labels                 = short_labels[0],  \n",
    "                                 fixed_binning_features = filtered_fq_mom,\n",
    "                                 fixed_bin_label        = 'Reconstructed Momentum',\n",
    "                                 plot_binning_features  = filtered_fq_mom,\n",
    "                                 plot_bin_label         = 'To Wall',\n",
    "                                 fpr_fixed_point        = 0.005, \n",
    "                                 index_dict             = label_dict, \n",
    "                                 fixed_bin_size         = 610, \n",
    "                                 plot_bins              = 20, \n",
    "                                 ax                     = axes,\n",
    "                                 marker                 = 'o--',\n",
    "                                 color                  = 'k',\n",
    "                                 title_note             = '',\n",
    "                                 metric                 = 'efficiency',\n",
    "                                 yrange                  = [0.7, 1.01]\n",
    "                              )\n",
    "\n",
    "plot_fixed_operating_performance(scores                 = short_softmax[1][:,0] + short_softmax[1][:,1], \n",
    "                                 labels                 = short_labels[1],  \n",
    "                                 fixed_binning_features = filtered_fq_mom,\n",
    "                                 fixed_bin_label        = 'Reconstructed Momentum',\n",
    "                                 plot_binning_features  = filtered_fq_mom,\n",
    "                                 plot_bin_label         = 'To Wall',\n",
    "                                 fpr_fixed_point        = 0.005, \n",
    "                                 index_dict             = label_dict, \n",
    "                                 fixed_bin_size         = 50, \n",
    "                                 plot_bins              = 20, \n",
    "                                 ax                     = axes,\n",
    "                                 marker                 = 'o--',\n",
    "                                 color                  = 'g',\n",
    "                                 title_note             = '',\n",
    "                                 metric                 = 'efficiency',\n",
    "                                yrange                  = [0.7, 1.01]\n",
    "                              )\n",
    "\n",
    "plot_fixed_operating_performance(scores                 = short_softmax[1][:,0] + short_softmax[1][:,1], \n",
    "                                 labels                 = short_labels[1],  \n",
    "                                 fixed_binning_features = filtered_fq_mom,\n",
    "                                 fixed_bin_label        = 'Reconstructed Momentum',\n",
    "                                 plot_binning_features  = filtered_fq_mom,\n",
    "                                 plot_bin_label         = 'To Wall',\n",
    "                                 fpr_fixed_point        = 0.005, \n",
    "                                 index_dict             = label_dict, \n",
    "                                 fixed_bin_size         = 2000, \n",
    "                                 plot_bins              = 20, \n",
    "                                 ax                     = axes,\n",
    "                                 marker                 = 'o--',\n",
    "                                 color                  = 'b',\n",
    "                                 title_note             = '',\n",
    "                                 metric                 = 'efficiency',\n",
    "                                yrange                  = [0.7, 1.01]\n",
    "                              )\n",
    "\n",
    "axes.legend(['ResNet (P(e-) + P(\\u03B3))', 'ResNet (P(e-) + P(\\u03B3)), no binning', 'FiTQun', 'FiTQun, no binning'])"
   ]
  },
  {
   "cell_type": "code",
   "execution_count": null,
   "metadata": {},
   "outputs": [],
   "source": [
    "test_N = 10\n",
    "\n",
    "fig, axes = plt.subplots(1,2,figsize=(18,9), facecolor='w')\n",
    "\n",
    "ax = axes[0]\n",
    "\n",
    "plot_fitqun_binned_performance(scores                 = short_softmax[1][:,1], \n",
    "                               labels                 = short_labels[1], \n",
    "                               reconstructed_momentum = filtered_fq_mom,\n",
    "                               fpr_fixed_point        = 0.005, \n",
    "                               index_dict             = label_dict, \n",
    "                               recons_mom_bin_size    = 50,\n",
    "                               plot_bins              = test_N,\n",
    "                               ax                     = ax,\n",
    "                               marker                 = 'o--',\n",
    "                               color                  = 'g',\n",
    "                               title_note             = '',\n",
    "                               metric                 = 'efficiency',\n",
    "                               yrange                 = [0.7, 1.1],\n",
    "                               #xrange                 = [0, 1000]\n",
    "                              )\n",
    "\n",
    "\n",
    "plot_fitqun_binned_performance(scores                 = short_softmax[1][:,1], \n",
    "                               labels                 = short_labels[1], \n",
    "                               reconstructed_momentum = filtered_fq_mom,\n",
    "                               fpr_fixed_point        = 0.005, \n",
    "                               index_dict             = label_dict, \n",
    "                               recons_mom_bin_size    = 610,\n",
    "                               plot_bins              = test_N,\n",
    "                               ax                     = ax,\n",
    "                               marker                 = 'o--',\n",
    "                               color                  = 'k',\n",
    "                               title_note             = '',\n",
    "                               metric                 = 'efficiency',\n",
    "                               yrange                 = [0.7, 1.1],\n",
    "                               #xrange                 = [0, 1000]\n",
    "                              )\n",
    "\n",
    "plot_fitqun_binned_performance(scores                 = short_softmax[0][:,0] + short_softmax[0][:,1], \n",
    "                               labels                 = short_labels[0],\n",
    "                               reconstructed_momentum = filtered_fq_mom,\n",
    "                               fpr_fixed_point        = 0.005, \n",
    "                               index_dict             = label_dict, \n",
    "                               recons_mom_bin_size    = 50, \n",
    "                               plot_bins              = test_N,\n",
    "                               ax                     = ax,\n",
    "                               marker                 = 'o--',\n",
    "                               color                  = 'r',\n",
    "                               title_note             = '',\n",
    "                               metric                 = 'efficiency',\n",
    "                               yrange                 = [0.7, 1.1],\n",
    "                               #xrange                 = [0, 1000]\n",
    "                              )\n",
    "\n",
    "plot_fitqun_binned_performance(scores                 = short_softmax[0][:,0] + short_softmax[0][:,1], \n",
    "                               labels                 = short_labels[0],\n",
    "                               reconstructed_momentum = filtered_fq_mom,\n",
    "                               fpr_fixed_point        = 0.005, \n",
    "                               index_dict             = label_dict, \n",
    "                               recons_mom_bin_size    = 610, \n",
    "                               plot_bins              = test_N,\n",
    "                               ax                     = ax,\n",
    "                               marker                 = 'o--',\n",
    "                               color                  = 'b',\n",
    "                               title_note             = '',\n",
    "                               metric                 = 'efficiency',\n",
    "                               yrange                 = [0.7, 1.1],\n",
    "                               #xrange                 = [0, 1000]\n",
    "                              )\n",
    "\n",
    "\n",
    "ax.legend(['ResNet (P(e-) + P(\\u03B3))', 'ResNet (P(e-) + P(\\u03B3)), no binning', 'FiTQun', 'FiTQun, no binning'])\n",
    "\n",
    "ax = axes[1]\n",
    "\n",
    "plot_fitqun_binned_performance(scores                 = short_softmax[0][:,0] + short_softmax[0][:,1], \n",
    "                               labels                 = short_labels[0],\n",
    "                               reconstructed_momentum = filtered_fq_mom,\n",
    "                               fpr_fixed_point        = 0.005, \n",
    "                               index_dict             = label_dict, \n",
    "                               recons_mom_bin_size    = 50,\n",
    "                               plot_bins              = test_N,\n",
    "                               ax                     = ax,\n",
    "                               marker                 = 'o--',\n",
    "                               color                  = 'r',\n",
    "                               title_note             = '',\n",
    "                               metric                 = 'mu fpr',\n",
    "                               yrange                 = [0, 0.01],\n",
    "                               #xrange                 = [0, 1000]\n",
    "                                         )\n",
    "\n",
    "\n",
    "plot_fitqun_binned_performance(scores                 = short_softmax[0][:,0] + short_softmax[0][:,1], \n",
    "                               labels                 = short_labels[0],\n",
    "                               reconstructed_momentum = filtered_fq_mom,\n",
    "                               fpr_fixed_point        = 0.005, \n",
    "                               index_dict             = label_dict, \n",
    "                               recons_mom_bin_size    = 610,\n",
    "                               plot_bins              = test_N,\n",
    "                               ax                     = ax,\n",
    "                               marker                 = 'o--',\n",
    "                               color                  = 'k',\n",
    "                               title_note             = '',\n",
    "                               metric                 = 'mu fpr',\n",
    "                               yrange                 = [0, 0.01],\n",
    "                               #xrange                 = [0, 1000]\n",
    "                                         )\n",
    "\n",
    "plot_fitqun_binned_performance(scores                 = short_softmax[1][:,1], \n",
    "                               labels                 = short_labels[1],\n",
    "                               reconstructed_momentum = filtered_fq_mom,\n",
    "                               fpr_fixed_point        = 0.005, \n",
    "                               index_dict             = label_dict, \n",
    "                               recons_mom_bin_size    = 50, \n",
    "                               plot_bins              = test_N,\n",
    "                               ax                     = ax,\n",
    "                               marker                 = 'o--',\n",
    "                               color                  = 'g',\n",
    "                               title_note             = '',\n",
    "                               metric                 = 'mu fpr',\n",
    "                               yrange                 = [0, 0.01],\n",
    "                               #xrange                 = [0, 1000]\n",
    "                                         )\n",
    "\n",
    "plot_fitqun_binned_performance(scores                 = short_softmax[1][:,1], \n",
    "                               labels                 = short_labels[1],\n",
    "                               reconstructed_momentum = filtered_fq_mom,\n",
    "                               fpr_fixed_point        = 0.005, \n",
    "                               index_dict             = label_dict, \n",
    "                               recons_mom_bin_size    = 610, \n",
    "                               plot_bins              = test_N,\n",
    "                               ax                     = ax,\n",
    "                               marker                 = 'o--',\n",
    "                               color                  = 'b',\n",
    "                               title_note             = '',\n",
    "                               metric                 = 'mu fpr',\n",
    "                               yrange                 = [0, 0.01],\n",
    "                               #xrange                 = [0, 1000]\n",
    "                                         )\n",
    "\n",
    "ax.legend(['ResNet (P(e-) + P(\\u03B3))', 'ResNet (P(e-) + P(\\u03B3)), no binning', 'FiTQun', 'FiTQun, no binning'])"
   ]
  },
  {
   "cell_type": "code",
   "execution_count": null,
   "metadata": {},
   "outputs": [],
   "source": [
    "sample_softmax = np.zeros_like(short_softmax[0])\n",
    "sample_softmax[:,1] = short_softmax[0][:,0] + short_softmax[0][:,1]\n",
    "sample_softmax = sample_softmax[:, 1]"
   ]
  },
  {
   "cell_type": "code",
   "execution_count": null,
   "metadata": {},
   "outputs": [],
   "source": [
    "print(sample_softmax.shape)"
   ]
  },
  {
   "cell_type": "code",
   "execution_count": null,
   "metadata": {},
   "outputs": [],
   "source": [
    "print()"
   ]
  },
  {
   "cell_type": "code",
   "execution_count": null,
   "metadata": {},
   "outputs": [],
   "source": [
    "fig, axes = plt.subplots(1,1,figsize=(9,5), facecolor='w')\n",
    "\n",
    "plot_fixed_operating_performance(scores                 = sample_softmax, \n",
    "                                 labels                 = short_labels[0],  \n",
    "                                 fixed_binning_features = filtered_fq_mom,\n",
    "                                 fixed_bin_label        = 'Reconstructed Momentum',\n",
    "                                 plot_binning_features  = filtered_test_d_to_wall,\n",
    "                                 plot_bin_label         = 'To Wall',\n",
    "                                 fpr_fixed_point        = 0.005, \n",
    "                                 index_dict             = label_dict, \n",
    "                                 fixed_bin_size         = 610, \n",
    "                                 plot_bins              = 20, \n",
    "                                 ax                     = axes,\n",
    "                                 marker                 = 'o--',\n",
    "                                 color                  = 'k',\n",
    "                                 title_note             = '',\n",
    "                                 metric                 = 'efficiency',\n",
    "                                #yrange                  = [0.7, 1.01]\n",
    "                              )\n",
    "\n",
    "axes.legend(['ResNet (P(e-) + P(\\u03B3))', 'ResNet (P(e-) + P(\\u03B3)), no binning', 'FiTQun', 'FiTQun, no binning'])"
   ]
  },
  {
   "cell_type": "code",
   "execution_count": null,
   "metadata": {},
   "outputs": [],
   "source": [
    "print(short_softmax[0][:,0] + short_softmax[0][:,1])"
   ]
  },
  {
   "cell_type": "code",
   "execution_count": null,
   "metadata": {},
   "outputs": [],
   "source": [
    "print(len(short_softmax[0][:,0] + short_softmax[0][:,1]))"
   ]
  },
  {
   "cell_type": "code",
   "execution_count": null,
   "metadata": {},
   "outputs": [],
   "source": [
    "print(len(short_softmax[0][:,0]))"
   ]
  },
  {
   "cell_type": "code",
   "execution_count": null,
   "metadata": {},
   "outputs": [],
   "source": [
    "print(len(set(short_softmax[0][:,0] + short_softmax[0][:,1])))"
   ]
  },
  {
   "cell_type": "code",
   "execution_count": null,
   "metadata": {},
   "outputs": [],
   "source": [
    "print(len(set(short_softmax[1][:,0] + short_softmax[1][:,1])))"
   ]
  },
  {
   "cell_type": "code",
   "execution_count": null,
   "metadata": {},
   "outputs": [],
   "source": [
    "print(np.max(filtered_fq_mom))"
   ]
  },
  {
   "cell_type": "markdown",
   "metadata": {},
   "source": [
    "### Plot vs Zenith"
   ]
  },
  {
   "cell_type": "code",
   "execution_count": null,
   "metadata": {},
   "outputs": [],
   "source": [
    "fig, axes = plt.subplots(1,1,figsize=(9,5), facecolor='w')\n",
    "\n",
    "plot_fixed_operating_performance(scores                 = short_softmax[0][:,0] + short_softmax[0][:,1], \n",
    "                                 labels                 = short_labels[0],  \n",
    "                                 fixed_binning_features = filtered_fq_mom,\n",
    "                                 fixed_bin_label        = 'Reconstructed Momentum',\n",
    "                                 plot_binning_features  = filtered_test_zenith,\n",
    "                                 plot_bin_label         = 'Zenith Angle',\n",
    "                                 fpr_fixed_point        = 0.005, \n",
    "                                 index_dict             = label_dict, \n",
    "                                 fixed_bin_size         = 50, \n",
    "                                 plot_bins              = 10, \n",
    "                                 ax                     = axes,\n",
    "                                 marker                 = 'o--',\n",
    "                                 color                  = 'r',\n",
    "                                 title_note             = '',\n",
    "                                 metric                 = 'efficiency',\n",
    "                                yrange                  = [0.85, 1.01]\n",
    "                              )\n",
    "\n",
    "plot_fixed_operating_performance(scores                 = short_softmax[1][:,0] + short_softmax[1][:,1], \n",
    "                                 labels                 = short_labels[1],  \n",
    "                                 fixed_binning_features = filtered_fq_mom,\n",
    "                                 fixed_bin_label        = 'Reconstructed Momentum',\n",
    "                                 plot_binning_features  = filtered_test_zenith,\n",
    "                                 plot_bin_label         = 'Zenith Angle',\n",
    "                                 fpr_fixed_point        = 0.005, \n",
    "                                 index_dict             = label_dict, \n",
    "                                 fixed_bin_size         = 50, \n",
    "                                 plot_bins              = 10, \n",
    "                                 ax                     = axes,\n",
    "                                 marker                 = 'o--',\n",
    "                                 color                  = 'g',\n",
    "                                 title_note             = '',\n",
    "                                 metric                 = 'efficiency',\n",
    "                                 yrange                 = [0.85, 1.01]\n",
    "                              )\n",
    "\n",
    "axes.legend(['ResNet (P(e-) + P(\\u03B3))', 'FiTQun'])"
   ]
  },
  {
   "cell_type": "markdown",
   "metadata": {},
   "source": [
    "### Plot vs Azimuth"
   ]
  },
  {
   "cell_type": "code",
   "execution_count": null,
   "metadata": {},
   "outputs": [],
   "source": [
    "fig, axes = plt.subplots(1,1,figsize=(9,5), facecolor='w')\n",
    "\n",
    "plot_fixed_operating_performance(scores                 = short_softmax[0][:,0] + short_softmax[0][:,1], \n",
    "                                 labels                 = short_labels[0],  \n",
    "                                 fixed_binning_features = filtered_fq_mom,\n",
    "                                 fixed_bin_label        = 'Reconstructed Momentum',\n",
    "                                 plot_binning_features  = filtered_test_azimuth,\n",
    "                                 plot_bin_label         = 'Azimuth Angle',\n",
    "                                 fpr_fixed_point        = 0.005, \n",
    "                                 index_dict             = label_dict, \n",
    "                                 fixed_bin_size         = 50, \n",
    "                                 plot_bins              = 10, \n",
    "                                 ax                     = axes,\n",
    "                                 marker                 = 'o--',\n",
    "                                 color                  = 'r',\n",
    "                                 title_note             = '',\n",
    "                                 metric                 = 'efficiency',\n",
    "                                yrange                  = [0.85, 1.01]\n",
    "                              )\n",
    "\n",
    "plot_fixed_operating_performance(scores                 = short_softmax[1][:,0] + short_softmax[1][:,1], \n",
    "                                 labels                 = short_labels[1],  \n",
    "                                 fixed_binning_features = filtered_fq_mom,\n",
    "                                 fixed_bin_label        = 'Reconstructed Momentum',\n",
    "                                 plot_binning_features  = filtered_test_azimuth,\n",
    "                                 plot_bin_label         = 'Azimuth Angle',\n",
    "                                 fpr_fixed_point        = 0.005, \n",
    "                                 index_dict             = label_dict, \n",
    "                                 fixed_bin_size         = 50, \n",
    "                                 plot_bins              = 10, \n",
    "                                 ax                     = axes,\n",
    "                                 marker                 = 'o--',\n",
    "                                 color                  = 'g',\n",
    "                                 title_note             = '',\n",
    "                                 metric                 = 'efficiency',\n",
    "                                 yrange                 = [0.85, 1.01]\n",
    "                              )\n",
    "axes.legend(['ResNet (P(e-) + P(\\u03B3))', 'FiTQun'])"
   ]
  },
  {
   "cell_type": "code",
   "execution_count": 24,
   "metadata": {},
   "outputs": [
    {
     "name": "stdout",
     "output_type": "stream",
     "text": [
      "-3.1415873\n",
      "3.1415908\n"
     ]
    }
   ],
   "source": [
    "print(np.min(filtered_test_azimuth))\n",
    "print(np.max(filtered_test_azimuth))"
   ]
  }
 ],
 "metadata": {
  "kernelspec": {
   "display_name": "Python 3",
   "language": "python",
   "name": "python3"
  },
  "language_info": {
   "codemirror_mode": {
    "name": "ipython",
    "version": 3
   },
   "file_extension": ".py",
   "mimetype": "text/x-python",
   "name": "python",
   "nbconvert_exporter": "python",
   "pygments_lexer": "ipython3",
   "version": "3.8.5"
  }
 },
 "nbformat": 4,
 "nbformat_minor": 4
}
