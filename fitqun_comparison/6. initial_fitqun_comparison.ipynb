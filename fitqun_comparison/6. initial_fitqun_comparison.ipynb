{
 "cells": [
  {
   "cell_type": "code",
   "execution_count": 2,
   "metadata": {},
   "outputs": [],
   "source": [
    "%load_ext autoreload\n",
    "%matplotlib inline\n",
    "%autoreload 2"
   ]
  },
  {
   "cell_type": "code",
   "execution_count": 3,
   "metadata": {},
   "outputs": [],
   "source": [
    "import uproot\n",
    "import numpy as np\n",
    "import matplotlib.pyplot as plt\n",
    "import os\n",
    "import sys\n",
    "import pickle"
   ]
  },
  {
   "cell_type": "code",
   "execution_count": 4,
   "metadata": {
    "tags": []
   },
   "outputs": [],
   "source": [
    "#sys.path.append(\"../..\")\n",
    "sys.path.append(\"..\")\n",
    "\n",
    "from WatChMaL.analysis.multi_plot_utils import multi_disp_learn_hist, multi_compute_roc, multi_plot_roc\n",
    "from WatChMaL.analysis.comparison_utils import multi_get_masked_data, multi_collapse_test_output"
   ]
  },
  {
   "cell_type": "code",
   "execution_count": 5,
   "metadata": {},
   "outputs": [],
   "source": [
    "############# define plotting params #############\n",
    "c = plt.rcParams['axes.prop_cycle'].by_key()['color']\n",
    "label_dict = {\"$\\gamma$\":0, \"$e$\":1, \"$\\mu$\":2}\n",
    "inverse_label_dict = {0:\"$\\gamma$\", 1:\"$e$\", 2:\"$\\mu$\"}"
   ]
  },
  {
   "cell_type": "code",
   "execution_count": 6,
   "metadata": {},
   "outputs": [],
   "source": [
    "############# define run locations #############\n",
    "short_locs = ['/home/jtindall/WatChMaL/outputs/2021-03-16/20-21-15/outputs'\n",
    "              #'/home/jtindall/WatChMaL/outputs/2021-03-03/no_drop_last_full/outputs'\n",
    "             ]\n",
    "\n",
    "short_titles = ['Short Tank', 'Fitqun']\n",
    "\n",
    "full_locs = []\n",
    "\n",
    "full_titles = []\n",
    "\n",
    "short_linecolor = [c[0] for _ in range(2)]\n",
    "short_linestyle = ['--' for _ in range(2)]\n",
    "\n",
    "full_linecolor = [c[1] for _ in full_locs]\n",
    "full_linestyle = [':' for _ in full_locs]\n"
   ]
  },
  {
   "cell_type": "code",
   "execution_count": 7,
   "metadata": {},
   "outputs": [],
   "source": [
    "#fig = multi_disp_learn_hist(mp_locs,losslim=2.5,titles=titles,leg_font=15, title_font=15,xmax=20)"
   ]
  },
  {
   "cell_type": "code",
   "execution_count": 8,
   "metadata": {},
   "outputs": [],
   "source": [
    "locs = short_locs + full_locs\n",
    "titles = short_titles + full_titles\n",
    "linecolor = short_linecolor + full_linecolor\n",
    "linestyle = short_linestyle + full_linestyle"
   ]
  },
  {
   "cell_type": "code",
   "execution_count": 9,
   "metadata": {},
   "outputs": [],
   "source": [
    "############# load short tank run data #############\n",
    "short_raw_output_softmax    = [np.load(loc + \"/softmax.npy\") for loc in short_locs]\n",
    "short_raw_actual_labels     = [np.load(loc + \"/labels.npy\") for loc in short_locs]"
   ]
  },
  {
   "cell_type": "code",
   "execution_count": 10,
   "metadata": {},
   "outputs": [],
   "source": [
    "# Verify outputs"
   ]
  },
  {
   "cell_type": "code",
   "execution_count": 11,
   "metadata": {},
   "outputs": [],
   "source": [
    "idxs_path = '/fast_scratch/WatChMaL/data/IWCD_mPMT_Short_3M_idxs.npz'\n",
    "idxs = np.load(idxs_path, allow_pickle=True)\n",
    "\n",
    "train_idxs = idxs['train_idxs']\n",
    "val_idxs   = idxs['val_idxs']\n",
    "test_idxs  = idxs['test_idxs']"
   ]
  },
  {
   "cell_type": "code",
   "execution_count": 12,
   "metadata": {},
   "outputs": [],
   "source": [
    "## Load fitqun results"
   ]
  },
  {
   "cell_type": "code",
   "execution_count": 13,
   "metadata": {},
   "outputs": [],
   "source": [
    "short_ids    = np.load('/home/jtindall/WatChMaL/outputs/2021-03-09/ordered_no_veto/outputs' + \"/ids.npy\")\n",
    "short_labels = np.load('/home/jtindall/WatChMaL/outputs/2021-03-09/ordered_no_veto/outputs' + \"/labels.npy\")"
   ]
  },
  {
   "cell_type": "code",
   "execution_count": 14,
   "metadata": {},
   "outputs": [
    {
     "name": "stdout",
     "output_type": "stream",
     "text": [
      "[1 1 1 ... 0 0 0]\n"
     ]
    }
   ],
   "source": [
    "print(short_labels)"
   ]
  },
  {
   "cell_type": "code",
   "execution_count": 15,
   "metadata": {},
   "outputs": [
    {
     "name": "stdout",
     "output_type": "stream",
     "text": [
      "\n"
     ]
    }
   ],
   "source": [
    "print()"
   ]
  },
  {
   "cell_type": "code",
   "execution_count": 16,
   "metadata": {},
   "outputs": [],
   "source": [
    "def load_fq_output(mapping_indices_path, fq_failed_idxs_path, test_idxs_path, cut_path, cut_list):\n",
    "    return -1"
   ]
  },
  {
   "cell_type": "code",
   "execution_count": 17,
   "metadata": {},
   "outputs": [],
   "source": [
    "with open('./fq_comparison_data/3M_fitqun_mapping.pickle', 'rb') as handle:\n",
    "    fq_mapping = pickle.load(handle)\n",
    "\n",
    "gamma_fq_indices = fq_mapping['gamma_fq_indices']\n",
    "e_fq_indices     = fq_mapping['e_fq_indices']\n",
    "mu_fq_indices    = fq_mapping['mu_fq_indices']"
   ]
  },
  {
   "cell_type": "code",
   "execution_count": 18,
   "metadata": {},
   "outputs": [],
   "source": [
    "# Retrieve flags\n",
    "gamma_file_data = uproot.open('/fast_scratch/WatChMaL/data/IWCD_mPMT_Short_gamma_E0to1000MeV_unif-pos-R400-y300cm_4pi-dir.fiTQun.root')['fiTQun;1']\n",
    "e_file_data     = uproot.open('/fast_scratch/WatChMaL/data/IWCD_mPMT_Short_e-_E0to1000MeV_unif-pos-R400-y300cm_4pi-dir.fiTQun.root')['fiTQun;1']\n",
    "mu_file_data    = uproot.open('/fast_scratch/WatChMaL/data/IWCD_mPMT_Short_mu-_E0to1000MeV_unif-pos-R400-y300cm_4pi-dir.fiTQun.root')['fiTQun;1']"
   ]
  },
  {
   "cell_type": "code",
   "execution_count": 19,
   "metadata": {},
   "outputs": [],
   "source": [
    "e_set_nll    = e_file_data.arrays('fq1rnll')['fq1rnll']\n",
    "\n",
    "e_set_e_nll  = e_set_nll[:, 0, 1]\n",
    "e_set_mu_nll = e_set_nll[:, 0, 2]\n",
    "\n",
    "e_set_discriminator = np.array(e_set_mu_nll - e_set_e_nll)# / (e_set_mu_nll + e_set_e_nll)) #/ np.array(e_set_mu_nll + e_set_e_nll)"
   ]
  },
  {
   "cell_type": "code",
   "execution_count": 33,
   "metadata": {},
   "outputs": [
    {
     "name": "stdout",
     "output_type": "stream",
     "text": [
      "[5.36e+03, 1.28e+04, 3.79e+03, 8.27e+03, 1.31e+04, ... 1.46e+04, 597, 206, 6.9e+03]\n"
     ]
    }
   ],
   "source": [
    "e_set_gamma_nll    = e_file_data.arrays('fq2elecnll')['fq2elecnll']\n",
    "print(e_set_gamma_nll)"
   ]
  },
  {
   "cell_type": "code",
   "execution_count": 19,
   "metadata": {},
   "outputs": [
    {
     "name": "stdout",
     "output_type": "stream",
     "text": [
      "1177966\n"
     ]
    }
   ],
   "source": [
    "print(len(e_set_discriminator[e_fq_indices]))"
   ]
  },
  {
   "cell_type": "code",
   "execution_count": 20,
   "metadata": {},
   "outputs": [
    {
     "name": "stdout",
     "output_type": "stream",
     "text": [
      "[      0       1       2 ... 1199995 1199996 1199999]\n",
      "[      0       1       2 ... 1199997 1199998 1199999]\n",
      "[      0       1       4 ... 1199997 1199998 1199999]\n"
     ]
    }
   ],
   "source": [
    "print(e_fq_indices)\n",
    "print(gamma_fq_indices)\n",
    "print(mu_fq_indices)"
   ]
  },
  {
   "cell_type": "code",
   "execution_count": 21,
   "metadata": {},
   "outputs": [
    {
     "name": "stdout",
     "output_type": "stream",
     "text": [
      "[  10.574707  558.58203    36.09204  ... 1419.4277    412.30664\n",
      "  379.48828 ]\n"
     ]
    }
   ],
   "source": [
    "print(e_set_discriminator[e_fq_indices])"
   ]
  },
  {
   "cell_type": "code",
   "execution_count": 22,
   "metadata": {},
   "outputs": [
    {
     "name": "stdout",
     "output_type": "stream",
     "text": [
      "[ 10.574707 558.58203   36.09204  ...   0.        -9.158112 379.48828 ]\n"
     ]
    }
   ],
   "source": [
    "print(e_set_discriminator)"
   ]
  },
  {
   "cell_type": "code",
   "execution_count": 23,
   "metadata": {},
   "outputs": [
    {
     "name": "stdout",
     "output_type": "stream",
     "text": [
      "[5.27e+03, 1.27e+04, 3.79e+03, 8.29e+03, 1.3e+04, ... 1.49e+04, -47, 194, 7.68e+03]\n"
     ]
    }
   ],
   "source": [
    "print(e_set_e_nll)"
   ]
  },
  {
   "cell_type": "code",
   "execution_count": 24,
   "metadata": {},
   "outputs": [
    {
     "name": "stdout",
     "output_type": "stream",
     "text": [
      "[5.28e+03, 1.33e+04, 3.83e+03, 8.47e+03, 1.42e+04, ... 1.53e+04, -47, 185, 8.06e+03]\n"
     ]
    }
   ],
   "source": [
    "print(e_set_mu_nll)"
   ]
  },
  {
   "cell_type": "code",
   "execution_count": 25,
   "metadata": {},
   "outputs": [
    {
     "name": "stdout",
     "output_type": "stream",
     "text": [
      "958212\n"
     ]
    }
   ],
   "source": [
    "print(len(set(e_set_discriminator)))"
   ]
  },
  {
   "cell_type": "code",
   "execution_count": 22,
   "metadata": {},
   "outputs": [],
   "source": [
    "gamma_set_nll    = gamma_file_data.arrays('fq1rnll')['fq1rnll']\n",
    "\n",
    "gamma_set_e_nll  = gamma_set_nll[:, 0, 1]\n",
    "gamma_set_mu_nll = gamma_set_nll[:, 0, 2]\n",
    "\n",
    "gamma_set_discriminator = np.array(gamma_set_mu_nll - gamma_set_e_nll) #/ np.array(gamma_set_mu_nll + gamma_set_e_nll)"
   ]
  },
  {
   "cell_type": "code",
   "execution_count": 23,
   "metadata": {},
   "outputs": [],
   "source": [
    "mu_set_nll    = mu_file_data.arrays('fq1rnll')['fq1rnll']\n",
    "\n",
    "mu_set_e_nll  = mu_set_nll[:, 0, 1]\n",
    "mu_set_mu_nll = mu_set_nll[:, 0, 2]\n",
    "\n",
    "mu_set_discriminator = np.array(mu_set_mu_nll - mu_set_e_nll) #/ np.array(mu_set_mu_nll + mu_set_e_nll)"
   ]
  },
  {
   "cell_type": "code",
   "execution_count": 32,
   "metadata": {},
   "outputs": [
    {
     "ename": "KeyInFileError",
     "evalue": "not found: 'fq2elecnll'\nin file /fast_scratch/WatChMaL/data/IWCD_mPMT_Short_mu-_E0to1000MeV_unif-pos-R400-y300cm_4pi-dir.fiTQun.root\nin object /fiTQun;1",
     "output_type": "error",
     "traceback": [
      "\u001b[0;31m---------------------------------------------------------------------------\u001b[0m",
      "\u001b[0;31mKeyError\u001b[0m                                  Traceback (most recent call last)",
      "\u001b[0;32m/opt/conda/lib/python3.8/site-packages/uproot/language/python.py\u001b[0m in \u001b[0;36mfree_symbols\u001b[0;34m(self, expression, keys, aliases, file_path, object_path)\u001b[0m\n\u001b[1;32m    375\u001b[0m             \u001b[0;32mtry\u001b[0m\u001b[0;34m:\u001b[0m\u001b[0;34m\u001b[0m\u001b[0;34m\u001b[0m\u001b[0m\n\u001b[0;32m--> 376\u001b[0;31m                 return list(\n\u001b[0m\u001b[1;32m    377\u001b[0m                     _walk_ast_yield_symbols(\n",
      "\u001b[0;32m/opt/conda/lib/python3.8/site-packages/uproot/language/python.py\u001b[0m in \u001b[0;36m_walk_ast_yield_symbols\u001b[0;34m(node, keys, aliases, functions, getter)\u001b[0m\n\u001b[1;32m     91\u001b[0m             \u001b[0mx\u001b[0m \u001b[0;34m=\u001b[0m \u001b[0mgetattr\u001b[0m\u001b[0;34m(\u001b[0m\u001b[0mnode\u001b[0m\u001b[0;34m,\u001b[0m \u001b[0mfield_name\u001b[0m\u001b[0;34m)\u001b[0m\u001b[0;34m\u001b[0m\u001b[0;34m\u001b[0m\u001b[0m\n\u001b[0;32m---> 92\u001b[0;31m             \u001b[0;32mfor\u001b[0m \u001b[0my\u001b[0m \u001b[0;32min\u001b[0m \u001b[0m_walk_ast_yield_symbols\u001b[0m\u001b[0;34m(\u001b[0m\u001b[0mx\u001b[0m\u001b[0;34m,\u001b[0m \u001b[0mkeys\u001b[0m\u001b[0;34m,\u001b[0m \u001b[0maliases\u001b[0m\u001b[0;34m,\u001b[0m \u001b[0mfunctions\u001b[0m\u001b[0;34m,\u001b[0m \u001b[0mgetter\u001b[0m\u001b[0;34m)\u001b[0m\u001b[0;34m:\u001b[0m\u001b[0;34m\u001b[0m\u001b[0;34m\u001b[0m\u001b[0m\n\u001b[0m\u001b[1;32m     93\u001b[0m                 \u001b[0;32myield\u001b[0m \u001b[0my\u001b[0m\u001b[0;34m\u001b[0m\u001b[0;34m\u001b[0m\u001b[0m\n",
      "\u001b[0;32m/opt/conda/lib/python3.8/site-packages/uproot/language/python.py\u001b[0m in \u001b[0;36m_walk_ast_yield_symbols\u001b[0;34m(node, keys, aliases, functions, getter)\u001b[0m\n\u001b[1;32m     96\u001b[0m         \u001b[0;32mfor\u001b[0m \u001b[0mx\u001b[0m \u001b[0;32min\u001b[0m \u001b[0mnode\u001b[0m\u001b[0;34m:\u001b[0m\u001b[0;34m\u001b[0m\u001b[0;34m\u001b[0m\u001b[0m\n\u001b[0;32m---> 97\u001b[0;31m             \u001b[0;32mfor\u001b[0m \u001b[0my\u001b[0m \u001b[0;32min\u001b[0m \u001b[0m_walk_ast_yield_symbols\u001b[0m\u001b[0;34m(\u001b[0m\u001b[0mx\u001b[0m\u001b[0;34m,\u001b[0m \u001b[0mkeys\u001b[0m\u001b[0;34m,\u001b[0m \u001b[0maliases\u001b[0m\u001b[0;34m,\u001b[0m \u001b[0mfunctions\u001b[0m\u001b[0;34m,\u001b[0m \u001b[0mgetter\u001b[0m\u001b[0;34m)\u001b[0m\u001b[0;34m:\u001b[0m\u001b[0;34m\u001b[0m\u001b[0;34m\u001b[0m\u001b[0m\n\u001b[0m\u001b[1;32m     98\u001b[0m                 \u001b[0;32myield\u001b[0m \u001b[0my\u001b[0m\u001b[0;34m\u001b[0m\u001b[0;34m\u001b[0m\u001b[0m\n",
      "\u001b[0;32m/opt/conda/lib/python3.8/site-packages/uproot/language/python.py\u001b[0m in \u001b[0;36m_walk_ast_yield_symbols\u001b[0;34m(node, keys, aliases, functions, getter)\u001b[0m\n\u001b[1;32m     91\u001b[0m             \u001b[0mx\u001b[0m \u001b[0;34m=\u001b[0m \u001b[0mgetattr\u001b[0m\u001b[0;34m(\u001b[0m\u001b[0mnode\u001b[0m\u001b[0;34m,\u001b[0m \u001b[0mfield_name\u001b[0m\u001b[0;34m)\u001b[0m\u001b[0;34m\u001b[0m\u001b[0;34m\u001b[0m\u001b[0m\n\u001b[0;32m---> 92\u001b[0;31m             \u001b[0;32mfor\u001b[0m \u001b[0my\u001b[0m \u001b[0;32min\u001b[0m \u001b[0m_walk_ast_yield_symbols\u001b[0m\u001b[0;34m(\u001b[0m\u001b[0mx\u001b[0m\u001b[0;34m,\u001b[0m \u001b[0mkeys\u001b[0m\u001b[0;34m,\u001b[0m \u001b[0maliases\u001b[0m\u001b[0;34m,\u001b[0m \u001b[0mfunctions\u001b[0m\u001b[0;34m,\u001b[0m \u001b[0mgetter\u001b[0m\u001b[0;34m)\u001b[0m\u001b[0;34m:\u001b[0m\u001b[0;34m\u001b[0m\u001b[0;34m\u001b[0m\u001b[0m\n\u001b[0m\u001b[1;32m     93\u001b[0m                 \u001b[0;32myield\u001b[0m \u001b[0my\u001b[0m\u001b[0;34m\u001b[0m\u001b[0;34m\u001b[0m\u001b[0m\n",
      "\u001b[0;32m/opt/conda/lib/python3.8/site-packages/uproot/language/python.py\u001b[0m in \u001b[0;36m_walk_ast_yield_symbols\u001b[0;34m(node, keys, aliases, functions, getter)\u001b[0m\n\u001b[1;32m     73\u001b[0m         \u001b[0;32melse\u001b[0m\u001b[0;34m:\u001b[0m\u001b[0;34m\u001b[0m\u001b[0;34m\u001b[0m\u001b[0m\n\u001b[0;32m---> 74\u001b[0;31m             \u001b[0;32mraise\u001b[0m \u001b[0mKeyError\u001b[0m\u001b[0;34m(\u001b[0m\u001b[0mnode\u001b[0m\u001b[0;34m.\u001b[0m\u001b[0mid\u001b[0m\u001b[0;34m)\u001b[0m\u001b[0;34m\u001b[0m\u001b[0;34m\u001b[0m\u001b[0m\n\u001b[0m\u001b[1;32m     75\u001b[0m \u001b[0;34m\u001b[0m\u001b[0m\n",
      "\u001b[0;31mKeyError\u001b[0m: 'fq2elecnll'",
      "\nDuring handling of the above exception, another exception occurred:\n",
      "\u001b[0;31mKeyInFileError\u001b[0m                            Traceback (most recent call last)",
      "\u001b[0;32m<ipython-input-32-bf0352151035>\u001b[0m in \u001b[0;36m<module>\u001b[0;34m\u001b[0m\n\u001b[0;32m----> 1\u001b[0;31m \u001b[0mmu_set_gamma_nll\u001b[0m    \u001b[0;34m=\u001b[0m \u001b[0mmu_file_data\u001b[0m\u001b[0;34m.\u001b[0m\u001b[0marrays\u001b[0m\u001b[0;34m(\u001b[0m\u001b[0;34m'fq2elecnll'\u001b[0m\u001b[0;34m)\u001b[0m\u001b[0;34m[\u001b[0m\u001b[0;34m'fq2elecnll'\u001b[0m\u001b[0;34m]\u001b[0m\u001b[0;34m\u001b[0m\u001b[0;34m\u001b[0m\u001b[0m\n\u001b[0m\u001b[1;32m      2\u001b[0m \u001b[0mprint\u001b[0m\u001b[0;34m(\u001b[0m\u001b[0mmu_set_gamma_nll\u001b[0m\u001b[0;34m)\u001b[0m\u001b[0;34m\u001b[0m\u001b[0;34m\u001b[0m\u001b[0m\n",
      "\u001b[0;32m/opt/conda/lib/python3.8/site-packages/uproot/behaviors/TBranch.py\u001b[0m in \u001b[0;36marrays\u001b[0;34m(self, expressions, cut, filter_name, filter_typename, filter_branch, aliases, language, entry_start, entry_stop, decompression_executor, interpretation_executor, array_cache, library, how)\u001b[0m\n\u001b[1;32m   1094\u001b[0m \u001b[0;34m\u001b[0m\u001b[0m\n\u001b[1;32m   1095\u001b[0m         \u001b[0maliases\u001b[0m \u001b[0;34m=\u001b[0m \u001b[0m_regularize_aliases\u001b[0m\u001b[0;34m(\u001b[0m\u001b[0mself\u001b[0m\u001b[0;34m,\u001b[0m \u001b[0maliases\u001b[0m\u001b[0;34m)\u001b[0m\u001b[0;34m\u001b[0m\u001b[0;34m\u001b[0m\u001b[0m\n\u001b[0;32m-> 1096\u001b[0;31m         arrays, expression_context, branchid_interpretation = _regularize_expressions(\n\u001b[0m\u001b[1;32m   1097\u001b[0m             \u001b[0mself\u001b[0m\u001b[0;34m,\u001b[0m\u001b[0;34m\u001b[0m\u001b[0;34m\u001b[0m\u001b[0m\n\u001b[1;32m   1098\u001b[0m             \u001b[0mexpressions\u001b[0m\u001b[0;34m,\u001b[0m\u001b[0;34m\u001b[0m\u001b[0;34m\u001b[0m\u001b[0m\n",
      "\u001b[0;32m/opt/conda/lib/python3.8/site-packages/uproot/behaviors/TBranch.py\u001b[0m in \u001b[0;36m_regularize_expressions\u001b[0;34m(hasbranches, expressions, cut, filter_name, filter_typename, filter_branch, keys, aliases, language, get_from_cache)\u001b[0m\n\u001b[1;32m   3248\u001b[0m \u001b[0;34m\u001b[0m\u001b[0m\n\u001b[1;32m   3249\u001b[0m     \u001b[0;32melif\u001b[0m \u001b[0muproot\u001b[0m\u001b[0;34m.\u001b[0m\u001b[0m_util\u001b[0m\u001b[0;34m.\u001b[0m\u001b[0misstr\u001b[0m\u001b[0;34m(\u001b[0m\u001b[0mexpressions\u001b[0m\u001b[0;34m)\u001b[0m\u001b[0;34m:\u001b[0m\u001b[0;34m\u001b[0m\u001b[0;34m\u001b[0m\u001b[0m\n\u001b[0;32m-> 3250\u001b[0;31m         _regularize_expression(\n\u001b[0m\u001b[1;32m   3251\u001b[0m             \u001b[0mhasbranches\u001b[0m\u001b[0;34m,\u001b[0m\u001b[0;34m\u001b[0m\u001b[0;34m\u001b[0m\u001b[0m\n\u001b[1;32m   3252\u001b[0m             \u001b[0mexpressions\u001b[0m\u001b[0;34m,\u001b[0m\u001b[0;34m\u001b[0m\u001b[0;34m\u001b[0m\u001b[0m\n",
      "\u001b[0;32m/opt/conda/lib/python3.8/site-packages/uproot/behaviors/TBranch.py\u001b[0m in \u001b[0;36m_regularize_expression\u001b[0;34m(hasbranches, expression, keys, aliases, language, get_from_cache, arrays, expression_context, branchid_interpretation, symbol_path, is_cut, rename)\u001b[0m\n\u001b[1;32m   3148\u001b[0m         \u001b[0mis_jagged\u001b[0m \u001b[0;34m=\u001b[0m \u001b[0;32mFalse\u001b[0m\u001b[0;34m\u001b[0m\u001b[0;34m\u001b[0m\u001b[0m\n\u001b[1;32m   3149\u001b[0m         \u001b[0mexpression_branches\u001b[0m \u001b[0;34m=\u001b[0m \u001b[0;34m[\u001b[0m\u001b[0;34m]\u001b[0m\u001b[0;34m\u001b[0m\u001b[0;34m\u001b[0m\u001b[0m\n\u001b[0;32m-> 3150\u001b[0;31m         for symbol in language.free_symbols(\n\u001b[0m\u001b[1;32m   3151\u001b[0m             \u001b[0mto_compute\u001b[0m\u001b[0;34m,\u001b[0m\u001b[0;34m\u001b[0m\u001b[0;34m\u001b[0m\u001b[0m\n\u001b[1;32m   3152\u001b[0m             \u001b[0mkeys\u001b[0m\u001b[0;34m,\u001b[0m\u001b[0;34m\u001b[0m\u001b[0;34m\u001b[0m\u001b[0m\n",
      "\u001b[0;32m/opt/conda/lib/python3.8/site-packages/uproot/language/python.py\u001b[0m in \u001b[0;36mfree_symbols\u001b[0;34m(self, expression, keys, aliases, file_path, object_path)\u001b[0m\n\u001b[1;32m    380\u001b[0m                 )\n\u001b[1;32m    381\u001b[0m             \u001b[0;32mexcept\u001b[0m \u001b[0mKeyError\u001b[0m \u001b[0;32mas\u001b[0m \u001b[0merr\u001b[0m\u001b[0;34m:\u001b[0m\u001b[0;34m\u001b[0m\u001b[0;34m\u001b[0m\u001b[0m\n\u001b[0;32m--> 382\u001b[0;31m                 raise uproot.KeyInFileError(\n\u001b[0m\u001b[1;32m    383\u001b[0m                     \u001b[0merr\u001b[0m\u001b[0;34m.\u001b[0m\u001b[0margs\u001b[0m\u001b[0;34m[\u001b[0m\u001b[0;36m0\u001b[0m\u001b[0;34m]\u001b[0m\u001b[0;34m,\u001b[0m \u001b[0mfile_path\u001b[0m\u001b[0;34m=\u001b[0m\u001b[0mfile_path\u001b[0m\u001b[0;34m,\u001b[0m \u001b[0mobject_path\u001b[0m\u001b[0;34m=\u001b[0m\u001b[0mobject_path\u001b[0m\u001b[0;34m\u001b[0m\u001b[0;34m\u001b[0m\u001b[0m\n\u001b[1;32m    384\u001b[0m                 )\n",
      "\u001b[0;31mKeyInFileError\u001b[0m: not found: 'fq2elecnll'\nin file /fast_scratch/WatChMaL/data/IWCD_mPMT_Short_mu-_E0to1000MeV_unif-pos-R400-y300cm_4pi-dir.fiTQun.root\nin object /fiTQun;1"
     ]
    }
   ],
   "source": [
    "mu_set_gamma_nll    = mu_file_data.arrays('fq2elecnll')['fq2elecnll']\n",
    "print(mu_set_gamma_nll)"
   ]
  },
  {
   "cell_type": "code",
   "execution_count": null,
   "metadata": {},
   "outputs": [],
   "source": [
    "gamma_set_gamma_nll    = gamma_file_data.arrays('fq2elecnll')['fq2elecnll']\n",
    "print(gamma_set_gamma_nll)"
   ]
  },
  {
   "cell_type": "code",
   "execution_count": 28,
   "metadata": {},
   "outputs": [],
   "source": [
    "fq_likelihoods = np.concatenate((e_set_discriminator[e_fq_indices],\n",
    "                                 mu_set_discriminator[mu_fq_indices],\n",
    "                                 gamma_set_discriminator[gamma_fq_indices]\n",
    "                                ))"
   ]
  },
  {
   "cell_type": "code",
   "execution_count": 29,
   "metadata": {},
   "outputs": [],
   "source": [
    "fq_labels = np.concatenate((np.ones_like(e_set_discriminator[e_fq_indices])*1,\n",
    "                            np.ones_like(mu_set_discriminator[mu_fq_indices])*2,\n",
    "                            np.ones_like(gamma_set_discriminator[gamma_fq_indices])*0\n",
    "                            ))"
   ]
  },
  {
   "cell_type": "code",
   "execution_count": 30,
   "metadata": {},
   "outputs": [
    {
     "name": "stdout",
     "output_type": "stream",
     "text": [
      "[1 1 1 1 1 1 1 1 1 1]\n"
     ]
    }
   ],
   "source": [
    "print(short_raw_actual_labels[0][0:10])"
   ]
  },
  {
   "cell_type": "code",
   "execution_count": 31,
   "metadata": {},
   "outputs": [
    {
     "name": "stdout",
     "output_type": "stream",
     "text": [
      "[0 0 0 0 0 0 0 0 0 0]\n"
     ]
    }
   ],
   "source": [
    "print(short_raw_actual_labels[0][-10:])"
   ]
  },
  {
   "cell_type": "code",
   "execution_count": 32,
   "metadata": {},
   "outputs": [],
   "source": [
    "fq_scores = np.zeros(short_raw_output_softmax[0].shape)\n",
    "fq_scores[:, 1] = fq_likelihoods"
   ]
  },
  {
   "cell_type": "code",
   "execution_count": 33,
   "metadata": {},
   "outputs": [],
   "source": [
    "short_raw_output_softmax = short_raw_output_softmax + [fq_scores]\n",
    "short_raw_actual_labels  = short_raw_actual_labels + [fq_labels]"
   ]
  },
  {
   "cell_type": "code",
   "execution_count": 34,
   "metadata": {},
   "outputs": [],
   "source": [
    "## Filter results"
   ]
  },
  {
   "cell_type": "code",
   "execution_count": 35,
   "metadata": {},
   "outputs": [],
   "source": [
    "def remove_indices(array, cut_idxs):\n",
    "    return np.delete(array, cut_idxs, 0)"
   ]
  },
  {
   "cell_type": "code",
   "execution_count": 36,
   "metadata": {},
   "outputs": [],
   "source": [
    "with open('./fq_comparison_data/3M_fitqun_cuts.pickle', 'rb') as handle:\n",
    "    cuts = pickle.load(handle)\n",
    "\n",
    "cut_to_apply = np.concatenate((cuts['fq1rpcflg_1'], \n",
    "                               cuts['fq1rpcflg_2'],\n",
    "                               cuts['mu_OD_veto'],\n",
    "                               cuts['d_wall_cut'],\n",
    "                               cuts['to_wall_cut'])) # cuts['fq_comparison_OD_veto']"
   ]
  },
  {
   "cell_type": "code",
   "execution_count": 37,
   "metadata": {},
   "outputs": [],
   "source": [
    "short_raw_output_softmax = [remove_indices(softmax, cut_to_apply) for softmax in short_raw_output_softmax]\n",
    "short_raw_actual_labels  = [remove_indices(labels, cut_to_apply) for labels in short_raw_actual_labels]"
   ]
  },
  {
   "cell_type": "code",
   "execution_count": 38,
   "metadata": {},
   "outputs": [
    {
     "name": "stdout",
     "output_type": "stream",
     "text": [
      "(1584940,)\n"
     ]
    }
   ],
   "source": [
    "print(short_raw_actual_labels[0].shape)"
   ]
  },
  {
   "cell_type": "code",
   "execution_count": 39,
   "metadata": {},
   "outputs": [],
   "source": [
    "muon_softmax_index_dict = {\"e/gamma\":0, \"mu\":1}"
   ]
  },
  {
   "cell_type": "code",
   "execution_count": 40,
   "metadata": {},
   "outputs": [],
   "source": [
    "############# compute short collapsed ROC #############\n",
    "short_collapsed_class_scores_list, short_collapsed_class_labels_list = multi_collapse_test_output(short_raw_output_softmax, short_raw_actual_labels, label_dict, ignore_type='$\\gamma$')\n",
    "\n",
    "short_collapsed_class_labels_list = [collapsed_class_labels - 1 for collapsed_class_labels in short_collapsed_class_labels_list]\n",
    "short_collapsed_class_scores_list = [collapsed_class_scores[:,1:] for collapsed_class_scores in short_collapsed_class_scores_list]"
   ]
  },
  {
   "cell_type": "code",
   "execution_count": 41,
   "metadata": {},
   "outputs": [],
   "source": [
    "short_fpr_list, short_tpr_list, short_thr_list = multi_compute_roc(short_collapsed_class_scores_list, short_collapsed_class_labels_list, \n",
    "                            true_label=muon_softmax_index_dict[\"e/gamma\"], \n",
    "                            false_label=muon_softmax_index_dict[\"mu\"],\n",
    "                            normalize=False)"
   ]
  },
  {
   "cell_type": "code",
   "execution_count": 42,
   "metadata": {},
   "outputs": [
    {
     "name": "stdout",
     "output_type": "stream",
     "text": [
      "2\n"
     ]
    }
   ],
   "source": [
    "print(len(short_fpr_list))"
   ]
  },
  {
   "cell_type": "code",
   "execution_count": 43,
   "metadata": {},
   "outputs": [],
   "source": [
    "## Plot results"
   ]
  },
  {
   "cell_type": "code",
   "execution_count": 44,
   "metadata": {},
   "outputs": [],
   "source": [
    "############# combine short and long results #############\n",
    "fpr_list = short_fpr_list\n",
    "tpr_list = short_tpr_list\n",
    "thr_list = short_thr_list"
   ]
  },
  {
   "cell_type": "code",
   "execution_count": 45,
   "metadata": {},
   "outputs": [
    {
     "data": {
      "image/png": "[encoded data removed]",
      "text/plain": [
       "<Figure size 864x576 with 1 Axes>"
      ]
     },
     "metadata": {},
     "output_type": "display_data"
    }
   ],
   "source": [
    "figs = multi_plot_roc(fpr_list, tpr_list, thr_list, \"e/gamma\", \"mu\", \n",
    "                      fig_list=[1], ylims=[[1,3e6]], \n",
    "                      linestyles=linestyle,linecolors=linecolor, plot_labels=titles, show=False)"
   ]
  }
 ],
 "metadata": {
  "kernelspec": {
   "display_name": "Python 3",
   "language": "python",
   "name": "python3"
  },
  "language_info": {
   "codemirror_mode": {
    "name": "ipython",
    "version": 3
   },
   "file_extension": ".py",
   "mimetype": "text/x-python",
   "name": "python",
   "nbconvert_exporter": "python",
   "pygments_lexer": "ipython3",
   "version": "3.8.5"
  }
 },
 "nbformat": 4,
 "nbformat_minor": 4
}
