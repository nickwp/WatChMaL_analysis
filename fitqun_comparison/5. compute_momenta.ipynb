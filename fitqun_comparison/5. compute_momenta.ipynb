{
 "cells": [
  {
   "cell_type": "code",
   "execution_count": 10,
   "metadata": {},
   "outputs": [
    {
     "name": "stdout",
     "output_type": "stream",
     "text": [
      "The autoreload extension is already loaded. To reload it, use:\n",
      "  %reload_ext autoreload\n"
     ]
    }
   ],
   "source": [
    "%load_ext autoreload\n",
    "%matplotlib inline\n",
    "%autoreload 2"
   ]
  },
  {
   "cell_type": "code",
   "execution_count": 11,
   "metadata": {},
   "outputs": [],
   "source": [
    "import sys\n",
    "import os\n",
    "import h5py\n",
    "import numpy as np\n",
    "import matplotlib.pyplot as plt"
   ]
  },
  {
   "cell_type": "code",
   "execution_count": 12,
   "metadata": {},
   "outputs": [],
   "source": [
    "if '..' not in sys.path:\n",
    "    sys.path.append('..')\n",
    "\n",
    "from short_tank_EDA.exploratory_data_analysis_utils import *"
   ]
  },
  {
   "cell_type": "code",
   "execution_count": 13,
   "metadata": {},
   "outputs": [
    {
     "name": "stdout",
     "output_type": "stream",
     "text": [
      "<KeysViewHDF5 ['angles', 'energies', 'event_hits_index', 'event_ids', 'hit_charge', 'hit_pmt', 'hit_time', 'labels', 'positions', 'root_files', 'veto', 'veto2']>\n"
     ]
    }
   ],
   "source": [
    "# Import test events from h5 file\n",
    "data_path = \"/fast_scratch/WatChMaL/data/IWCD_mPMT_Short_emg_E0to1000MeV_digihits.h5\"\n",
    "data_file = h5py.File(data_path, \"r\")\n",
    "\n",
    "print(data_file.keys())\n",
    "\n",
    "hdf5_hit_pmt    = data_file[\"hit_pmt\"]\n",
    "hdf5_hit_time   = data_file[\"hit_time\"]\n",
    "hdf5_hit_charge = data_file[\"hit_charge\"]\n",
    "\n",
    "\n",
    "hit_pmt    = np.memmap(data_path, mode=\"r\", shape=hdf5_hit_pmt.shape,\n",
    "                                    offset=hdf5_hit_pmt.id.get_offset(), dtype=hdf5_hit_pmt.dtype)\n",
    "\n",
    "hit_time   = np.memmap(data_path, mode=\"r\", shape=hdf5_hit_time.shape,\n",
    "                                    offset=hdf5_hit_time.id.get_offset(), dtype=hdf5_hit_time.dtype)\n",
    "\n",
    "hit_charge = np.memmap(data_path, mode=\"r\", shape=hdf5_hit_charge.shape,\n",
    "                                    offset=hdf5_hit_charge.id.get_offset(), dtype=hdf5_hit_charge.dtype)\n",
    "\n",
    "angles     = np.array(data_file['angles'])\n",
    "energies   = np.array(data_file['energies'])\n",
    "positions  = np.array(data_file['positions'])\n",
    "labels     = np.array(data_file['labels'])\n",
    "root_files = np.array(data_file['root_files'])"
   ]
  },
  {
   "cell_type": "code",
   "execution_count": 14,
   "metadata": {},
   "outputs": [],
   "source": [
    "OD_veto_idxs_path = '/fast_scratch/WatChMaL/data/IWCD_mPMT_Short_3M_idxs.npz'\n",
    "OD_veto_idxs = np.load(OD_veto_idxs_path, allow_pickle=True)\n",
    "\n",
    "OD_veto_train_idxs = OD_veto_idxs['train_idxs']\n",
    "OD_veto_val_idxs   = OD_veto_idxs['val_idxs']\n",
    "OD_veto_test_idxs  = OD_veto_idxs['test_idxs']"
   ]
  },
  {
   "cell_type": "code",
   "execution_count": 15,
   "metadata": {},
   "outputs": [
    {
     "name": "stdout",
     "output_type": "stream",
     "text": [
      "Done train info\n",
      "Done val info\n",
      "Done test info\n"
     ]
    }
   ],
   "source": [
    "train_angles    = angles[OD_veto_train_idxs]\n",
    "train_energies  = energies[OD_veto_train_idxs]\n",
    "train_positions = positions[OD_veto_train_idxs]\n",
    "train_labels    = labels[OD_veto_train_idxs]\n",
    "\n",
    "train_info = {'name':'Training Set','energies':train_energies,'positions':train_positions, 'angles':train_angles, 'labels':train_labels}\n",
    "\n",
    "print(\"Done train info\")\n",
    "\n",
    "val_angles     = angles[OD_veto_val_idxs]\n",
    "val_energies   = energies[OD_veto_val_idxs]\n",
    "val_positions  = positions[OD_veto_val_idxs]\n",
    "val_labels     = labels[OD_veto_val_idxs]\n",
    "\n",
    "val_info = {'name':'Validation Set','energies':val_energies,'positions':val_positions, 'angles':val_angles, 'labels':val_labels}\n",
    "\n",
    "print(\"Done val info\")\n",
    "\n",
    "test_angles    = angles[OD_veto_test_idxs]\n",
    "test_energies  = energies[OD_veto_test_idxs]\n",
    "test_positions = positions[OD_veto_test_idxs]\n",
    "test_labels    = labels[OD_veto_test_idxs]\n",
    "test_info = {'name':'Test Set','energies':test_energies,'positions':test_positions, 'angles':test_angles, 'labels':test_labels}\n",
    "\n",
    "print(\"Done test info\")"
   ]
  },
  {
   "cell_type": "code",
   "execution_count": 16,
   "metadata": {},
   "outputs": [],
   "source": [
    "OD_veto_dataset_info = [train_info, val_info, test_info]"
   ]
  },
  {
   "cell_type": "code",
   "execution_count": 17,
   "metadata": {},
   "outputs": [],
   "source": [
    "mass_dict = {0:0, 1:0.511, 2:105.7}"
   ]
  },
  {
   "cell_type": "code",
   "execution_count": 18,
   "metadata": {},
   "outputs": [
    {
     "name": "stderr",
     "output_type": "stream",
     "text": [
      "Calculating Distance to Wall. Progress: 100% [000000000000000000] Time: 0:01:19\n"
     ]
    }
   ],
   "source": [
    "# Compute momenta for all events\n",
    "\n",
    "pbar = ProgressBar(widgets=['Calculating Distance to Wall. Progress: ', Percentage(), ' ', Bar(marker='0',left='[',right=']'),\n",
    "           ' ', ETA()], maxval=reduce(lambda x,y:x+y , list(map(lambda x : x['positions'].shape[0], OD_veto_dataset_info))))\n",
    "\n",
    "pbar.start()\n",
    "done=0\n",
    "for dset in OD_veto_dataset_info:\n",
    "    momenta = []\n",
    "    for i in range(dset['positions'].shape[0]):\n",
    "        pbar.update(done + i)\n",
    "        momenta.append(compute_momenta(dset['energies'][i][0], mass_dict[dset['labels'][i]]))\n",
    "        dset['momenta'] = momenta\n",
    "    done = done + dset['positions'].shape[0]\n",
    "pbar.finish()\n",
    "\n",
    "np.savez('./fq_comparison_data/3M_momenta.npz',      train_momenta= OD_veto_dataset_info[0]['momenta'],\n",
    "                                                     val_momenta  = OD_veto_dataset_info[1]['momenta'],\n",
    "                                                     test_momenta = OD_veto_dataset_info[2]['momenta'])\n"
   ]
  },
  {
   "cell_type": "code",
   "execution_count": 19,
   "metadata": {},
   "outputs": [],
   "source": [
    "momenta_data = np.load('./fq_comparison_data/3M_momenta.npz', allow_pickle=True)\n",
    "\n",
    "test_momenta = momenta_data['test_momenta']"
   ]
  },
  {
   "cell_type": "code",
   "execution_count": 20,
   "metadata": {},
   "outputs": [
    {
     "name": "stdout",
     "output_type": "stream",
     "text": [
      "[[245.00162]\n",
      " [855.76855]\n",
      " [597.02356]\n",
      " [402.78616]\n",
      " [830.34595]\n",
      " [298.88596]\n",
      " [110.14116]\n",
      " [543.9056 ]\n",
      " [632.63806]\n",
      " [286.20142]]\n"
     ]
    }
   ],
   "source": [
    "print(test_energies[0:10])"
   ]
  },
  {
   "cell_type": "code",
   "execution_count": 21,
   "metadata": {},
   "outputs": [
    {
     "name": "stdout",
     "output_type": "stream",
     "text": [
      "[245.00108453 855.76840212 597.02334088 402.78583919 830.34579003\n",
      " 298.88551899 110.13997366 543.90533857 632.63785515 286.20095983]\n"
     ]
    }
   ],
   "source": [
    "print(test_momenta[0:10])"
   ]
  },
  {
   "cell_type": "code",
   "execution_count": 22,
   "metadata": {},
   "outputs": [
    {
     "data": {
      "text/plain": [
       "(array([267517., 347809., 408425., 410220., 410470., 410289., 411370.,\n",
       "        411925., 309436., 137021.]),\n",
       " array([   1.4282632,  117.3111   ,  233.19392  ,  349.07675  ,\n",
       "         464.9596   ,  580.8424   ,  696.7253   ,  812.6081   ,\n",
       "         928.4909   , 1044.3738   , 1160.2566   ], dtype=float32),\n",
       " <BarContainer object of 10 artists>)"
      ]
     },
     "execution_count": 22,
     "metadata": {},
     "output_type": "execute_result"
    },
    {
     "data": {
      "image/png": "[encoded data removed]",
      "text/plain": [
       "<Figure size 432x288 with 1 Axes>"
      ]
     },
     "metadata": {
      "needs_background": "light"
     },
     "output_type": "display_data"
    }
   ],
   "source": [
    "plt.hist(test_energies)"
   ]
  },
  {
   "cell_type": "code",
   "execution_count": 23,
   "metadata": {},
   "outputs": [
    {
     "data": {
      "text/plain": [
       "(array([266164., 372147., 398425., 404338., 405840., 406687., 408721.,\n",
       "        408798., 317535., 135827.]),\n",
       " array([   1.33372213,  116.74353963,  232.15335713,  347.56317462,\n",
       "         462.97299212,  578.38280961,  693.79262711,  809.2024446 ,\n",
       "         924.6122621 , 1040.02207959, 1155.43189709]),\n",
       " <BarContainer object of 10 artists>)"
      ]
     },
     "execution_count": 23,
     "metadata": {},
     "output_type": "execute_result"
    },
    {
     "data": {
      "image/png": "[encoded data removed]",
      "text/plain": [
       "<Figure size 432x288 with 1 Axes>"
      ]
     },
     "metadata": {
      "needs_background": "light"
     },
     "output_type": "display_data"
    }
   ],
   "source": [
    "plt.hist(test_momenta)"
   ]
  }
 ],
 "metadata": {
  "kernelspec": {
   "display_name": "Python 3",
   "language": "python",
   "name": "python3"
  },
  "language_info": {
   "codemirror_mode": {
    "name": "ipython",
    "version": 3
   },
   "file_extension": ".py",
   "mimetype": "text/x-python",
   "name": "python",
   "nbconvert_exporter": "python",
   "pygments_lexer": "ipython3",
   "version": "3.6.10"
  }
 },
 "nbformat": 4,
 "nbformat_minor": 4
}
