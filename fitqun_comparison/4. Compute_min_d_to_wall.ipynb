{
 "cells": [
  {
   "cell_type": "code",
   "execution_count": 1,
   "metadata": {},
   "outputs": [],
   "source": [
    "%load_ext autoreload\n",
    "%matplotlib inline\n",
    "%autoreload 2"
   ]
  },
  {
   "cell_type": "code",
   "execution_count": 2,
   "metadata": {},
   "outputs": [],
   "source": [
    "import sys\n",
    "import numpy as np\n",
    "import h5py"
   ]
  },
  {
   "cell_type": "code",
   "execution_count": 4,
   "metadata": {},
   "outputs": [],
   "source": [
    "if '..' not in sys.path:\n",
    "    sys.path.append('..')\n",
    "\n",
    "from short_tank_EDA.exploratory_data_analysis_utils import compute_to_wall"
   ]
  },
  {
   "cell_type": "code",
   "execution_count": 20,
   "metadata": {},
   "outputs": [
    {
     "name": "stdout",
     "output_type": "stream",
     "text": [
      "<KeysViewHDF5 ['angles', 'energies', 'event_hits_index', 'event_ids', 'hit_charge', 'hit_pmt', 'hit_time', 'labels', 'positions', 'root_files', 'veto', 'veto2']>\n"
     ]
    }
   ],
   "source": [
    "# Import test events from h5 file\n",
    "data_path = \"/fast_scratch/WatChMaL/data/IWCD_mPMT_Short_emg_E0to1000MeV_digihits.h5\"\n",
    "data_file = h5py.File(data_path, \"r\")\n",
    "\n",
    "print(data_file.keys())\n",
    "\n",
    "angles     = np.array(data_file['angles'])\n",
    "positions  = np.array(data_file['positions'])\n",
    "labels     = np.array(data_file['labels'])"
   ]
  },
  {
   "cell_type": "code",
   "execution_count": 6,
   "metadata": {},
   "outputs": [
    {
     "name": "stdout",
     "output_type": "stream",
     "text": [
      "[[-250.65918    235.39148   -137.34627  ]\n",
      " [-117.36474    108.4042    -311.18503  ]\n",
      " [-256.61517   -144.99518   -222.33963  ]\n",
      " [  34.820843   123.63288    175.90103  ]\n",
      " [-171.32411    -96.39079   -126.40972  ]\n",
      " [ 255.27892     80.01573    248.84076  ]\n",
      " [  49.692963    71.77899    -18.53218  ]\n",
      " [-369.84467    -58.846485   -52.17762  ]\n",
      " [ 228.04408    -97.179794    33.814144 ]\n",
      " [  45.030308    68.86647    261.3687   ]\n",
      " [ 273.40582   -171.19643   -198.52452  ]\n",
      " [  31.79741   -199.31592   -132.98798  ]\n",
      " [-298.19037    149.83635    -24.149227 ]\n",
      " [ 140.66954   -128.62025    181.74239  ]\n",
      " [ 137.7324     200.16432    144.43842  ]\n",
      " [ -94.4171       9.8490715 -287.94354  ]\n",
      " [-266.10126     24.278105   198.61484  ]\n",
      " [  16.512394    -0.4736781  -97.30697  ]\n",
      " [ 223.58374     68.00151    197.48401  ]\n",
      " [-297.65515   -163.9912     124.20697  ]]\n"
     ]
    }
   ],
   "source": [
    "print(positions[0:20, 0])"
   ]
  },
  {
   "cell_type": "code",
   "execution_count": 7,
   "metadata": {},
   "outputs": [
    {
     "name": "stdout",
     "output_type": "stream",
     "text": [
      "399.9938\n"
     ]
    }
   ],
   "source": [
    "print(np.max(positions[:, 0, 0]))"
   ]
  },
  {
   "cell_type": "code",
   "execution_count": 8,
   "metadata": {},
   "outputs": [
    {
     "name": "stdout",
     "output_type": "stream",
     "text": [
      "299.99988\n"
     ]
    }
   ],
   "source": [
    "print(np.max(positions[:, 0, 1]))"
   ]
  },
  {
   "cell_type": "code",
   "execution_count": 9,
   "metadata": {},
   "outputs": [
    {
     "name": "stdout",
     "output_type": "stream",
     "text": [
      "399.99265\n"
     ]
    }
   ],
   "source": [
    "print(np.max(positions[:, 0, 2]))"
   ]
  },
  {
   "cell_type": "code",
   "execution_count": 40,
   "metadata": {},
   "outputs": [],
   "source": [
    "d_to_wall = np.load('../performance_analysis/short_tank_performance_analysis/performance_analysis_data/OD_veto_dist_to_wall.npz', allow_pickle=True)\n",
    "\n",
    "original_d_to_wall = d_to_wall['test_d_to_wall']"
   ]
  },
  {
   "cell_type": "code",
   "execution_count": 41,
   "metadata": {},
   "outputs": [],
   "source": [
    "idxs_path = '../short_tank_EDA/new_reflector_short_tank_exploratory_data_analysis/short_dataset_data/IWCD_mPMT_Short_3M_OD_veto_idxs.npz'\n",
    "idxs = np.load(idxs_path, allow_pickle=True)\n",
    "\n",
    "train_idxs = idxs['train_idxs']\n",
    "val_idxs   = idxs['val_idxs']\n",
    "test_idxs  = idxs['test_idxs']\n",
    "\n",
    "test_positions = positions[test_idxs]\n",
    "test_angles = angles[test_idxs]"
   ]
  },
  {
   "cell_type": "code",
   "execution_count": 42,
   "metadata": {},
   "outputs": [
    {
     "ename": "AssertionError",
     "evalue": "",
     "output_type": "error",
     "traceback": [
      "\u001b[0;31m------------------------------------------------------------------------\u001b[0m",
      "\u001b[0;31mAssertionError\u001b[0m                         Traceback (most recent call last)",
      "\u001b[0;32m<ipython-input-42-0cf188326134>\u001b[0m in \u001b[0;36m<module>\u001b[0;34m\u001b[0m\n\u001b[1;32m      1\u001b[0m \u001b[0;32mfor\u001b[0m \u001b[0midx\u001b[0m \u001b[0;32min\u001b[0m \u001b[0mrange\u001b[0m\u001b[0;34m(\u001b[0m\u001b[0;36m10\u001b[0m\u001b[0;34m)\u001b[0m\u001b[0;34m:\u001b[0m\u001b[0;34m\u001b[0m\u001b[0;34m\u001b[0m\u001b[0m\n\u001b[0;32m----> 2\u001b[0;31m     \u001b[0;32massert\u001b[0m\u001b[0;34m(\u001b[0m\u001b[0mcompute_to_wall\u001b[0m\u001b[0;34m(\u001b[0m\u001b[0mtest_positions\u001b[0m\u001b[0;34m[\u001b[0m\u001b[0midx\u001b[0m\u001b[0;34m]\u001b[0m\u001b[0;34m[\u001b[0m\u001b[0;36m0\u001b[0m\u001b[0;34m]\u001b[0m\u001b[0;34m,\u001b[0m \u001b[0mtest_angles\u001b[0m\u001b[0;34m[\u001b[0m\u001b[0midx\u001b[0m\u001b[0;34m]\u001b[0m\u001b[0;34m)\u001b[0m \u001b[0;34m==\u001b[0m \u001b[0moriginal_d_to_wall\u001b[0m\u001b[0;34m[\u001b[0m\u001b[0midx\u001b[0m\u001b[0;34m]\u001b[0m\u001b[0;34m)\u001b[0m\u001b[0;34m\u001b[0m\u001b[0;34m\u001b[0m\u001b[0m\n\u001b[0m",
      "\u001b[0;31mAssertionError\u001b[0m: "
     ]
    }
   ],
   "source": [
    "for idx in range(10):\n",
    "    assert(compute_to_wall(test_positions[idx][0], test_angles[idx]) == original_d_to_wall[idx])"
   ]
  },
  {
   "cell_type": "code",
   "execution_count": 43,
   "metadata": {},
   "outputs": [
    {
     "name": "stdout",
     "output_type": "stream",
     "text": [
      "190.7615600959222  |  190.76156252174198\n",
      "337.38578521937904  |  337.38582694682884\n",
      "138.0404672244275  |  138.04045060426412\n",
      "251.79517270346037  |  251.79517362493104\n",
      "267.159357727752  |  267.1593391355307\n",
      "336.76924716779223  |  336.76925121907277\n",
      "129.87223054343355  |  129.8722185558083\n",
      "663.758104823615  |  663.7580918737877\n",
      "185.77435472489896  |  185.77433154727157\n",
      "126.49245145681658  |  126.49245658007487\n"
     ]
    }
   ],
   "source": [
    "for idx in range(10):\n",
    "    print(compute_to_wall(test_positions[idx][0], test_angles[idx]), \" | \", original_d_to_wall[idx])\n"
   ]
  }
 ],
 "metadata": {
  "kernelspec": {
   "display_name": "Python 3",
   "language": "python",
   "name": "python3"
  }
 },
 "nbformat": 4,
 "nbformat_minor": 4
}
