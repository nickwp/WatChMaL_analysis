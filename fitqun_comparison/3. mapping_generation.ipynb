{
 "cells": [
  {
   "cell_type": "code",
   "execution_count": 1,
   "metadata": {},
   "outputs": [],
   "source": [
    "%load_ext autoreload\n",
    "%matplotlib inline\n",
    "%autoreload 2"
   ]
  },
  {
   "cell_type": "code",
   "execution_count": 2,
   "metadata": {},
   "outputs": [],
   "source": [
    "import sys\n",
    "import numpy as np"
   ]
  },
  {
   "cell_type": "code",
   "execution_count": 3,
   "metadata": {},
   "outputs": [],
   "source": [
    "if '../WatChMaL' not in sys.path:\n",
    "    sys.path.append('../WatChMaL')\n",
    "\n",
    "from watchmal.dataset.DigiTruthMapping import DigiTruthMapping\n",
    "from watchmal.dataset.h5_dataset import H5TrueDataset\n",
    "from watchmal.dataset.cnn_mpmt.cnn_mpmt_dataset import CNNmPMTDataset"
   ]
  },
  {
   "cell_type": "code",
   "execution_count": 4,
   "metadata": {},
   "outputs": [],
   "source": [
    "digihits_filepath = '/fast_scratch/WatChMaL/data/IWCD_mPMT_Short_pi0_E0to1000MeV_digihits.h5'\n",
    "truehits_filepath = '/fast_scratch/WatChMaL/data/IWCD_mPMT_Short_pi0_E0to1000MeV_truehits.h5'"
   ]
  },
  {
   "cell_type": "code",
   "execution_count": 5,
   "metadata": {},
   "outputs": [],
   "source": [
    "digihits_dataset = CNNmPMTDataset(h5file=digihits_filepath, mpmt_positions_file='/data/WatChMaL/data/IWCDshort_mPMT_image_positions.npz', is_distributed=False)"
   ]
  },
  {
   "cell_type": "code",
   "execution_count": 6,
   "metadata": {},
   "outputs": [
    {
     "ename": "AttributeError",
     "evalue": "'CNNmPMTDataset' object has no attribute 'keys'",
     "output_type": "error",
     "traceback": [
      "\u001b[0;31m------------------------------------------------------------------------\u001b[0m",
      "\u001b[0;31mAttributeError\u001b[0m                         Traceback (most recent call last)",
      "\u001b[0;32m<ipython-input-6-92cbde2541a5>\u001b[0m in \u001b[0;36m<module>\u001b[0;34m\u001b[0m\n\u001b[0;32m----> 1\u001b[0;31m \u001b[0mprint\u001b[0m\u001b[0;34m(\u001b[0m\u001b[0mdigihits_dataset\u001b[0m\u001b[0;34m.\u001b[0m\u001b[0mkeys\u001b[0m\u001b[0;34m(\u001b[0m\u001b[0;34m)\u001b[0m\u001b[0;34m)\u001b[0m\u001b[0;34m\u001b[0m\u001b[0;34m\u001b[0m\u001b[0m\n\u001b[0m",
      "\u001b[0;31mAttributeError\u001b[0m: 'CNNmPMTDataset' object has no attribute 'keys'"
     ]
    }
   ],
   "source": [
    "print(digihits_dataset.keys())"
   ]
  },
  {
   "cell_type": "code",
   "execution_count": 12,
   "metadata": {},
   "outputs": [],
   "source": [
    "truehits_dataset = H5TrueDataset(h5_path=truehits_filepath)"
   ]
  },
  {
   "cell_type": "code",
   "execution_count": 17,
   "metadata": {},
   "outputs": [
    {
     "name": "stdout",
     "output_type": "stream",
     "text": [
      "DigiTruthMapping: building map 100000 / 2868354\n",
      "  time elapsed   = 00 days 00 h 00 m 31 s\n",
      "  remaining time = 00 days 00 h 14 m 42 s\n",
      "DigiTruthMapping: building map 200000 / 2868354\n",
      "  time elapsed   = 00 days 00 h 01 m 26 s\n",
      "  remaining time = 00 days 00 h 19 m 17 s\n",
      "DigiTruthMapping: building map 300000 / 2868354\n",
      "  time elapsed   = 00 days 00 h 02 m 13 s\n",
      "  remaining time = 00 days 00 h 19 m 02 s\n",
      "DigiTruthMapping: building map 400000 / 2868354\n",
      "  time elapsed   = 00 days 00 h 03 m 11 s\n",
      "  remaining time = 00 days 00 h 19 m 39 s\n",
      "DigiTruthMapping: building map 500000 / 2868354\n",
      "  time elapsed   = 00 days 00 h 04 m 00 s\n",
      "  remaining time = 00 days 00 h 18 m 59 s\n",
      "DigiTruthMapping: building map 600000 / 2868354\n",
      "  time elapsed   = 00 days 00 h 04 m 47 s\n",
      "  remaining time = 00 days 00 h 18 m 05 s\n",
      "DigiTruthMapping: building map 700000 / 2868354\n",
      "  time elapsed   = 00 days 00 h 05 m 39 s\n",
      "  remaining time = 00 days 00 h 17 m 33 s\n",
      "DigiTruthMapping: building map 800000 / 2868354\n",
      "  time elapsed   = 00 days 00 h 06 m 31 s\n",
      "  remaining time = 00 days 00 h 16 m 51 s\n",
      "DigiTruthMapping: building map 900000 / 2868354\n",
      "  time elapsed   = 00 days 00 h 07 m 26 s\n",
      "  remaining time = 00 days 00 h 16 m 17 s\n",
      "DigiTruthMapping: building map 1000000 / 2868354\n",
      "  time elapsed   = 00 days 00 h 08 m 17 s\n",
      "  remaining time = 00 days 00 h 15 m 29 s\n",
      "DigiTruthMapping: building map 1100000 / 2868354\n",
      "  time elapsed   = 00 days 00 h 09 m 08 s\n",
      "  remaining time = 00 days 00 h 14 m 41 s\n",
      "DigiTruthMapping: building map 1200000 / 2868354\n",
      "  time elapsed   = 00 days 00 h 09 m 57 s\n",
      "  remaining time = 00 days 00 h 13 m 50 s\n",
      "DigiTruthMapping: building map 1300000 / 2868354\n",
      "  time elapsed   = 00 days 00 h 10 m 53 s\n",
      "  remaining time = 00 days 00 h 13 m 08 s\n",
      "DigiTruthMapping: building map 1400000 / 2868354\n",
      "  time elapsed   = 00 days 00 h 11 m 43 s\n",
      "  remaining time = 00 days 00 h 12 m 17 s\n",
      "DigiTruthMapping: building map 1500000 / 2868354\n",
      "  time elapsed   = 00 days 00 h 12 m 37 s\n",
      "  remaining time = 00 days 00 h 11 m 30 s\n",
      "DigiTruthMapping: building map 1600000 / 2868354\n",
      "  time elapsed   = 00 days 00 h 13 m 21 s\n",
      "  remaining time = 00 days 00 h 10 m 35 s\n",
      "DigiTruthMapping: building map 1700000 / 2868354\n",
      "  time elapsed   = 00 days 00 h 14 m 22 s\n",
      "  remaining time = 00 days 00 h 09 m 52 s\n",
      "DigiTruthMapping: building map 1800000 / 2868354\n",
      "  time elapsed   = 00 days 00 h 15 m 08 s\n",
      "  remaining time = 00 days 00 h 08 m 59 s\n",
      "DigiTruthMapping: building map 1900000 / 2868354\n",
      "  time elapsed   = 00 days 00 h 16 m 09 s\n",
      "  remaining time = 00 days 00 h 08 m 14 s\n",
      "DigiTruthMapping: building map 2000000 / 2868354\n",
      "  time elapsed   = 00 days 00 h 16 m 47 s\n",
      "  remaining time = 00 days 00 h 07 m 17 s\n",
      "DigiTruthMapping: building map 2100000 / 2868354\n",
      "  time elapsed   = 00 days 00 h 17 m 45 s\n",
      "  remaining time = 00 days 00 h 06 m 29 s\n",
      "DigiTruthMapping: building map 2200000 / 2868354\n",
      "  time elapsed   = 00 days 00 h 18 m 33 s\n",
      "  remaining time = 00 days 00 h 05 m 38 s\n",
      "DigiTruthMapping: building map 2300000 / 2868354\n",
      "  time elapsed   = 00 days 00 h 19 m 30 s\n",
      "  remaining time = 00 days 00 h 04 m 49 s\n",
      "DigiTruthMapping: building map 2400000 / 2868354\n",
      "  time elapsed   = 00 days 00 h 20 m 20 s\n",
      "  remaining time = 00 days 00 h 03 m 58 s\n",
      "DigiTruthMapping: building map 2500000 / 2868354\n",
      "  time elapsed   = 00 days 00 h 21 m 00 s\n",
      "  remaining time = 00 days 00 h 03 m 05 s\n",
      "DigiTruthMapping: building map 2600000 / 2868354\n",
      "  time elapsed   = 00 days 00 h 21 m 37 s\n",
      "  remaining time = 00 days 00 h 02 m 13 s\n",
      "DigiTruthMapping: building map 2700000 / 2868354\n",
      "  time elapsed   = 00 days 00 h 22 m 13 s\n",
      "  remaining time = 00 days 00 h 01 m 23 s\n",
      "DigiTruthMapping: building map 2800000 / 2868354\n",
      "  time elapsed   = 00 days 00 h 22 m 51 s\n",
      "  remaining time = 00 days 00 h 00 m 33 s\n"
     ]
    }
   ],
   "source": [
    "dtm = DigiTruthMapping(dataset=digihits_dataset, mcset=truehits_dataset, base_path='./fitqun_comparison/')"
   ]
  },
  {
   "cell_type": "code",
   "execution_count": 21,
   "metadata": {},
   "outputs": [],
   "source": [
    "dtm.save_object(file_name='truth_for_data.pkl',\n",
    "                obj=dtm.truth_for_data)\n",
    "\n",
    "dtm.save_object(file_name='data_for_truth.pkl',\n",
    "                obj=dtm.data_for_truth)"
   ]
  },
  {
   "cell_type": "code",
   "execution_count": 27,
   "metadata": {},
   "outputs": [
    {
     "name": "stdout",
     "output_type": "stream",
     "text": [
      "9572\n"
     ]
    }
   ],
   "source": [
    "print(dtm.get_data_entry(10000))"
   ]
  },
  {
   "cell_type": "code",
   "execution_count": null,
   "metadata": {},
   "outputs": [],
   "source": []
  }
 ],
 "metadata": {
  "kernelspec": {
   "display_name": "Python 3",
   "language": "python",
   "name": "python3"
  },
  "language_info": {
   "codemirror_mode": {
    "name": "ipython",
    "version": 3
   },
   "file_extension": ".py",
   "mimetype": "text/x-python",
   "name": "python",
   "nbconvert_exporter": "python",
   "pygments_lexer": "ipython3",
   "version": "3.6.10"
  }
 },
 "nbformat": 4,
 "nbformat_minor": 4
}
