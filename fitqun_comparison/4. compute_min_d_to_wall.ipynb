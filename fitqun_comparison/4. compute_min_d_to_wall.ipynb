{
 "cells": [
  {
   "cell_type": "code",
   "execution_count": 18,
   "metadata": {},
   "outputs": [
    {
     "name": "stdout",
     "output_type": "stream",
     "text": [
      "The autoreload extension is already loaded. To reload it, use:\n",
      "  %reload_ext autoreload\n"
     ]
    }
   ],
   "source": [
    "%load_ext autoreload\n",
    "%matplotlib inline\n",
    "%autoreload 2"
   ]
  },
  {
   "cell_type": "code",
   "execution_count": 19,
   "metadata": {},
   "outputs": [],
   "source": [
    "import sys\n",
    "import os\n",
    "import h5py\n",
    "import numpy as np\n",
    "import matplotlib.pyplot as plt"
   ]
  },
  {
   "cell_type": "code",
   "execution_count": 20,
   "metadata": {},
   "outputs": [],
   "source": [
    "if '..' not in sys.path:\n",
    "    sys.path.append('..')\n",
    "\n",
    "from short_tank_EDA.exploratory_data_analysis_utils import *"
   ]
  },
  {
   "cell_type": "code",
   "execution_count": 21,
   "metadata": {},
   "outputs": [
    {
     "name": "stdout",
     "output_type": "stream",
     "text": [
      "<KeysViewHDF5 ['angles', 'energies', 'event_hits_index', 'event_ids', 'hit_charge', 'hit_pmt', 'hit_time', 'labels', 'positions', 'root_files', 'veto', 'veto2']>\n"
     ]
    }
   ],
   "source": [
    "# Import test events from h5 file\n",
    "data_path = \"/fast_scratch/WatChMaL/data/IWCD_mPMT_Short_emg_E0to1000MeV_digihits.h5\"\n",
    "data_file = h5py.File(data_path, \"r\")\n",
    "\n",
    "print(data_file.keys())\n",
    "\n",
    "hdf5_hit_pmt    = data_file[\"hit_pmt\"]\n",
    "hdf5_hit_time   = data_file[\"hit_time\"]\n",
    "hdf5_hit_charge = data_file[\"hit_charge\"]\n",
    "\n",
    "\n",
    "hit_pmt    = np.memmap(data_path, mode=\"r\", shape=hdf5_hit_pmt.shape,\n",
    "                                    offset=hdf5_hit_pmt.id.get_offset(), dtype=hdf5_hit_pmt.dtype)\n",
    "\n",
    "hit_time   = np.memmap(data_path, mode=\"r\", shape=hdf5_hit_time.shape,\n",
    "                                    offset=hdf5_hit_time.id.get_offset(), dtype=hdf5_hit_time.dtype)\n",
    "\n",
    "hit_charge = np.memmap(data_path, mode=\"r\", shape=hdf5_hit_charge.shape,\n",
    "                                    offset=hdf5_hit_charge.id.get_offset(), dtype=hdf5_hit_charge.dtype)\n",
    "\n",
    "angles     = np.array(data_file['angles'])\n",
    "energies   = np.array(data_file['energies'])\n",
    "positions  = np.array(data_file['positions'])\n",
    "labels     = np.array(data_file['labels'])\n",
    "root_files = np.array(data_file['root_files'])"
   ]
  },
  {
   "cell_type": "code",
   "execution_count": 22,
   "metadata": {},
   "outputs": [],
   "source": [
    "OD_veto_idxs_path = '/fast_scratch/WatChMaL/data/IWCD_mPMT_Short_3M_idxs.npz'\n",
    "OD_veto_idxs = np.load(OD_veto_idxs_path, allow_pickle=True)\n",
    "\n",
    "OD_veto_train_idxs = OD_veto_idxs['train_idxs']\n",
    "OD_veto_val_idxs   = OD_veto_idxs['val_idxs']\n",
    "OD_veto_test_idxs  = OD_veto_idxs['test_idxs']"
   ]
  },
  {
   "cell_type": "code",
   "execution_count": 23,
   "metadata": {},
   "outputs": [
    {
     "name": "stdout",
     "output_type": "stream",
     "text": [
      "Done train info\n",
      "Done val info\n",
      "Done test info\n"
     ]
    }
   ],
   "source": [
    "train_angles    = angles[OD_veto_train_idxs]\n",
    "train_energies  = energies[OD_veto_train_idxs]\n",
    "train_positions = positions[OD_veto_train_idxs]\n",
    "train_labels    = labels[OD_veto_train_idxs]\n",
    "\n",
    "train_info = {'name':'Training Set','energies':train_energies,'positions':train_positions, 'angles':train_angles, 'labels':train_labels}\n",
    "\n",
    "print(\"Done train info\")\n",
    "\n",
    "val_angles     = angles[OD_veto_val_idxs]\n",
    "val_energies   = energies[OD_veto_val_idxs]\n",
    "val_positions  = positions[OD_veto_val_idxs]\n",
    "val_labels     = labels[OD_veto_val_idxs]\n",
    "\n",
    "val_info = {'name':'Validation Set','energies':val_energies,'positions':val_positions, 'angles':val_angles, 'labels':val_labels}\n",
    "\n",
    "print(\"Done val info\")\n",
    "\n",
    "test_angles    = angles[OD_veto_test_idxs]\n",
    "test_energies  = energies[OD_veto_test_idxs]\n",
    "test_positions = positions[OD_veto_test_idxs]\n",
    "test_labels    = labels[OD_veto_test_idxs]\n",
    "test_info = {'name':'Test Set','energies':test_energies,'positions':test_positions, 'angles':test_angles, 'labels':test_labels}\n",
    "\n",
    "print(\"Done test info\")"
   ]
  },
  {
   "cell_type": "code",
   "execution_count": 24,
   "metadata": {},
   "outputs": [],
   "source": [
    "OD_veto_dataset_info = [train_info, val_info, test_info]"
   ]
  },
  {
   "cell_type": "code",
   "execution_count": 25,
   "metadata": {},
   "outputs": [
    {
     "name": "stderr",
     "output_type": "stream",
     "text": [
      "Calculating Distance to Wall. Progress: 100% [000000000000000000] Time: 0:02:03\n"
     ]
    }
   ],
   "source": [
    "# Compute d_wall for all events\n",
    "\n",
    "pbar = ProgressBar(widgets=['Calculating Distance to Wall. Progress: ', Percentage(), ' ', Bar(marker='0',left='[',right=']'),\n",
    "           ' ', ETA()], maxval=reduce(lambda x,y:x+y , list(map(lambda x : x['positions'].shape[0], OD_veto_dataset_info))))\n",
    "\n",
    "pbar.start()\n",
    "done=0\n",
    "for dset in OD_veto_dataset_info:\n",
    "    d_wall = []\n",
    "    for i in range(dset['positions'].shape[0]):\n",
    "        pbar.update(done + i)\n",
    "        d_wall.append(compute_d_wall(dset['positions'][i][0]))\n",
    "        dset['d_wall'] = d_wall\n",
    "    done = done + dset['positions'].shape[0]\n",
    "pbar.finish()\n",
    "\n",
    "np.savez('./fq_comparison_data/3M_d_wall.npz',   train_d_wall= OD_veto_dataset_info[0]['d_wall'],\n",
    "                                                 val_d_wall  = OD_veto_dataset_info[1]['d_wall'],\n",
    "                                                 test_d_wall = OD_veto_dataset_info[2]['d_wall'])"
   ]
  },
  {
   "cell_type": "code",
   "execution_count": 26,
   "metadata": {},
   "outputs": [
    {
     "name": "stdout",
     "output_type": "stream",
     "text": [
      "[ 64.60852051  67.41827541  60.46169831 176.36711884 187.08835403\n",
      "  43.50449073 228.2210083   26.492864   169.46258444 134.78059469]\n"
     ]
    }
   ],
   "source": [
    "sample_d_wall = np.load('./fq_comparison_data/3M_d_wall.npz', allow_pickle=True)['test_d_wall']\n",
    "print(sample_d_wall[0:10])"
   ]
  },
  {
   "cell_type": "code",
   "execution_count": 16,
   "metadata": {},
   "outputs": [
    {
     "name": "stdout",
     "output_type": "stream",
     "text": [
      "[ 64.60852051  67.41827541  60.46169831 176.36711884 187.08835403\n",
      "  43.50449073 228.2210083   26.492864   169.46258444 134.78059469]\n"
     ]
    }
   ],
   "source": [
    "sample_d_wall = np.load('./fq_comparison_data/3M_d_wall.npz', allow_pickle=True)['test_d_wall']\n",
    "print(sample_d_wall[0:10])"
   ]
  },
  {
   "cell_type": "code",
   "execution_count": 27,
   "metadata": {},
   "outputs": [
    {
     "name": "stderr",
     "output_type": "stream",
     "text": [
      "Calculating Distance to Wall. Progress: 100% [000000000000000000] Time: 0:04:08\n"
     ]
    }
   ],
   "source": [
    "\n",
    "# Compute d_to_wall for all events\n",
    "\n",
    "pbar = ProgressBar(widgets=['Calculating Distance to Wall. Progress: ', Percentage(), ' ', Bar(marker='0',left='[',right=']'),\n",
    "           ' ', ETA()], maxval=reduce(lambda x,y:x+y , list(map(lambda x : x['positions'].shape[0], OD_veto_dataset_info))))\n",
    "\n",
    "pbar.start()\n",
    "done=0\n",
    "for dset in OD_veto_dataset_info:\n",
    "    d_to_wall = []\n",
    "    for i in range(dset['positions'].shape[0]):\n",
    "        pbar.update(done + i)\n",
    "        d_to_wall.append(compute_to_wall(dset['positions'][i][0], dset['angles'][i]))\n",
    "        dset['d_to_wall'] = d_to_wall\n",
    "    done = done + dset['positions'].shape[0]\n",
    "pbar.finish()\n",
    "\n",
    "np.savez('./fq_comparison_data/3M_d_to_wall.npz',   train_d_to_wall= OD_veto_dataset_info[0]['d_to_wall'],\n",
    "                                                    val_d_to_wall  = OD_veto_dataset_info[1]['d_to_wall'],\n",
    "                                                    test_d_to_wall = OD_veto_dataset_info[2]['d_to_wall'])\n"
   ]
  },
  {
   "cell_type": "code",
   "execution_count": 28,
   "metadata": {},
   "outputs": [
    {
     "name": "stdout",
     "output_type": "stream",
     "text": [
      "[190.7615601  337.38578522 138.04046722 251.7951727  267.15935773\n",
      "  60.52250927 336.76924717 129.87223054 663.75810482 185.77435472]\n"
     ]
    }
   ],
   "source": [
    "sample_d_to_wall = np.load('./fq_comparison_data/3M_d_to_wall.npz', allow_pickle=True)['test_d_to_wall']\n",
    "print(sample_d_to_wall[0:10])"
   ]
  },
  {
   "cell_type": "code",
   "execution_count": 17,
   "metadata": {},
   "outputs": [
    {
     "name": "stdout",
     "output_type": "stream",
     "text": [
      "[190.7615601  337.38578522 138.04046722 251.7951727  267.15935773\n",
      "  60.52250927 336.76924717 129.87223054 663.75810482 185.77435472]\n"
     ]
    }
   ],
   "source": [
    "sample_d_to_wall = np.load('./fq_comparison_data/3M_d_to_wall.npz', allow_pickle=True)['test_d_to_wall']\n",
    "print(sample_d_to_wall[0:10])"
   ]
  },
  {
   "cell_type": "code",
   "execution_count": 9,
   "metadata": {},
   "outputs": [],
   "source": [
    "d_wall = np.load('./fq_comparison_data/OD_veto_d_wall.npz', allow_pickle=True)\n",
    "\n",
    "OD_veto_dataset_info[0]['d_wall'] = d_wall['train_d_wall']\n",
    "OD_veto_dataset_info[1]['d_wall'] = d_wall['val_d_wall']\n",
    "OD_veto_dataset_info[2]['d_wall'] = d_wall['test_d_wall']"
   ]
  },
  {
   "cell_type": "code",
   "execution_count": 10,
   "metadata": {},
   "outputs": [
    {
     "name": "stdout",
     "output_type": "stream",
     "text": [
      "64.6085205078125\n"
     ]
    }
   ],
   "source": [
    "print(d_wall['test_d_wall'][0])"
   ]
  }
 ],
 "metadata": {
  "kernelspec": {
   "display_name": "Python 3",
   "language": "python",
   "name": "python3"
  },
  "language_info": {
   "codemirror_mode": {
    "name": "ipython",
    "version": 3
   },
   "file_extension": ".py",
   "mimetype": "text/x-python",
   "name": "python",
   "nbconvert_exporter": "python",
   "pygments_lexer": "ipython3",
   "version": "3.8.5"
  }
 },
 "nbformat": 4,
 "nbformat_minor": 4
}
