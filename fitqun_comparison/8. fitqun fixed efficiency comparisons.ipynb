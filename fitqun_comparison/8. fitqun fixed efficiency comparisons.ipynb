{
 "cells": [
  {
   "cell_type": "code",
   "execution_count": 1,
   "metadata": {},
   "outputs": [],
   "source": [
    "%load_ext autoreload\n",
    "%matplotlib inline\n",
    "%autoreload 2"
   ]
  },
  {
   "cell_type": "code",
   "execution_count": 2,
   "metadata": {},
   "outputs": [],
   "source": [
    "import uproot\n",
    "import numpy as np\n",
    "import matplotlib.pyplot as plt\n",
    "import os\n",
    "import sys\n",
    "import pickle\n",
    "import h5py"
   ]
  },
  {
   "cell_type": "code",
   "execution_count": 3,
   "metadata": {},
   "outputs": [],
   "source": [
    "sys.path.append(\"..\")\n",
    "\n",
    "from WatChMaL.analysis.multi_plot_utils import multi_disp_learn_hist, multi_compute_roc, multi_plot_roc\n",
    "from WatChMaL.analysis.comparison_utils import multi_get_masked_data, multi_collapse_test_output\n",
    "from WatChMaL.analysis.fitqun_comparison_utils import load_mu_fq_output\n",
    "from WatChMaL.analysis.performance_analysis_plot_utils import plot_fitqun_binned_performance"
   ]
  },
  {
   "cell_type": "code",
   "execution_count": 4,
   "metadata": {},
   "outputs": [],
   "source": [
    "############# define plotting params #############\n",
    "c = plt.rcParams['axes.prop_cycle'].by_key()['color']\n",
    "label_dict = {\"$\\gamma$\":0, \"$e$\":1, \"$\\mu$\":2}\n",
    "inverse_label_dict = {0:\"$\\gamma$\", 1:\"$e$\", 2:\"$\\mu$\"}\n",
    "muon_softmax_index_dict = {\"e/gamma\":0, \"mu\":1}"
   ]
  },
  {
   "cell_type": "markdown",
   "metadata": {},
   "source": [
    "## Load fitqun results"
   ]
  },
  {
   "cell_type": "code",
   "execution_count": 5,
   "metadata": {},
   "outputs": [],
   "source": [
    "# Retrieve flags\n",
    "gamma_file_path = '/fast_scratch/WatChMaL/data/IWCD_mPMT_Short_gamma_E0to1000MeV_unif-pos-R400-y300cm_4pi-dir.fiTQun.root'\n",
    "e_file_path     = '/fast_scratch/WatChMaL/data/IWCD_mPMT_Short_e-_E0to1000MeV_unif-pos-R400-y300cm_4pi-dir.fiTQun.root'\n",
    "mu_file_path    = '/fast_scratch/WatChMaL/data/IWCD_mPMT_Short_mu-_E0to1000MeV_unif-pos-R400-y300cm_4pi-dir.fiTQun.root'"
   ]
  },
  {
   "cell_type": "code",
   "execution_count": 6,
   "metadata": {},
   "outputs": [],
   "source": [
    "fq_mapping_path = '/home/jtindall/WatChMaL_analysis/fitqun_comparison/fq_comparison_data/3M_fitqun_mapping.pickle'"
   ]
  },
  {
   "cell_type": "code",
   "execution_count": 9,
   "metadata": {},
   "outputs": [],
   "source": [
    "fq_scores, fq_labels, fq_mom, fq_masses = load_mu_fq_output(fq_mapping_path, gamma_file_path, e_file_path, mu_file_path, pion_file_path='w')"
   ]
  },
  {
   "cell_type": "code",
   "execution_count": 10,
   "metadata": {},
   "outputs": [
    {
     "name": "stdout",
     "output_type": "stream",
     "text": [
      "[206.95685 842.6756  233.17891 ... 361.7926  144.14459 717.5251 ]\n"
     ]
    }
   ],
   "source": [
    "print(fq_mom)"
   ]
  },
  {
   "cell_type": "code",
   "execution_count": 11,
   "metadata": {},
   "outputs": [
    {
     "name": "stdout",
     "output_type": "stream",
     "text": [
      "16835.312\n"
     ]
    }
   ],
   "source": [
    "print(np.max(fq_mom))"
   ]
  },
  {
   "cell_type": "markdown",
   "metadata": {},
   "source": [
    "## Load resnet results"
   ]
  },
  {
   "cell_type": "code",
   "execution_count": 12,
   "metadata": {},
   "outputs": [],
   "source": [
    "############# define run locations #############\n",
    "short_locs = ['/home/jtindall/WatChMaL/outputs/2021-03-16/20-21-15/outputs']\n",
    "\n",
    "short_titles = ['Short Tank', 'Fitqun']\n",
    "\n",
    "full_locs = []\n",
    "\n",
    "full_titles = []\n",
    "\n",
    "short_linecolor = [c[0] for _ in range(2)]\n",
    "short_linestyle = ['--' for _ in range(2)]\n",
    "\n",
    "full_linecolor = [c[1] for _ in full_locs]\n",
    "full_linestyle = [':' for _ in full_locs]\n"
   ]
  },
  {
   "cell_type": "code",
   "execution_count": 13,
   "metadata": {},
   "outputs": [],
   "source": [
    "############# load short tank run data #############\n",
    "short_raw_output_softmax    = [np.load(loc + \"/softmax.npy\") for loc in short_locs]\n",
    "short_raw_actual_labels     = [np.load(loc + \"/labels.npy\") for loc in short_locs]"
   ]
  },
  {
   "cell_type": "code",
   "execution_count": 14,
   "metadata": {},
   "outputs": [],
   "source": [
    "locs      = short_locs + full_locs\n",
    "titles    = short_titles + full_titles\n",
    "linecolor = short_linecolor + full_linecolor\n",
    "linestyle = short_linestyle + full_linestyle"
   ]
  },
  {
   "cell_type": "markdown",
   "metadata": {},
   "source": [
    "## Add fitqun results"
   ]
  },
  {
   "cell_type": "code",
   "execution_count": 15,
   "metadata": {},
   "outputs": [],
   "source": [
    "short_raw_output_softmax = short_raw_output_softmax + [fq_scores]\n",
    "short_raw_actual_labels  = short_raw_actual_labels + [fq_labels]"
   ]
  },
  {
   "cell_type": "markdown",
   "metadata": {},
   "source": [
    "## Filter results"
   ]
  },
  {
   "cell_type": "code",
   "execution_count": 16,
   "metadata": {},
   "outputs": [],
   "source": [
    "def remove_indices(array, cut_idxs):\n",
    "    return np.delete(array, cut_idxs, 0)\n",
    "\n",
    "with open('./fq_comparison_data/3M_fitqun_cuts.pickle', 'rb') as handle:\n",
    "    cuts = pickle.load(handle)\n",
    "\n",
    "cut_to_apply = cuts['fq_comparison']"
   ]
  },
  {
   "cell_type": "code",
   "execution_count": 17,
   "metadata": {},
   "outputs": [],
   "source": [
    "short_softmax = [remove_indices(softmax, cut_to_apply) for softmax in short_raw_output_softmax]\n",
    "short_labels  = [remove_indices(labels, cut_to_apply) for labels in short_raw_actual_labels]"
   ]
  },
  {
   "cell_type": "markdown",
   "metadata": {},
   "source": [
    "## Load h5 Data"
   ]
  },
  {
   "cell_type": "code",
   "execution_count": 18,
   "metadata": {},
   "outputs": [
    {
     "name": "stdout",
     "output_type": "stream",
     "text": [
      "<KeysViewHDF5 ['angles', 'energies', 'event_hits_index', 'event_ids', 'hit_charge', 'hit_pmt', 'hit_time', 'labels', 'positions', 'root_files', 'veto', 'veto2']>\n"
     ]
    }
   ],
   "source": [
    "# Import test events from h5 file\n",
    "data_path = \"/fast_scratch/WatChMaL/data/IWCD_mPMT_Short_emg_E0to1000MeV_digihits.h5\"\n",
    "data_file = h5py.File(data_path, \"r\")\n",
    "\n",
    "print(data_file.keys())\n",
    "\n",
    "energies   = np.array(data_file['energies'])\n",
    "angles     = np.array(data_file['angles'])\n",
    "positions  = np.array(data_file['positions'])\n",
    "labels     = np.array(data_file['labels'])"
   ]
  },
  {
   "cell_type": "code",
   "execution_count": 19,
   "metadata": {},
   "outputs": [
    {
     "name": "stdout",
     "output_type": "stream",
     "text": [
      "Done test info\n"
     ]
    }
   ],
   "source": [
    "idxs_path = '/fast_scratch/WatChMaL/data/IWCD_mPMT_Short_3M_idxs.npz'\n",
    "idxs = np.load(idxs_path, allow_pickle=True)\n",
    "\n",
    "test_idxs  = idxs['test_idxs']\n",
    "\n",
    "test_angles    = angles[test_idxs]\n",
    "test_energies  = energies[test_idxs]\n",
    "test_positions = positions[test_idxs]\n",
    "test_labels    = labels[test_idxs]\n",
    "test_info = {'name':'Test Set','energies':test_energies,'positions':test_positions, 'angles':test_angles, 'labels':test_labels}\n",
    "\n",
    "print(\"Done test info\")"
   ]
  },
  {
   "cell_type": "code",
   "execution_count": 20,
   "metadata": {},
   "outputs": [],
   "source": [
    "d_to_wall = np.load('./fq_comparison_data/3M_d_to_wall.npz', allow_pickle=True)\n",
    "\n",
    "test_d_to_wall  = d_to_wall['test_d_to_wall']\n",
    "\n",
    "test_d_to_wall = remove_indices(test_d_to_wall, cut_to_apply)"
   ]
  },
  {
   "cell_type": "code",
   "execution_count": 21,
   "metadata": {},
   "outputs": [],
   "source": [
    "true_mom = np.load('./fq_comparison_data/3M_momenta.npz', allow_pickle=True)\n",
    "\n",
    "test_true_mom  = true_mom['test_momenta']\n",
    "\n",
    "test_true_mom = remove_indices(test_true_mom, cut_to_apply)"
   ]
  },
  {
   "cell_type": "code",
   "execution_count": 22,
   "metadata": {},
   "outputs": [],
   "source": [
    "filtered_fq_mom = remove_indices(fq_mom, cut_to_apply)"
   ]
  },
  {
   "cell_type": "code",
   "execution_count": 23,
   "metadata": {},
   "outputs": [
    {
     "name": "stdout",
     "output_type": "stream",
     "text": [
      "(3524482, 1)\n"
     ]
    }
   ],
   "source": [
    "print(test_energies.shape)"
   ]
  },
  {
   "cell_type": "code",
   "execution_count": 24,
   "metadata": {},
   "outputs": [],
   "source": [
    "filtered_test_energies  = remove_indices(test_energies, cut_to_apply)"
   ]
  },
  {
   "cell_type": "code",
   "execution_count": 25,
   "metadata": {},
   "outputs": [
    {
     "name": "stdout",
     "output_type": "stream",
     "text": [
      "Energy bins:  [   1.4282632  130.18697    258.94568    387.70438    516.4631\n",
      "  645.2218     773.98047    902.7392    1031.4979    1160.2566   ]\n",
      "Distance to wall bins:  [ 50.09834499 147.02997846 243.96161194 340.89324541 437.82487889\n",
      " 534.75651236 631.68814584 728.61977932 825.55141279 922.48304627]\n"
     ]
    }
   ],
   "source": [
    "# bin energy data\n",
    "energy_hist, energy_bins = np.histogram(test_energies, bins=9)\n",
    "print(\"Energy bins: \", energy_bins)\n",
    "\n",
    "# bin d to wall data\n",
    "d_to_wall_hist, d_to_wall_bins = np.histogram(test_d_to_wall, bins=9)\n",
    "print(\"Distance to wall bins: \", d_to_wall_bins)\n"
   ]
  },
  {
   "cell_type": "markdown",
   "metadata": {},
   "source": [
    "## Generate plots"
   ]
  },
  {
   "cell_type": "code",
   "execution_count": 26,
   "metadata": {},
   "outputs": [
    {
     "ename": "TypeError",
     "evalue": "plot_momentum_binned_performance() got multiple values for keyword argument 'plot_bins'",
     "output_type": "error",
     "traceback": [
      "\u001b[0;31m---------------------------------------------------------------------------\u001b[0m",
      "\u001b[0;31mTypeError\u001b[0m                                 Traceback (most recent call last)",
      "\u001b[0;32m<ipython-input-26-f4e6bb920355>\u001b[0m in \u001b[0;36m<module>\u001b[0;34m\u001b[0m\n\u001b[1;32m      1\u001b[0m \u001b[0mfig\u001b[0m\u001b[0;34m,\u001b[0m \u001b[0maxes\u001b[0m \u001b[0;34m=\u001b[0m \u001b[0mplt\u001b[0m\u001b[0;34m.\u001b[0m\u001b[0msubplots\u001b[0m\u001b[0;34m(\u001b[0m\u001b[0;36m1\u001b[0m\u001b[0;34m,\u001b[0m\u001b[0;36m1\u001b[0m\u001b[0;34m,\u001b[0m\u001b[0mfigsize\u001b[0m\u001b[0;34m=\u001b[0m\u001b[0;34m(\u001b[0m\u001b[0;36m9\u001b[0m\u001b[0;34m,\u001b[0m\u001b[0;36m5\u001b[0m\u001b[0;34m)\u001b[0m\u001b[0;34m,\u001b[0m \u001b[0mfacecolor\u001b[0m\u001b[0;34m=\u001b[0m\u001b[0;34m'w'\u001b[0m\u001b[0;34m)\u001b[0m\u001b[0;34m\u001b[0m\u001b[0;34m\u001b[0m\u001b[0m\n\u001b[1;32m      2\u001b[0m \u001b[0;34m\u001b[0m\u001b[0m\n\u001b[0;32m----> 3\u001b[0;31m plot_fitqun_binned_performance(scores                 = short_softmax[1][:,1], \n\u001b[0m\u001b[1;32m      4\u001b[0m                                \u001b[0mlabels\u001b[0m                 \u001b[0;34m=\u001b[0m \u001b[0mshort_labels\u001b[0m\u001b[0;34m[\u001b[0m\u001b[0;36m1\u001b[0m\u001b[0;34m]\u001b[0m\u001b[0;34m,\u001b[0m\u001b[0;34m\u001b[0m\u001b[0;34m\u001b[0m\u001b[0m\n\u001b[1;32m      5\u001b[0m                                \u001b[0mreconstructed_momentum\u001b[0m \u001b[0;34m=\u001b[0m \u001b[0mfiltered_fq_mom\u001b[0m\u001b[0;34m,\u001b[0m\u001b[0;34m\u001b[0m\u001b[0;34m\u001b[0m\u001b[0m\n",
      "\u001b[0;32m~/WatChMaL_analysis/WatChMaL/analysis/performance_analysis_plot_utils.py\u001b[0m in \u001b[0;36mplot_fitqun_binned_performance\u001b[0;34m(axes, **kwargs)\u001b[0m\n\u001b[1;32m     21\u001b[0m         \u001b[0mfig\u001b[0m\u001b[0;34m,\u001b[0m \u001b[0maxes\u001b[0m \u001b[0;34m=\u001b[0m \u001b[0mplt\u001b[0m\u001b[0;34m.\u001b[0m\u001b[0msubplots\u001b[0m\u001b[0;34m(\u001b[0m\u001b[0;36m1\u001b[0m\u001b[0;34m,\u001b[0m\u001b[0;36m2\u001b[0m\u001b[0;34m,\u001b[0m\u001b[0mfigsize\u001b[0m\u001b[0;34m=\u001b[0m\u001b[0;34m(\u001b[0m\u001b[0;36m18\u001b[0m\u001b[0;34m,\u001b[0m\u001b[0;36m9\u001b[0m\u001b[0;34m)\u001b[0m\u001b[0;34m,\u001b[0m \u001b[0mfacecolor\u001b[0m\u001b[0;34m=\u001b[0m\u001b[0;34m'w'\u001b[0m\u001b[0;34m)\u001b[0m\u001b[0;34m\u001b[0m\u001b[0;34m\u001b[0m\u001b[0m\n\u001b[1;32m     22\u001b[0m \u001b[0;34m\u001b[0m\u001b[0m\n\u001b[0;32m---> 23\u001b[0;31m     \u001b[0mplot_momentum_binned_performance\u001b[0m\u001b[0;34m(\u001b[0m\u001b[0mmetric\u001b[0m\u001b[0;34m=\u001b[0m\u001b[0;34m'efficiency'\u001b[0m\u001b[0;34m,\u001b[0m \u001b[0myrange\u001b[0m\u001b[0;34m=\u001b[0m\u001b[0;34m[\u001b[0m\u001b[0;36m0.7\u001b[0m\u001b[0;34m,\u001b[0m \u001b[0;36m1.1\u001b[0m\u001b[0;34m]\u001b[0m\u001b[0;34m,\u001b[0m \u001b[0mxrange\u001b[0m\u001b[0;34m=\u001b[0m\u001b[0;34m[\u001b[0m\u001b[0;36m0\u001b[0m\u001b[0;34m,\u001b[0m \u001b[0;36m1000\u001b[0m\u001b[0;34m]\u001b[0m\u001b[0;34m,\u001b[0m \u001b[0mplot_bins\u001b[0m\u001b[0;34m=\u001b[0m\u001b[0;32mNone\u001b[0m\u001b[0;34m,\u001b[0m \u001b[0max\u001b[0m\u001b[0;34m=\u001b[0m\u001b[0maxes\u001b[0m\u001b[0;34m[\u001b[0m\u001b[0;36m0\u001b[0m\u001b[0;34m]\u001b[0m\u001b[0;34m,\u001b[0m \u001b[0;34m**\u001b[0m\u001b[0mkwargs\u001b[0m\u001b[0;34m)\u001b[0m\u001b[0;34m\u001b[0m\u001b[0;34m\u001b[0m\u001b[0m\n\u001b[0m\u001b[1;32m     24\u001b[0m \u001b[0;34m\u001b[0m\u001b[0m\n\u001b[1;32m     25\u001b[0m     \u001b[0mplot_momentum_binned_performance\u001b[0m\u001b[0;34m(\u001b[0m\u001b[0mmetric\u001b[0m\u001b[0;34m=\u001b[0m\u001b[0;34m'fpr'\u001b[0m\u001b[0;34m,\u001b[0m \u001b[0myrange\u001b[0m\u001b[0;34m=\u001b[0m\u001b[0;34m[\u001b[0m\u001b[0;36m0\u001b[0m\u001b[0;34m,\u001b[0m \u001b[0;36m0.01\u001b[0m\u001b[0;34m]\u001b[0m\u001b[0;34m,\u001b[0m \u001b[0mxrange\u001b[0m\u001b[0;34m=\u001b[0m\u001b[0;34m[\u001b[0m\u001b[0;36m0\u001b[0m\u001b[0;34m,\u001b[0m \u001b[0;36m1000\u001b[0m\u001b[0;34m]\u001b[0m\u001b[0;34m,\u001b[0m \u001b[0mplot_bins\u001b[0m\u001b[0;34m=\u001b[0m\u001b[0;32mNone\u001b[0m\u001b[0;34m,\u001b[0m \u001b[0max\u001b[0m\u001b[0;34m=\u001b[0m\u001b[0maxes\u001b[0m\u001b[0;34m[\u001b[0m\u001b[0;36m1\u001b[0m\u001b[0;34m]\u001b[0m\u001b[0;34m,\u001b[0m \u001b[0;34m**\u001b[0m\u001b[0mkwargs\u001b[0m\u001b[0;34m)\u001b[0m\u001b[0;34m\u001b[0m\u001b[0;34m\u001b[0m\u001b[0m\n",
      "\u001b[0;31mTypeError\u001b[0m: plot_momentum_binned_performance() got multiple values for keyword argument 'plot_bins'"
     ]
    },
    {
     "data": {
      "image/png": "[encoded data removed]",
      "text/plain": [
       "<Figure size 648x360 with 1 Axes>"
      ]
     },
     "metadata": {},
     "output_type": "display_data"
    },
    {
     "data": {
      "image/png": "[encoded data removed]",
      "text/plain": [
       "<Figure size 1296x648 with 2 Axes>"
      ]
     },
     "metadata": {},
     "output_type": "display_data"
    }
   ],
   "source": [
    "fig, axes = plt.subplots(1,1,figsize=(9,5), facecolor='w')\n",
    "\n",
    "plot_fitqun_binned_performance(scores                 = short_softmax[1][:,1], \n",
    "                               labels                 = short_labels[1],\n",
    "                               reconstructed_momentum = filtered_fq_mom, \n",
    "                               fpr_fixed_point        = 0.005, \n",
    "                               index_dict             = label_dict, \n",
    "                               recons_mom_bin_size    = 50, \n",
    "                               plot_bins              = 20, \n",
    "                               ax                     = axes,\n",
    "                               marker                 = 'o--',\n",
    "                               color                  = 'g',\n",
    "                               title_note             = '',\n",
    "                               metric                 = 'efficiency',\n",
    "                               yrange                 = [0, 1])\n",
    "\n",
    "plot_fitqun_binned_performance(scores                 = 1 - short_softmax[0][:,2], #short_softmax[0][:,0] + short_softmax[0][:,1], \n",
    "                               labels                 = short_labels[0], \n",
    "                               reconstructed_momentum = filtered_fq_mom,\n",
    "                               fpr_fixed_point        = 0.005, \n",
    "                               index_dict             = label_dict, \n",
    "                               recons_mom_bin_size    = 50, \n",
    "                               plot_bins              = 20, \n",
    "                               ax                     = axes,\n",
    "                               marker                 = 'o--',\n",
    "                               color                  = 'r',\n",
    "                               title_note             = '',\n",
    "                               metric                 = 'efficiency',\n",
    "                               yrange                 = [0, 1.1])\n",
    "\n",
    "\n",
    "axes.legend(['FiTQun','ResNet (P(e-) + P(\\u03B3))'])"
   ]
  },
  {
   "cell_type": "code",
   "execution_count": null,
   "metadata": {},
   "outputs": [],
   "source": [
    "fig, axes = plt.subplots(1,2,figsize=(18,9), facecolor='w')\n",
    "\n",
    "ax = axes[0]\n",
    "\n",
    "plot_fitqun_binned_performance(scores                 = short_softmax[1][:,1], \n",
    "                               labels                 = short_labels[1], \n",
    "                               reconstructed_momentum = filtered_fq_mom,\n",
    "                               fpr_fixed_point        = 0.005, \n",
    "                               index_dict             = label_dict, \n",
    "                               recons_mom_bin_size    = 50,\n",
    "                               ax                     = ax,\n",
    "                               marker                 = 'o--',\n",
    "                               color                  = 'g',\n",
    "                               title_note             = '',\n",
    "                               metric                 = 'efficiency',\n",
    "                               yrange                 = [0.7, 1.1],\n",
    "                               xrange                 = [0, 1000]\n",
    "                              )\n",
    "\n",
    "plot_fitqun_binned_performance(scores                 = short_softmax[0][:,0] + short_softmax[0][:,1], \n",
    "                               labels                 = short_labels[0],\n",
    "                               reconstructed_momentum = filtered_fq_mom,\n",
    "                               fpr_fixed_point        = 0.005, \n",
    "                               index_dict             = label_dict, \n",
    "                               recons_mom_bin_size    = 50, \n",
    "                               ax                     = ax,\n",
    "                               marker                 = 'o--',\n",
    "                               color                  = 'r',\n",
    "                               title_note             = '',\n",
    "                               metric                 = 'efficiency',\n",
    "                               yrange                 = [0.7, 1.1],\n",
    "                               xrange                 = [0, 1000]\n",
    "                              )\n",
    "\n",
    "\n",
    "ax.legend(['FiTQun','ResNet (P(e-) + P(\\u03B3))'])\n",
    "\n",
    "ax = axes[1]\n",
    "\n",
    "plot_fitqun_binned_performance(scores                 = short_softmax[0][:,0] + short_softmax[0][:,1], \n",
    "                               labels                 = short_labels[0],\n",
    "                               reconstructed_momentum = filtered_fq_mom,\n",
    "                               fpr_fixed_point        = 0.005, \n",
    "                               index_dict             = label_dict, \n",
    "                               recons_mom_bin_size    = 50,\n",
    "                               ax                     = ax,\n",
    "                               marker                 = 'o--',\n",
    "                               color                  = 'r',\n",
    "                               title_note             = '',\n",
    "                               metric                 = 'mu fpr',\n",
    "                               yrange                 = [0, 0.01],\n",
    "                               xrange                 = [0, 1000]\n",
    "                                         )\n",
    "\n",
    "plot_fitqun_binned_performance(scores                 = short_softmax[1][:,1], \n",
    "                               labels                 = short_labels[1],\n",
    "                               reconstructed_momentum = filtered_fq_mom,\n",
    "                               fpr_fixed_point        = 0.005, \n",
    "                               index_dict             = label_dict, \n",
    "                               recons_mom_bin_size    = 50, \n",
    "                               ax                     = ax,\n",
    "                               marker                 = 'o--',\n",
    "                               color                  = 'g',\n",
    "                               title_note             = '',\n",
    "                               metric                 = 'mu fpr',\n",
    "                               yrange                 = [0, 0.01],\n",
    "                               xrange                 = [0, 1000]\n",
    "                                         )\n",
    "\n",
    "ax.legend(['ResNet (P(e-) + P(\\u03B3))', 'FiTQun'])"
   ]
  },
  {
   "cell_type": "code",
   "execution_count": null,
   "metadata": {},
   "outputs": [],
   "source": [
    "fig, axes = plt.subplots(1,2,figsize=(18,9), facecolor='w')\n",
    "\n",
    "ax = axes[0]\n",
    "\n",
    "deprecated_plot_fitqun_binned_performance(scores                 = short_softmax[1][:,1], \n",
    "                               labels                 = short_labels[1], \n",
    "                               true_momentum          = filtered_fq_mom, \n",
    "                               reconstructed_momentum = filtered_fq_mom, #np.clip(filtered_fq_mom,0,1160), \n",
    "                               fpr_fixed_point        = 0.005, \n",
    "                               index_dict             = label_dict, \n",
    "                               recons_mom_bin_size    = 50, \n",
    "                               true_mom_bins          = 10, \n",
    "                               ax                     = ax,\n",
    "                               marker                 = 'o--',\n",
    "                               color                  = 'g',\n",
    "                               title_note             = '',\n",
    "                               metric                 = 'efficiency',\n",
    "                               yrange                 = [0.7, 1])\n",
    "\n",
    "deprecated_plot_fitqun_binned_performance(scores                 = short_softmax[0][:,0] + short_softmax[0][:,1], \n",
    "                               labels                 = short_labels[0], \n",
    "                               true_momentum          = filtered_fq_mom, \n",
    "                               reconstructed_momentum = filtered_fq_mom, #np.clip(filtered_fq_mom,0,1160), \n",
    "                               fpr_fixed_point        = 0.005, \n",
    "                               index_dict             = label_dict, \n",
    "                               recons_mom_bin_size    = 50, \n",
    "                               true_mom_bins          = 20, \n",
    "                               ax                     = ax,\n",
    "                               marker                 = 'o--',\n",
    "                               color                  = 'r',\n",
    "                               title_note             = '',\n",
    "                               metric                 = 'efficiency',\n",
    "                               yrange                 = [0.7, 1.1])\n",
    "\n",
    "\n",
    "ax.legend(['FiTQun','ResNet (P(e-) + P(\\u03B3))'])\n",
    "\n",
    "ax = axes[1]\n",
    "\n",
    "deprecated_plot_fitqun_binned_performance(scores                 = short_softmax[0][:,0] + short_softmax[0][:,1], \n",
    "                               labels                 = short_labels[0], \n",
    "                               true_momentum          = filtered_fq_mom, \n",
    "                               reconstructed_momentum = filtered_fq_mom, #np.clip(filtered_fq_mom,0,1160), \n",
    "                               fpr_fixed_point        = 0.005, \n",
    "                               index_dict             = label_dict, \n",
    "                               recons_mom_bin_size    = 50, \n",
    "                               true_mom_bins          = 10, \n",
    "                               ax                     = ax,\n",
    "                               marker                 = 'o--',\n",
    "                               color                  = 'r',\n",
    "                               title_note             = '',\n",
    "                               metric                 = 'mu fpr',\n",
    "                               yrange                 = [0, 0.01]\n",
    "                                         )\n",
    "\n",
    "deprecated_plot_fitqun_binned_performance(scores                 = short_softmax[1][:,1], \n",
    "                               labels                 = short_labels[1], \n",
    "                               true_momentum          = filtered_fq_mom, \n",
    "                               reconstructed_momentum = filtered_fq_mom, #np.clip(filtered_fq_mom,0,1160), \n",
    "                               fpr_fixed_point        = 0.005, \n",
    "                               index_dict             = label_dict, \n",
    "                               recons_mom_bin_size    = 50, \n",
    "                               true_mom_bins          = 10, \n",
    "                               ax                     = ax,\n",
    "                               marker                 = 'o--',\n",
    "                               color                  = 'g',\n",
    "                               title_note             = '',\n",
    "                               metric                 = 'mu fpr',\n",
    "                               yrange                 = [0, 0.01]\n",
    "                                         )\n",
    "\n",
    "ax.legend(['ResNet (P(e-) + P(\\u03B3))', 'FiTQun'])"
   ]
  },
  {
   "cell_type": "code",
   "execution_count": null,
   "metadata": {},
   "outputs": [],
   "source": [
    "fig, axes = plt.subplots(1,1,figsize=(9,5), facecolor='w')\n",
    "\n",
    "\n",
    "deprecated_plot_fitqun_binned_performance(scores                 = short_softmax[0][:,0] + short_softmax[0][:,1], \n",
    "                               labels                 = short_labels[0], \n",
    "                               true_momentum          = filtered_fq_mom, \n",
    "                               reconstructed_momentum = filtered_fq_mom, #np.clip(filtered_fq_mom,0,1160), \n",
    "                               fpr_fixed_point        = 0.005, \n",
    "                               index_dict             = label_dict, \n",
    "                               recons_mom_bin_size    = 50, \n",
    "                               true_mom_bins          = 10, \n",
    "                               ax                     = axes,\n",
    "                               marker                 = 'o--',\n",
    "                               color                  = 'r',\n",
    "                               title_note             = '',\n",
    "                               metric                 = 'mu fpr',\n",
    "                               yrange                 = [0, 0.01]\n",
    "                                         )\n",
    "\n",
    "deprecated_plot_fitqun_binned_performance(scores                 = short_softmax[1][:,1], \n",
    "                               labels                 = short_labels[1], \n",
    "                               true_momentum          = filtered_fq_mom, \n",
    "                               reconstructed_momentum = filtered_fq_mom, #np.clip(filtered_fq_mom,0,1160), \n",
    "                               fpr_fixed_point        = 0.005, \n",
    "                               index_dict             = label_dict, \n",
    "                               recons_mom_bin_size    = 50, \n",
    "                               true_mom_bins          = 10, \n",
    "                               ax                     = axes,\n",
    "                               marker                 = 'o--',\n",
    "                               color                  = 'g',\n",
    "                               title_note             = '',\n",
    "                               metric                 = 'mu fpr',\n",
    "                               yrange                 = [0, 0.01]\n",
    "                                         )\n",
    "\n",
    "axes.legend(['ResNet (P(e-) + P(\\u03B3))', 'FiTQun'])"
   ]
  },
  {
   "cell_type": "code",
   "execution_count": null,
   "metadata": {},
   "outputs": [],
   "source": [
    "fig, axes = plt.subplots(1,1,figsize=(9,5), facecolor='w')\n",
    "\n",
    "deprecated_plot_fitqun_binned_performance(scores                 = short_softmax[1][:,1], \n",
    "                               labels                 = short_labels[1], \n",
    "                               true_momentum          = filtered_fq_mom, \n",
    "                               reconstructed_momentum = filtered_fq_mom, #np.clip(filtered_fq_mom,0,1160), \n",
    "                               fpr_fixed_point        = 0.005, \n",
    "                               index_dict             = label_dict, \n",
    "                               recons_mom_bin_size    = 50, \n",
    "                               true_mom_bins          = 10, \n",
    "                               ax                     = axes,\n",
    "                               marker                 = 'o--',\n",
    "                               color                  = 'g',\n",
    "                               title_note             = '',\n",
    "                               metric                 = 'mu fpr',\n",
    "                               yrange                 = [0, 0.01]\n",
    "                                         )\n",
    "\n",
    "\n",
    "axes.legend(['FiTQun','ResNet (P(e-) + P(\\u03B3))'])"
   ]
  },
  {
   "cell_type": "code",
   "execution_count": null,
   "metadata": {},
   "outputs": [],
   "source": [
    "fig, axes = plt.subplots(1,1,figsize=(9,5), facecolor='w')\n",
    "\n",
    "deprecated_plot_fitqun_binned_performance(scores                 = short_softmax[0][:,0] + short_softmax[0][:,1], \n",
    "                               labels                 = short_labels[0], \n",
    "                               true_momentum          = filtered_fq_mom, \n",
    "                               reconstructed_momentum = filtered_fq_mom, #np.clip(filtered_fq_mom,0,1160), \n",
    "                               fpr_fixed_point        = 0.005, \n",
    "                               index_dict             = label_dict, \n",
    "                               recons_mom_bin_size    = 50, \n",
    "                               true_mom_bins          = 10, \n",
    "                               ax                     = axes,\n",
    "                               marker                 = 'o--',\n",
    "                               color                  = 'r',\n",
    "                               title_note             = '',\n",
    "                               metric                 = 'mu fpr',\n",
    "                               yrange                 = [0, 0.01]\n",
    "                                         )\n",
    "\n",
    "axes.legend(['FiTQun','ResNet (P(e-) + P(\\u03B3))'])"
   ]
  }
 ],
 "metadata": {
  "kernelspec": {
   "display_name": "Python 3",
   "language": "python",
   "name": "python3"
  },
  "language_info": {
   "codemirror_mode": {
    "name": "ipython",
    "version": 3
   },
   "file_extension": ".py",
   "mimetype": "text/x-python",
   "name": "python",
   "nbconvert_exporter": "python",
   "pygments_lexer": "ipython3",
   "version": "3.8.5"
  }
 },
 "nbformat": 4,
 "nbformat_minor": 4
}
